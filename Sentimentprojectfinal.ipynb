{
 "cells": [
  {
   "cell_type": "code",
   "execution_count": 5,
   "metadata": {
    "colab": {
     "base_uri": "https://localhost:8080/",
     "height": 306
    },
    "colab_type": "code",
    "id": "IB2d-0HNyXAG",
    "outputId": "2358a14d-d843-4af7-b730-ba09a837f3cd"
   },
   "outputs": [
    {
     "name": "stdout",
     "output_type": "stream",
     "text": [
      "Sentiment Analysis Project !! \n"
     ]
    }
   ],
   "source": [
    "print('Sentiment Analysis Project !! ')\n"
   ]
  },
  {
   "cell_type": "code",
   "execution_count": 7,
   "metadata": {
    "colab": {},
    "colab_type": "code",
    "id": "hdWTeRlSyXAU"
   },
   "outputs": [],
   "source": [
    "import tweepy\n",
    "from textblob import TextBlob\n",
    "from wordcloud import WordCloud\n",
    "import numpy as np\n",
    "import pandas as pd\n",
    "import re\n",
    "import matplotlib.pyplot as plt\n",
    "plt.style.use('fivethirtyeight')"
   ]
  },
  {
   "cell_type": "code",
   "execution_count": 11,
   "metadata": {
    "colab": {},
    "colab_type": "code",
    "id": "lV2JuMcKyXAZ"
   },
   "outputs": [],
   "source": [
    "log = pd.read_csv(\"C:/Users/Abc/Documents/Python work/Final Project Submission/Login.csv\")\n",
    "\n",
    "consumerkey=log['key'][0]\n",
    "consumersecret=log['key'][1]\n",
    "accesstoken=log['key'][2]\n",
    "accesstokensecret=log['key'][3]"
   ]
  },
  {
   "cell_type": "code",
   "execution_count": 12,
   "metadata": {
    "colab": {},
    "colab_type": "code",
    "id": "RE4hx4TGyXAd"
   },
   "outputs": [],
   "source": [
    "authenticate =tweepy.OAuthHandler(consumerkey,consumersecret)\n",
    "authenticate.set_access_token(accesstoken,accesstokensecret)\n",
    "\n",
    "api=tweepy.API(authenticate,wait_on_rate_limit=True)"
   ]
  },
  {
   "cell_type": "code",
   "execution_count": 13,
   "metadata": {
    "colab": {
     "base_uri": "https://localhost:8080/",
     "height": 50
    },
    "colab_type": "code",
    "id": "qUl5FScIyXAo",
    "outputId": "c218cb65-b79e-4cca-912a-3e859fd0790d"
   },
   "outputs": [
    {
     "name": "stdout",
     "output_type": "stream",
     "text": [
      "enter keyword/hashtag to be searched about : ram mandir\n",
      "Enter how many tweets to analyse : 2000\n",
      "recent posts\n",
      "1)What unrest spreading Muzlims don't like\n",
      "👉Shaheen Bagh activist joins #BJP\n",
      "👉UAE-Israel #peace deal\n",
      "👉Ram Mandir\n",
      "👉 #370 Scrapped\n",
      "\n",
      "but they like\n",
      "👉 #HagiaSophia first church then museum's conversion to mosque\n",
      "👉 #DelhiRiots\n",
      "👉 #BangluruRiots \n",
      "👉Shaheen Bagh Hijack https://t.co/EFBOWiAlUF\n",
      "\n",
      "2)@khanumarfa By building Ram Mandir\n",
      "Melting Liberals \n",
      "And distributing Burnol \n",
      "to people like you\n",
      "\n",
      "3)@frontierindica yeah obviously will do. Those places i mentioned were quite long back. \n",
      "Chota Char Dham, Bada char dham, 12 Jyotirlingas, all in bucket list. \n",
      "Have visited Krishna Janmabhoomi, waiting for Ram mandir.\n",
      "\n",
      "4)@mirza_sam_khans @ApoorvT99895263 Modi's development -\n",
      "\n",
      "Demonetization\n",
      "GST\n",
      "CAA/NRC\n",
      "Ram Mandir\n",
      "Article 370 which lead to Kashmir lockdown for more than a year which is completely barbaric \n",
      "\n",
      "6 years of useless PM\n",
      "\n",
      "5)@Lonewolf_Tiger @Muralik79739498 @tripathisam2020 @vivekshettym If there is any proof of mandir at the site of mosque..religiously we are bound to give back that place to the rightful claim..our prayers at such places are not acceptable..\n",
      "Point i want to make is that This Ram janam bhoomi thing is a totally political issue.\n",
      "\n",
      "6)@Abcddddefgss @TrulyMonica Hagia Sophia is one of UNESCO's cultural heritage site.\n",
      "If Ram Mandir case was to be judged by ownership of land, It may have gone to Muslims.\n",
      "But these have a huge symbolic value and this was a murderous take by him\n",
      "\n",
      "7)@SmartLo01367432 @moi_bahrain It's a fake propaganda. \n",
      "It was a RAM Mandir since 1000's of year. \n",
      "And we all know the history as how &amp; who it was broken &amp; structure was built over it. \n",
      "100's of Historical evidences are available to prove this including archeological evidences, which help to decide by court.\n",
      "\n",
      "8)@KapilMishra_IND They are planning their move.\n",
      "One thing I like about Amir. At least he has made his inclinations known openly. How many Hindu actors will do it! When Ram Mandir foundation stone laying ceremony was done how many Hindu actors or Bollywood personalities had paid their respects?\n",
      "\n",
      "9)@rahulc78 @DostKhan_Jammu @AmitShah @BJP4India Have Patience..Have Faith in BJP\n",
      "Systems can’t be changed overnight.!\n",
      "65yrs of mess is been getting solved in last 6yrs..Article370,35A, Ram Mandir, Infrastructure, Demonetization, Blackmoney, Smuggling, Border Issues,Terrorism, Economy, State Politics...issues r many, all solved\n",
      "\n",
      "10)@rsprasad After Ram Mandir it seems BJP forgot preaching of Ramayan. \n",
      "                      अहंकार\n",
      "\n"
     ]
    }
   ],
   "source": [
    "\n",
    "searchTerm = input(\"enter keyword/hashtag to be searched about : \")\n",
    "noofsearch = int(input(\"Enter how many tweets to analyse : \"))\n",
    "\n",
    "post= api.search(q = searchTerm +\" -filter:retweets\", count = noofsearch, lang= \"en\", tweet_mode= \"extended\")\n",
    "print('recent posts')\n",
    "i=1\n",
    "for tweet in post [0:10]:\n",
    "    print(str(i) + ')' + tweet.full_text + '\\n')\n",
    "    i=i+1"
   ]
  },
  {
   "cell_type": "markdown",
   "metadata": {
    "colab_type": "text",
    "id": "TZjSz67yyXBB"
   },
   "source": [
    "header_list = [\"Tweets\"]\n",
    "df = pd.read_csv('tweet.csv',names=header_list)"
   ]
  },
  {
   "cell_type": "code",
   "execution_count": 15,
   "metadata": {
    "colab": {
     "base_uri": "https://localhost:8080/",
     "height": 34
    },
    "colab_type": "code",
    "id": "In-duIUHyXBC",
    "outputId": "703f8f1f-13e6-4fd2-89fc-6a5c15ecd6b2"
   },
   "outputs": [
    {
     "data": {
      "text/plain": [
       "(63, 6)"
      ]
     },
     "execution_count": 15,
     "metadata": {},
     "output_type": "execute_result"
    }
   ],
   "source": [
    "df=pd.DataFrame([tweet.full_text for tweet in post], columns=['tweets'])\n",
    "df['id'] = np.array([tweet.id for tweet in post])\n",
    "df['date'] = np.array([tweet.created_at for tweet in post])\n",
    "df['source'] = np.array([tweet.source for tweet in post])\n",
    "df['likes'] = np.array([tweet.favorite_count for tweet in post])\n",
    "df['retweets'] = np.array([tweet.retweet_count for tweet in post])\n",
    "\n",
    "\n",
    "\n",
    "df.to_csv('tweets_exported.csv', encoding='utf-8')\n",
    "df.head()\n",
    "df.shape\n",
    "    \n",
    "\n"
   ]
  },
  {
   "cell_type": "code",
   "execution_count": 16,
   "metadata": {
    "colab": {},
    "colab_type": "code",
    "id": "KlBTc_U4yXBJ"
   },
   "outputs": [],
   "source": [
    "#clean data\n",
    "def clean(text):\n",
    "    text=re.sub(r'@[A-Za-z0-9]+', '', text) #remove tags\n",
    "    text=re.sub(r'# ','', text) #remove hashtags\n",
    "    text=re.sub(r'RT[\\s]+','', text) #remove retweets\n",
    "    text=re.sub(r'https?:\\/\\/\\S','', text) #remove hyperlinks\n",
    "    \n",
    "    return text\n",
    "\n",
    "punctuation = '!\"#$%&\\'()*+,-./:;<=>?@[\\\\]^_`{|}~'\n",
    "def remove_punct(text):\n",
    "    text  = \"\".join([char for char in text if char not in punctuation])\n",
    "    text = re.sub('[0-9]+', '', text)\n",
    "    return text\n",
    "\n",
    "df['tweets']= df['tweets'].apply(clean)\n",
    "df['tweets'] = df['tweets'].apply(lambda x: remove_punct(x))\n",
    "\n",
    "df.head(10)\n",
    "\n",
    "df.to_csv('tweets_exported_cleaned.csv', encoding='utf-8')\n",
    "    "
   ]
  },
  {
   "cell_type": "code",
   "execution_count": 17,
   "metadata": {
    "colab": {
     "base_uri": "https://localhost:8080/",
     "height": 188
    },
    "colab_type": "code",
    "id": "5AKpv3xmopFE",
    "outputId": "bcd3e583-53af-4e2f-adac-27034e3a46bc"
   },
   "outputs": [
    {
     "name": "stdout",
     "output_type": "stream",
     "text": [
      "Collecting HTMLParser\n",
      "  Downloading HTMLParser-0.0.2.tar.gz (6.0 kB)\n",
      "Building wheels for collected packages: HTMLParser\n",
      "  Building wheel for HTMLParser (setup.py): started\n",
      "  Building wheel for HTMLParser (setup.py): finished with status 'done'\n",
      "  Created wheel for HTMLParser: filename=HTMLParser-0.0.2-py3-none-any.whl size=5990 sha256=9d6fe05613f4e8edcd0d43447e8e41fdb34b2c8bc5fd29112ac911d1afca36c8\n",
      "  Stored in directory: c:\\users\\abc\\appdata\\local\\pip\\cache\\wheels\\9f\\7b\\64\\cf65da15e5a30eddb638171572e3a9ea32f739d488d5b16fac\n",
      "Successfully built HTMLParser\n",
      "Installing collected packages: HTMLParser\n",
      "Successfully installed HTMLParser-0.0.2\n"
     ]
    }
   ],
   "source": [
    "!pip install HTMLParser\n"
   ]
  },
  {
   "cell_type": "code",
   "execution_count": 18,
   "metadata": {
    "colab": {
     "base_uri": "https://localhost:8080/",
     "height": 70
    },
    "colab_type": "code",
    "id": "vcRutyqeoTfR",
    "outputId": "550f5352-c0da-4f07-923c-b065d9845e47"
   },
   "outputs": [
    {
     "name": "stderr",
     "output_type": "stream",
     "text": [
      "<ipython-input-18-6e5f8d9044d5>:4: DeprecationWarning: The unescape method is deprecated and will be removed in 3.5, use html.unescape() instead.\n",
      "  df['tweets'] = html_parser.unescape(df['tweets'])\n"
     ]
    }
   ],
   "source": [
    "from html.parser import HTMLParser\n",
    "#import markupbase\n",
    "html_parser = HTMLParser()\n",
    "df['tweets'] = html_parser.unescape(df['tweets'])\n",
    "df.to_csv('tweets_exported_cleaned_htmlparsing.csv', encoding='utf-8')"
   ]
  },
  {
   "cell_type": "code",
   "execution_count": 19,
   "metadata": {
    "colab": {
     "base_uri": "https://localhost:8080/",
     "height": 380
    },
    "colab_type": "code",
    "id": "VAvHhP6jyXBM",
    "outputId": "8628228e-a0b2-4c89-dffd-e2e3570f2d41"
   },
   "outputs": [
    {
     "data": {
      "text/html": [
       "<div>\n",
       "<style scoped>\n",
       "    .dataframe tbody tr th:only-of-type {\n",
       "        vertical-align: middle;\n",
       "    }\n",
       "\n",
       "    .dataframe tbody tr th {\n",
       "        vertical-align: top;\n",
       "    }\n",
       "\n",
       "    .dataframe thead th {\n",
       "        text-align: right;\n",
       "    }\n",
       "</style>\n",
       "<table border=\"1\" class=\"dataframe\">\n",
       "  <thead>\n",
       "    <tr style=\"text-align: right;\">\n",
       "      <th></th>\n",
       "      <th>tweets</th>\n",
       "      <th>id</th>\n",
       "      <th>date</th>\n",
       "      <th>source</th>\n",
       "      <th>likes</th>\n",
       "      <th>retweets</th>\n",
       "      <th>Subjectivity</th>\n",
       "      <th>Polarity</th>\n",
       "    </tr>\n",
       "  </thead>\n",
       "  <tbody>\n",
       "    <tr>\n",
       "      <th>0</th>\n",
       "      <td>What unrest spreading Muzlims dont like\\n👉Shah...</td>\n",
       "      <td>1295072820137885696</td>\n",
       "      <td>2020-08-16 18:59:56</td>\n",
       "      <td>Twitter for Android</td>\n",
       "      <td>0</td>\n",
       "      <td>0</td>\n",
       "      <td>0.333333</td>\n",
       "      <td>0.250000</td>\n",
       "    </tr>\n",
       "    <tr>\n",
       "      <th>1</th>\n",
       "      <td>By building Ram Mandir\\nMelting Liberals \\nAn...</td>\n",
       "      <td>1295072773765648384</td>\n",
       "      <td>2020-08-16 18:59:45</td>\n",
       "      <td>Twitter for Android</td>\n",
       "      <td>0</td>\n",
       "      <td>0</td>\n",
       "      <td>0.000000</td>\n",
       "      <td>0.000000</td>\n",
       "    </tr>\n",
       "    <tr>\n",
       "      <th>2</th>\n",
       "      <td>yeah obviously will do Those places i mention...</td>\n",
       "      <td>1295072148319420417</td>\n",
       "      <td>2020-08-16 18:57:16</td>\n",
       "      <td>Twitter Web App</td>\n",
       "      <td>1</td>\n",
       "      <td>0</td>\n",
       "      <td>0.300000</td>\n",
       "      <td>-0.016667</td>\n",
       "    </tr>\n",
       "    <tr>\n",
       "      <th>3</th>\n",
       "      <td>samkhans  Modis development \\n\\nDemonetization...</td>\n",
       "      <td>1295072104799285248</td>\n",
       "      <td>2020-08-16 18:57:05</td>\n",
       "      <td>Twitter for Android</td>\n",
       "      <td>0</td>\n",
       "      <td>0</td>\n",
       "      <td>0.366667</td>\n",
       "      <td>0.033333</td>\n",
       "    </tr>\n",
       "    <tr>\n",
       "      <th>4</th>\n",
       "      <td>Tiger    If there is any proof of mandir at th...</td>\n",
       "      <td>1295071422369288192</td>\n",
       "      <td>2020-08-16 18:54:23</td>\n",
       "      <td>Twitter for Android</td>\n",
       "      <td>0</td>\n",
       "      <td>0</td>\n",
       "      <td>0.200000</td>\n",
       "      <td>0.000000</td>\n",
       "    </tr>\n",
       "  </tbody>\n",
       "</table>\n",
       "</div>"
      ],
      "text/plain": [
       "                                              tweets                   id  \\\n",
       "0  What unrest spreading Muzlims dont like\\n👉Shah...  1295072820137885696   \n",
       "1   By building Ram Mandir\\nMelting Liberals \\nAn...  1295072773765648384   \n",
       "2   yeah obviously will do Those places i mention...  1295072148319420417   \n",
       "3  samkhans  Modis development \\n\\nDemonetization...  1295072104799285248   \n",
       "4  Tiger    If there is any proof of mandir at th...  1295071422369288192   \n",
       "\n",
       "                 date               source  likes  retweets  Subjectivity  \\\n",
       "0 2020-08-16 18:59:56  Twitter for Android      0         0      0.333333   \n",
       "1 2020-08-16 18:59:45  Twitter for Android      0         0      0.000000   \n",
       "2 2020-08-16 18:57:16      Twitter Web App      1         0      0.300000   \n",
       "3 2020-08-16 18:57:05  Twitter for Android      0         0      0.366667   \n",
       "4 2020-08-16 18:54:23  Twitter for Android      0         0      0.200000   \n",
       "\n",
       "   Polarity  \n",
       "0  0.250000  \n",
       "1  0.000000  \n",
       "2 -0.016667  \n",
       "3  0.033333  \n",
       "4  0.000000  "
      ]
     },
     "execution_count": 19,
     "metadata": {},
     "output_type": "execute_result"
    }
   ],
   "source": [
    "#defining subjectivity\n",
    "\n",
    "def getSubjectivity(text):\n",
    "    return TextBlob(text).sentiment.subjectivity\n",
    "\n",
    "#defining polarity\n",
    "def getPolarity(text):\n",
    "    return TextBlob(text).sentiment.polarity\n",
    "\n",
    "#new columns \n",
    "\n",
    "df['Subjectivity'] = df['tweets'].apply(getSubjectivity)\n",
    "df['Polarity'] = df['tweets'].apply(getPolarity)\n",
    "\n",
    "df.head()\n"
   ]
  },
  {
   "cell_type": "code",
   "execution_count": 20,
   "metadata": {
    "colab": {
     "base_uri": "https://localhost:8080/",
     "height": 256
    },
    "colab_type": "code",
    "id": "RYqddjDhyXBP",
    "outputId": "9a014394-a642-4445-fb70-9de4517ca16c"
   },
   "outputs": [
    {
     "data": {
      "image/png": "[encoded data removed]",
      "text/plain": [
       "<Figure size 432x288 with 1 Axes>"
      ]
     },
     "metadata": {},
     "output_type": "display_data"
    }
   ],
   "source": [
    "#Plot the word cloud\n",
    "\n",
    "allWords = ' '.join([twts for twts in df['tweets']])\n",
    "wordCloud = WordCloud(width= 500, height = 300, random_state= 25, max_font_size= 120).generate(allWords)\n",
    "plt.imshow(wordCloud, interpolation= \"bilinear\")\n",
    "plt.axis('off')\n",
    "plt.show();\n",
    "\n"
   ]
  },
  {
   "cell_type": "code",
   "execution_count": 21,
   "metadata": {
    "colab": {
     "base_uri": "https://localhost:8080/",
     "height": 397
    },
    "colab_type": "code",
    "id": "_H1u48VEyXBU",
    "outputId": "415ae8c4-a296-45d3-9d4b-7f6c54104020"
   },
   "outputs": [
    {
     "data": {
      "text/html": [
       "<div>\n",
       "<style scoped>\n",
       "    .dataframe tbody tr th:only-of-type {\n",
       "        vertical-align: middle;\n",
       "    }\n",
       "\n",
       "    .dataframe tbody tr th {\n",
       "        vertical-align: top;\n",
       "    }\n",
       "\n",
       "    .dataframe thead th {\n",
       "        text-align: right;\n",
       "    }\n",
       "</style>\n",
       "<table border=\"1\" class=\"dataframe\">\n",
       "  <thead>\n",
       "    <tr style=\"text-align: right;\">\n",
       "      <th></th>\n",
       "      <th>tweets</th>\n",
       "      <th>id</th>\n",
       "      <th>date</th>\n",
       "      <th>source</th>\n",
       "      <th>likes</th>\n",
       "      <th>retweets</th>\n",
       "      <th>Subjectivity</th>\n",
       "      <th>Polarity</th>\n",
       "      <th>Analysis</th>\n",
       "    </tr>\n",
       "  </thead>\n",
       "  <tbody>\n",
       "    <tr>\n",
       "      <th>0</th>\n",
       "      <td>What unrest spreading Muzlims dont like\\n👉Shah...</td>\n",
       "      <td>1295072820137885696</td>\n",
       "      <td>2020-08-16 18:59:56</td>\n",
       "      <td>Twitter for Android</td>\n",
       "      <td>0</td>\n",
       "      <td>0</td>\n",
       "      <td>0.333333</td>\n",
       "      <td>0.250000</td>\n",
       "      <td>Positive</td>\n",
       "    </tr>\n",
       "    <tr>\n",
       "      <th>1</th>\n",
       "      <td>By building Ram Mandir\\nMelting Liberals \\nAn...</td>\n",
       "      <td>1295072773765648384</td>\n",
       "      <td>2020-08-16 18:59:45</td>\n",
       "      <td>Twitter for Android</td>\n",
       "      <td>0</td>\n",
       "      <td>0</td>\n",
       "      <td>0.000000</td>\n",
       "      <td>0.000000</td>\n",
       "      <td>Neutral</td>\n",
       "    </tr>\n",
       "    <tr>\n",
       "      <th>2</th>\n",
       "      <td>yeah obviously will do Those places i mention...</td>\n",
       "      <td>1295072148319420417</td>\n",
       "      <td>2020-08-16 18:57:16</td>\n",
       "      <td>Twitter Web App</td>\n",
       "      <td>1</td>\n",
       "      <td>0</td>\n",
       "      <td>0.300000</td>\n",
       "      <td>-0.016667</td>\n",
       "      <td>Negative</td>\n",
       "    </tr>\n",
       "    <tr>\n",
       "      <th>3</th>\n",
       "      <td>samkhans  Modis development \\n\\nDemonetization...</td>\n",
       "      <td>1295072104799285248</td>\n",
       "      <td>2020-08-16 18:57:05</td>\n",
       "      <td>Twitter for Android</td>\n",
       "      <td>0</td>\n",
       "      <td>0</td>\n",
       "      <td>0.366667</td>\n",
       "      <td>0.033333</td>\n",
       "      <td>Positive</td>\n",
       "    </tr>\n",
       "    <tr>\n",
       "      <th>4</th>\n",
       "      <td>Tiger    If there is any proof of mandir at th...</td>\n",
       "      <td>1295071422369288192</td>\n",
       "      <td>2020-08-16 18:54:23</td>\n",
       "      <td>Twitter for Android</td>\n",
       "      <td>0</td>\n",
       "      <td>0</td>\n",
       "      <td>0.200000</td>\n",
       "      <td>0.000000</td>\n",
       "      <td>Neutral</td>\n",
       "    </tr>\n",
       "    <tr>\n",
       "      <th>5</th>\n",
       "      <td>Hagia Sophia is one of UNESCOs cultural heri...</td>\n",
       "      <td>1295071106756485120</td>\n",
       "      <td>2020-08-16 18:53:07</td>\n",
       "      <td>Twitter Web App</td>\n",
       "      <td>0</td>\n",
       "      <td>0</td>\n",
       "      <td>0.500000</td>\n",
       "      <td>0.250000</td>\n",
       "      <td>Positive</td>\n",
       "    </tr>\n",
       "    <tr>\n",
       "      <th>6</th>\n",
       "      <td>bahrain Its a fake propaganda \\nIt was a RAM ...</td>\n",
       "      <td>1295070251084906498</td>\n",
       "      <td>2020-08-16 18:49:43</td>\n",
       "      <td>Twitter Web App</td>\n",
       "      <td>0</td>\n",
       "      <td>0</td>\n",
       "      <td>0.380000</td>\n",
       "      <td>-0.120000</td>\n",
       "      <td>Negative</td>\n",
       "    </tr>\n",
       "    <tr>\n",
       "      <th>7</th>\n",
       "      <td>IND They are planning their move\\nOne thing I ...</td>\n",
       "      <td>1295067828941283329</td>\n",
       "      <td>2020-08-16 18:40:06</td>\n",
       "      <td>Twitter for Android</td>\n",
       "      <td>0</td>\n",
       "      <td>0</td>\n",
       "      <td>0.475000</td>\n",
       "      <td>0.175000</td>\n",
       "      <td>Positive</td>\n",
       "    </tr>\n",
       "    <tr>\n",
       "      <th>8</th>\n",
       "      <td>Jammu   Have PatienceHave Faith in BJP\\nSyste...</td>\n",
       "      <td>1295067639937675269</td>\n",
       "      <td>2020-08-16 18:39:21</td>\n",
       "      <td>Twitter for iPhone</td>\n",
       "      <td>0</td>\n",
       "      <td>0</td>\n",
       "      <td>0.247222</td>\n",
       "      <td>0.108333</td>\n",
       "      <td>Positive</td>\n",
       "    </tr>\n",
       "    <tr>\n",
       "      <th>9</th>\n",
       "      <td>After Ram Mandir it seems BJP forgot preachin...</td>\n",
       "      <td>1295067519321956352</td>\n",
       "      <td>2020-08-16 18:38:52</td>\n",
       "      <td>Twitter for Android</td>\n",
       "      <td>0</td>\n",
       "      <td>0</td>\n",
       "      <td>0.000000</td>\n",
       "      <td>0.000000</td>\n",
       "      <td>Neutral</td>\n",
       "    </tr>\n",
       "    <tr>\n",
       "      <th>10</th>\n",
       "      <td>Competition is always close till BJP begin it...</td>\n",
       "      <td>1295067398899286016</td>\n",
       "      <td>2020-08-16 18:38:23</td>\n",
       "      <td>Twitter for Android</td>\n",
       "      <td>0</td>\n",
       "      <td>0</td>\n",
       "      <td>0.333333</td>\n",
       "      <td>0.100000</td>\n",
       "      <td>Positive</td>\n",
       "    </tr>\n",
       "    <tr>\n",
       "      <th>11</th>\n",
       "      <td>AskTrueIndology\\nCan explain why Goswami Tulsi...</td>\n",
       "      <td>1295067196364750848</td>\n",
       "      <td>2020-08-16 18:37:35</td>\n",
       "      <td>Twitter Web App</td>\n",
       "      <td>0</td>\n",
       "      <td>0</td>\n",
       "      <td>0.000000</td>\n",
       "      <td>0.000000</td>\n",
       "      <td>Neutral</td>\n",
       "    </tr>\n",
       "    <tr>\n",
       "      <th>12</th>\n",
       "      <td>Advani ji lived long enough to see Ram Mandir</td>\n",
       "      <td>1295067015560990720</td>\n",
       "      <td>2020-08-16 18:36:52</td>\n",
       "      <td>Twitter for Android</td>\n",
       "      <td>0</td>\n",
       "      <td>0</td>\n",
       "      <td>0.450000</td>\n",
       "      <td>-0.025000</td>\n",
       "      <td>Negative</td>\n",
       "    </tr>\n",
       "    <tr>\n",
       "      <th>13</th>\n",
       "      <td>Sir it’s been  days and you still haven’t twe...</td>\n",
       "      <td>1295066264969207809</td>\n",
       "      <td>2020-08-16 18:33:53</td>\n",
       "      <td>Twitter for iPhone</td>\n",
       "      <td>0</td>\n",
       "      <td>0</td>\n",
       "      <td>0.466667</td>\n",
       "      <td>0.250000</td>\n",
       "      <td>Positive</td>\n",
       "    </tr>\n",
       "    <tr>\n",
       "      <th>14</th>\n",
       "      <td>Evrythin is true may b\\n\\nBut congress has ne...</td>\n",
       "      <td>1295065471067201536</td>\n",
       "      <td>2020-08-16 18:30:44</td>\n",
       "      <td>Twitter for Android</td>\n",
       "      <td>0</td>\n",
       "      <td>0</td>\n",
       "      <td>0.656250</td>\n",
       "      <td>0.231250</td>\n",
       "      <td>Positive</td>\n",
       "    </tr>\n",
       "    <tr>\n",
       "      <th>15</th>\n",
       "      <td>People before Modi Govt said tht Hindu is been...</td>\n",
       "      <td>1295064328270274560</td>\n",
       "      <td>2020-08-16 18:26:11</td>\n",
       "      <td>Twitter for iPhone</td>\n",
       "      <td>13</td>\n",
       "      <td>7</td>\n",
       "      <td>0.400000</td>\n",
       "      <td>0.000000</td>\n",
       "      <td>Neutral</td>\n",
       "    </tr>\n",
       "    <tr>\n",
       "      <th>16</th>\n",
       "      <td>I love Dhoni  hes really a legend  hes selfle...</td>\n",
       "      <td>1295063040124043264</td>\n",
       "      <td>2020-08-16 18:21:04</td>\n",
       "      <td>Twitter for Android</td>\n",
       "      <td>1</td>\n",
       "      <td>0</td>\n",
       "      <td>0.658654</td>\n",
       "      <td>0.052885</td>\n",
       "      <td>Positive</td>\n",
       "    </tr>\n",
       "    <tr>\n",
       "      <th>17</th>\n",
       "      <td>By Building Ram Mandir🚩🚩🚩</td>\n",
       "      <td>1295062537478844418</td>\n",
       "      <td>2020-08-16 18:19:04</td>\n",
       "      <td>Twitter Web App</td>\n",
       "      <td>107</td>\n",
       "      <td>10</td>\n",
       "      <td>0.000000</td>\n",
       "      <td>0.000000</td>\n",
       "      <td>Neutral</td>\n",
       "    </tr>\n",
       "    <tr>\n",
       "      <th>18</th>\n",
       "      <td>Advani is a man whose dream of ram mandir cam...</td>\n",
       "      <td>1295062237208391680</td>\n",
       "      <td>2020-08-16 18:17:53</td>\n",
       "      <td>Twitter for Android</td>\n",
       "      <td>0</td>\n",
       "      <td>0</td>\n",
       "      <td>0.825000</td>\n",
       "      <td>0.337500</td>\n",
       "      <td>Positive</td>\n",
       "    </tr>\n",
       "    <tr>\n",
       "      <th>19</th>\n",
       "      <td>Please Guys Trust Mota bhai and ModijiIts jus...</td>\n",
       "      <td>1295061820068130816</td>\n",
       "      <td>2020-08-16 18:16:13</td>\n",
       "      <td>Twitter for Android</td>\n",
       "      <td>0</td>\n",
       "      <td>0</td>\n",
       "      <td>0.500000</td>\n",
       "      <td>0.500000</td>\n",
       "      <td>Positive</td>\n",
       "    </tr>\n",
       "  </tbody>\n",
       "</table>\n",
       "</div>"
      ],
      "text/plain": [
       "                                               tweets                   id  \\\n",
       "0   What unrest spreading Muzlims dont like\\n👉Shah...  1295072820137885696   \n",
       "1    By building Ram Mandir\\nMelting Liberals \\nAn...  1295072773765648384   \n",
       "2    yeah obviously will do Those places i mention...  1295072148319420417   \n",
       "3   samkhans  Modis development \\n\\nDemonetization...  1295072104799285248   \n",
       "4   Tiger    If there is any proof of mandir at th...  1295071422369288192   \n",
       "5     Hagia Sophia is one of UNESCOs cultural heri...  1295071106756485120   \n",
       "6    bahrain Its a fake propaganda \\nIt was a RAM ...  1295070251084906498   \n",
       "7   IND They are planning their move\\nOne thing I ...  1295067828941283329   \n",
       "8    Jammu   Have PatienceHave Faith in BJP\\nSyste...  1295067639937675269   \n",
       "9    After Ram Mandir it seems BJP forgot preachin...  1295067519321956352   \n",
       "10   Competition is always close till BJP begin it...  1295067398899286016   \n",
       "11  AskTrueIndology\\nCan explain why Goswami Tulsi...  1295067196364750848   \n",
       "12      Advani ji lived long enough to see Ram Mandir  1295067015560990720   \n",
       "13   Sir it’s been  days and you still haven’t twe...  1295066264969207809   \n",
       "14   Evrythin is true may b\\n\\nBut congress has ne...  1295065471067201536   \n",
       "15  People before Modi Govt said tht Hindu is been...  1295064328270274560   \n",
       "16   I love Dhoni  hes really a legend  hes selfle...  1295063040124043264   \n",
       "17                          By Building Ram Mandir🚩🚩🚩  1295062537478844418   \n",
       "18   Advani is a man whose dream of ram mandir cam...  1295062237208391680   \n",
       "19   Please Guys Trust Mota bhai and ModijiIts jus...  1295061820068130816   \n",
       "\n",
       "                  date               source  likes  retweets  Subjectivity  \\\n",
       "0  2020-08-16 18:59:56  Twitter for Android      0         0      0.333333   \n",
       "1  2020-08-16 18:59:45  Twitter for Android      0         0      0.000000   \n",
       "2  2020-08-16 18:57:16      Twitter Web App      1         0      0.300000   \n",
       "3  2020-08-16 18:57:05  Twitter for Android      0         0      0.366667   \n",
       "4  2020-08-16 18:54:23  Twitter for Android      0         0      0.200000   \n",
       "5  2020-08-16 18:53:07      Twitter Web App      0         0      0.500000   \n",
       "6  2020-08-16 18:49:43      Twitter Web App      0         0      0.380000   \n",
       "7  2020-08-16 18:40:06  Twitter for Android      0         0      0.475000   \n",
       "8  2020-08-16 18:39:21   Twitter for iPhone      0         0      0.247222   \n",
       "9  2020-08-16 18:38:52  Twitter for Android      0         0      0.000000   \n",
       "10 2020-08-16 18:38:23  Twitter for Android      0         0      0.333333   \n",
       "11 2020-08-16 18:37:35      Twitter Web App      0         0      0.000000   \n",
       "12 2020-08-16 18:36:52  Twitter for Android      0         0      0.450000   \n",
       "13 2020-08-16 18:33:53   Twitter for iPhone      0         0      0.466667   \n",
       "14 2020-08-16 18:30:44  Twitter for Android      0         0      0.656250   \n",
       "15 2020-08-16 18:26:11   Twitter for iPhone     13         7      0.400000   \n",
       "16 2020-08-16 18:21:04  Twitter for Android      1         0      0.658654   \n",
       "17 2020-08-16 18:19:04      Twitter Web App    107        10      0.000000   \n",
       "18 2020-08-16 18:17:53  Twitter for Android      0         0      0.825000   \n",
       "19 2020-08-16 18:16:13  Twitter for Android      0         0      0.500000   \n",
       "\n",
       "    Polarity  Analysis  \n",
       "0   0.250000  Positive  \n",
       "1   0.000000   Neutral  \n",
       "2  -0.016667  Negative  \n",
       "3   0.033333  Positive  \n",
       "4   0.000000   Neutral  \n",
       "5   0.250000  Positive  \n",
       "6  -0.120000  Negative  \n",
       "7   0.175000  Positive  \n",
       "8   0.108333  Positive  \n",
       "9   0.000000   Neutral  \n",
       "10  0.100000  Positive  \n",
       "11  0.000000   Neutral  \n",
       "12 -0.025000  Negative  \n",
       "13  0.250000  Positive  \n",
       "14  0.231250  Positive  \n",
       "15  0.000000   Neutral  \n",
       "16  0.052885  Positive  \n",
       "17  0.000000   Neutral  \n",
       "18  0.337500  Positive  \n",
       "19  0.500000  Positive  "
      ]
     },
     "execution_count": 21,
     "metadata": {},
     "output_type": "execute_result"
    }
   ],
   "source": [
    "#function to create positive, negative, neutral\n",
    "\n",
    "def getAnalysis(score):\n",
    "    if score< 0 :\n",
    "        return 'Negative'\n",
    "    elif score == 0 :\n",
    "         return 'Neutral'\n",
    "    else :\n",
    "         return 'Positive'\n",
    "        \n",
    "df['Analysis']= df['Polarity'].apply(getAnalysis)\n",
    "df.to_csv('tweets_exported_cleaned_with_Classification.csv', encoding='utf-8')\n",
    "df.head(20)\n",
    "        \n",
    "       "
   ]
  },
  {
   "cell_type": "markdown",
   "metadata": {
    "colab_type": "text",
    "id": "7_KP7f0d6dQh"
   },
   "source": [
    "Cleaning \n",
    "Remove Punctuation\n",
    "Tokenization\n",
    "Remove Stop Words\n",
    "Stemming/Lemmatizing"
   ]
  },
  {
   "cell_type": "code",
   "execution_count": 22,
   "metadata": {
    "colab": {
     "base_uri": "https://localhost:8080/",
     "height": 138
    },
    "colab_type": "code",
    "id": "pPFoNveg5ysG",
    "outputId": "a608359d-9b72-44c3-dd35-43422cc0b2c0"
   },
   "outputs": [
    {
     "data": {
      "text/plain": [
       "0    What unrest spreading Muzlims dont like\\n👉Shaheen Bagh activist joins BJP\\n👉UAEIsrael peace deal\\n👉Ram Mandir\\n👉  Scrapped\\n\\nbut they like\\n👉 HagiaSophia first church then museums conversion to mosque\\n👉 DelhiRiots\\n👉 BangluruRiots \\n👉Shaheen Bagh Hijack coEFBOWiAlUF\n",
       "1                                                                                                                                                                                         By building Ram Mandir\\nMelting Liberals \\nAnd distributing Burnol \\nto people like you\n",
       "2                                                                                yeah obviously will do Those places i mentioned were quite long back \\nChota Char Dham Bada char dham  Jyotirlingas all in bucket list \\nHave visited Krishna Janmabhoomi waiting for Ram mandir\n",
       "3                                                                                     samkhans  Modis development \\n\\nDemonetization\\nGST\\nCAANRC\\nRam Mandir\\nArticle  which lead to Kashmir lockdown for more than a year which is completely barbaric \\n\\n years of useless PM\n",
       "4        Tiger    If there is any proof of mandir at the site of mosquereligiously we are bound to give back that place to the rightful claimour prayers at such places are not acceptable\\nPoint i want to make is that This Ram janam bhoomi thing is a totally political issue\n",
       "Name: tweets, dtype: object"
      ]
     },
     "execution_count": 22,
     "metadata": {},
     "output_type": "execute_result"
    }
   ],
   "source": [
    "pd.set_option('display.max_colwidth',280)\n",
    "df['tweets'].head()"
   ]
  },
  {
   "cell_type": "code",
   "execution_count": 24,
   "metadata": {
    "colab": {
     "base_uri": "https://localhost:8080/",
     "height": 35
    },
    "colab_type": "code",
    "id": "PFqjgDki6rPf",
    "outputId": "9cadd332-b688-4c65-8225-75b0d72c390c"
   },
   "outputs": [
    {
     "data": {
      "text/plain": [
       "'!\"#$%&\\'()*+,-./:;<=>?@[\\\\]^_`{|}~'"
      ]
     },
     "execution_count": 24,
     "metadata": {},
     "output_type": "execute_result"
    }
   ],
   "source": [
    "import string\n",
    "string.punctuation"
   ]
  },
  {
   "cell_type": "code",
   "execution_count": 25,
   "metadata": {
    "colab": {
     "base_uri": "https://localhost:8080/",
     "height": 1000
    },
    "colab_type": "code",
    "id": "QprtOR456xEC",
    "outputId": "bb7117bf-5499-47be-c2dd-4e6b473f00f2"
   },
   "outputs": [
    {
     "data": {
      "text/html": [
       "<div>\n",
       "<style scoped>\n",
       "    .dataframe tbody tr th:only-of-type {\n",
       "        vertical-align: middle;\n",
       "    }\n",
       "\n",
       "    .dataframe tbody tr th {\n",
       "        vertical-align: top;\n",
       "    }\n",
       "\n",
       "    .dataframe thead th {\n",
       "        text-align: right;\n",
       "    }\n",
       "</style>\n",
       "<table border=\"1\" class=\"dataframe\">\n",
       "  <thead>\n",
       "    <tr style=\"text-align: right;\">\n",
       "      <th></th>\n",
       "      <th>tweets</th>\n",
       "      <th>id</th>\n",
       "      <th>date</th>\n",
       "      <th>source</th>\n",
       "      <th>likes</th>\n",
       "      <th>retweets</th>\n",
       "      <th>Subjectivity</th>\n",
       "      <th>Polarity</th>\n",
       "      <th>Analysis</th>\n",
       "      <th>Tweet_punct</th>\n",
       "    </tr>\n",
       "  </thead>\n",
       "  <tbody>\n",
       "    <tr>\n",
       "      <th>0</th>\n",
       "      <td>What unrest spreading Muzlims dont like\\n👉Shaheen Bagh activist joins BJP\\n👉UAEIsrael peace deal\\n👉Ram Mandir\\n👉  Scrapped\\n\\nbut they like\\n👉 HagiaSophia first church then museums conversion to mosque\\n👉 DelhiRiots\\n👉 BangluruRiots \\n👉Shaheen Bagh Hijack coEFBOWiAlUF</td>\n",
       "      <td>1295072820137885696</td>\n",
       "      <td>2020-08-16 18:59:56</td>\n",
       "      <td>Twitter for Android</td>\n",
       "      <td>0</td>\n",
       "      <td>0</td>\n",
       "      <td>0.333333</td>\n",
       "      <td>0.250000</td>\n",
       "      <td>Positive</td>\n",
       "      <td>What unrest spreading Muzlims dont like\\n👉Shaheen Bagh activist joins BJP\\n👉UAEIsrael peace deal\\n👉Ram Mandir\\n👉  Scrapped\\n\\nbut they like\\n👉 HagiaSophia first church then museums conversion to mosque\\n👉 DelhiRiots\\n👉 BangluruRiots \\n👉Shaheen Bagh Hijack coEFBOWiAlUF</td>\n",
       "    </tr>\n",
       "    <tr>\n",
       "      <th>1</th>\n",
       "      <td>By building Ram Mandir\\nMelting Liberals \\nAnd distributing Burnol \\nto people like you</td>\n",
       "      <td>1295072773765648384</td>\n",
       "      <td>2020-08-16 18:59:45</td>\n",
       "      <td>Twitter for Android</td>\n",
       "      <td>0</td>\n",
       "      <td>0</td>\n",
       "      <td>0.000000</td>\n",
       "      <td>0.000000</td>\n",
       "      <td>Neutral</td>\n",
       "      <td>By building Ram Mandir\\nMelting Liberals \\nAnd distributing Burnol \\nto people like you</td>\n",
       "    </tr>\n",
       "    <tr>\n",
       "      <th>2</th>\n",
       "      <td>yeah obviously will do Those places i mentioned were quite long back \\nChota Char Dham Bada char dham  Jyotirlingas all in bucket list \\nHave visited Krishna Janmabhoomi waiting for Ram mandir</td>\n",
       "      <td>1295072148319420417</td>\n",
       "      <td>2020-08-16 18:57:16</td>\n",
       "      <td>Twitter Web App</td>\n",
       "      <td>1</td>\n",
       "      <td>0</td>\n",
       "      <td>0.300000</td>\n",
       "      <td>-0.016667</td>\n",
       "      <td>Negative</td>\n",
       "      <td>yeah obviously will do Those places i mentioned were quite long back \\nChota Char Dham Bada char dham  Jyotirlingas all in bucket list \\nHave visited Krishna Janmabhoomi waiting for Ram mandir</td>\n",
       "    </tr>\n",
       "    <tr>\n",
       "      <th>3</th>\n",
       "      <td>samkhans  Modis development \\n\\nDemonetization\\nGST\\nCAANRC\\nRam Mandir\\nArticle  which lead to Kashmir lockdown for more than a year which is completely barbaric \\n\\n years of useless PM</td>\n",
       "      <td>1295072104799285248</td>\n",
       "      <td>2020-08-16 18:57:05</td>\n",
       "      <td>Twitter for Android</td>\n",
       "      <td>0</td>\n",
       "      <td>0</td>\n",
       "      <td>0.366667</td>\n",
       "      <td>0.033333</td>\n",
       "      <td>Positive</td>\n",
       "      <td>samkhans  Modis development \\n\\nDemonetization\\nGST\\nCAANRC\\nRam Mandir\\nArticle  which lead to Kashmir lockdown for more than a year which is completely barbaric \\n\\n years of useless PM</td>\n",
       "    </tr>\n",
       "    <tr>\n",
       "      <th>4</th>\n",
       "      <td>Tiger    If there is any proof of mandir at the site of mosquereligiously we are bound to give back that place to the rightful claimour prayers at such places are not acceptable\\nPoint i want to make is that This Ram janam bhoomi thing is a totally political issue</td>\n",
       "      <td>1295071422369288192</td>\n",
       "      <td>2020-08-16 18:54:23</td>\n",
       "      <td>Twitter for Android</td>\n",
       "      <td>0</td>\n",
       "      <td>0</td>\n",
       "      <td>0.200000</td>\n",
       "      <td>0.000000</td>\n",
       "      <td>Neutral</td>\n",
       "      <td>Tiger    If there is any proof of mandir at the site of mosquereligiously we are bound to give back that place to the rightful claimour prayers at such places are not acceptable\\nPoint i want to make is that This Ram janam bhoomi thing is a totally political issue</td>\n",
       "    </tr>\n",
       "    <tr>\n",
       "      <th>5</th>\n",
       "      <td>Hagia Sophia is one of UNESCOs cultural heritage site\\nIf Ram Mandir case was to be judged by ownership of land It may have gone to Muslims\\nBut these have a huge symbolic value and this was a murderous take by him</td>\n",
       "      <td>1295071106756485120</td>\n",
       "      <td>2020-08-16 18:53:07</td>\n",
       "      <td>Twitter Web App</td>\n",
       "      <td>0</td>\n",
       "      <td>0</td>\n",
       "      <td>0.500000</td>\n",
       "      <td>0.250000</td>\n",
       "      <td>Positive</td>\n",
       "      <td>Hagia Sophia is one of UNESCOs cultural heritage site\\nIf Ram Mandir case was to be judged by ownership of land It may have gone to Muslims\\nBut these have a huge symbolic value and this was a murderous take by him</td>\n",
       "    </tr>\n",
       "    <tr>\n",
       "      <th>6</th>\n",
       "      <td>bahrain Its a fake propaganda \\nIt was a RAM Mandir since s of year \\nAnd we all know the history as how amp who it was broken amp structure was built over it \\ns of Historical evidences are available to prove this including archeological evidences which help to decide by court</td>\n",
       "      <td>1295070251084906498</td>\n",
       "      <td>2020-08-16 18:49:43</td>\n",
       "      <td>Twitter Web App</td>\n",
       "      <td>0</td>\n",
       "      <td>0</td>\n",
       "      <td>0.380000</td>\n",
       "      <td>-0.120000</td>\n",
       "      <td>Negative</td>\n",
       "      <td>bahrain Its a fake propaganda \\nIt was a RAM Mandir since s of year \\nAnd we all know the history as how amp who it was broken amp structure was built over it \\ns of Historical evidences are available to prove this including archeological evidences which help to decide by court</td>\n",
       "    </tr>\n",
       "    <tr>\n",
       "      <th>7</th>\n",
       "      <td>IND They are planning their move\\nOne thing I like about Amir At least he has made his inclinations known openly How many Hindu actors will do it When Ram Mandir foundation stone laying ceremony was done how many Hindu actors or Bollywood personalities had paid their respects</td>\n",
       "      <td>1295067828941283329</td>\n",
       "      <td>2020-08-16 18:40:06</td>\n",
       "      <td>Twitter for Android</td>\n",
       "      <td>0</td>\n",
       "      <td>0</td>\n",
       "      <td>0.475000</td>\n",
       "      <td>0.175000</td>\n",
       "      <td>Positive</td>\n",
       "      <td>IND They are planning their move\\nOne thing I like about Amir At least he has made his inclinations known openly How many Hindu actors will do it When Ram Mandir foundation stone laying ceremony was done how many Hindu actors or Bollywood personalities had paid their respects</td>\n",
       "    </tr>\n",
       "    <tr>\n",
       "      <th>8</th>\n",
       "      <td>Jammu   Have PatienceHave Faith in BJP\\nSystems can’t be changed overnight\\nyrs of mess is been getting solved in last yrsArticleA Ram Mandir Infrastructure Demonetization Blackmoney Smuggling Border IssuesTerrorism Economy State Politicsissues r many all solved</td>\n",
       "      <td>1295067639937675269</td>\n",
       "      <td>2020-08-16 18:39:21</td>\n",
       "      <td>Twitter for iPhone</td>\n",
       "      <td>0</td>\n",
       "      <td>0</td>\n",
       "      <td>0.247222</td>\n",
       "      <td>0.108333</td>\n",
       "      <td>Positive</td>\n",
       "      <td>Jammu   Have PatienceHave Faith in BJP\\nSystems can’t be changed overnight\\nyrs of mess is been getting solved in last yrsArticleA Ram Mandir Infrastructure Demonetization Blackmoney Smuggling Border IssuesTerrorism Economy State Politicsissues r many all solved</td>\n",
       "    </tr>\n",
       "    <tr>\n",
       "      <th>9</th>\n",
       "      <td>After Ram Mandir it seems BJP forgot preaching of Ramayan \\n                      अहंकार</td>\n",
       "      <td>1295067519321956352</td>\n",
       "      <td>2020-08-16 18:38:52</td>\n",
       "      <td>Twitter for Android</td>\n",
       "      <td>0</td>\n",
       "      <td>0</td>\n",
       "      <td>0.000000</td>\n",
       "      <td>0.000000</td>\n",
       "      <td>Neutral</td>\n",
       "      <td>After Ram Mandir it seems BJP forgot preaching of Ramayan \\n                      अहंकार</td>\n",
       "    </tr>\n",
       "  </tbody>\n",
       "</table>\n",
       "</div>"
      ],
      "text/plain": [
       "                                                                                                                                                                                                                                                                                    tweets  \\\n",
       "0             What unrest spreading Muzlims dont like\\n👉Shaheen Bagh activist joins BJP\\n👉UAEIsrael peace deal\\n👉Ram Mandir\\n👉  Scrapped\\n\\nbut they like\\n👉 HagiaSophia first church then museums conversion to mosque\\n👉 DelhiRiots\\n👉 BangluruRiots \\n👉Shaheen Bagh Hijack coEFBOWiAlUF   \n",
       "1                                                                                                                                                                                                  By building Ram Mandir\\nMelting Liberals \\nAnd distributing Burnol \\nto people like you   \n",
       "2                                                                                         yeah obviously will do Those places i mentioned were quite long back \\nChota Char Dham Bada char dham  Jyotirlingas all in bucket list \\nHave visited Krishna Janmabhoomi waiting for Ram mandir   \n",
       "3                                                                                              samkhans  Modis development \\n\\nDemonetization\\nGST\\nCAANRC\\nRam Mandir\\nArticle  which lead to Kashmir lockdown for more than a year which is completely barbaric \\n\\n years of useless PM   \n",
       "4                 Tiger    If there is any proof of mandir at the site of mosquereligiously we are bound to give back that place to the rightful claimour prayers at such places are not acceptable\\nPoint i want to make is that This Ram janam bhoomi thing is a totally political issue   \n",
       "5                                                                   Hagia Sophia is one of UNESCOs cultural heritage site\\nIf Ram Mandir case was to be judged by ownership of land It may have gone to Muslims\\nBut these have a huge symbolic value and this was a murderous take by him   \n",
       "6   bahrain Its a fake propaganda \\nIt was a RAM Mandir since s of year \\nAnd we all know the history as how amp who it was broken amp structure was built over it \\ns of Historical evidences are available to prove this including archeological evidences which help to decide by court   \n",
       "7     IND They are planning their move\\nOne thing I like about Amir At least he has made his inclinations known openly How many Hindu actors will do it When Ram Mandir foundation stone laying ceremony was done how many Hindu actors or Bollywood personalities had paid their respects   \n",
       "8                   Jammu   Have PatienceHave Faith in BJP\\nSystems can’t be changed overnight\\nyrs of mess is been getting solved in last yrsArticleA Ram Mandir Infrastructure Demonetization Blackmoney Smuggling Border IssuesTerrorism Economy State Politicsissues r many all solved   \n",
       "9                                                                                                                                                                                                 After Ram Mandir it seems BJP forgot preaching of Ramayan \\n                      अहंकार   \n",
       "\n",
       "                    id                date               source  likes  \\\n",
       "0  1295072820137885696 2020-08-16 18:59:56  Twitter for Android      0   \n",
       "1  1295072773765648384 2020-08-16 18:59:45  Twitter for Android      0   \n",
       "2  1295072148319420417 2020-08-16 18:57:16      Twitter Web App      1   \n",
       "3  1295072104799285248 2020-08-16 18:57:05  Twitter for Android      0   \n",
       "4  1295071422369288192 2020-08-16 18:54:23  Twitter for Android      0   \n",
       "5  1295071106756485120 2020-08-16 18:53:07      Twitter Web App      0   \n",
       "6  1295070251084906498 2020-08-16 18:49:43      Twitter Web App      0   \n",
       "7  1295067828941283329 2020-08-16 18:40:06  Twitter for Android      0   \n",
       "8  1295067639937675269 2020-08-16 18:39:21   Twitter for iPhone      0   \n",
       "9  1295067519321956352 2020-08-16 18:38:52  Twitter for Android      0   \n",
       "\n",
       "   retweets  Subjectivity  Polarity  Analysis  \\\n",
       "0         0      0.333333  0.250000  Positive   \n",
       "1         0      0.000000  0.000000   Neutral   \n",
       "2         0      0.300000 -0.016667  Negative   \n",
       "3         0      0.366667  0.033333  Positive   \n",
       "4         0      0.200000  0.000000   Neutral   \n",
       "5         0      0.500000  0.250000  Positive   \n",
       "6         0      0.380000 -0.120000  Negative   \n",
       "7         0      0.475000  0.175000  Positive   \n",
       "8         0      0.247222  0.108333  Positive   \n",
       "9         0      0.000000  0.000000   Neutral   \n",
       "\n",
       "                                                                                                                                                                                                                                                                               Tweet_punct  \n",
       "0             What unrest spreading Muzlims dont like\\n👉Shaheen Bagh activist joins BJP\\n👉UAEIsrael peace deal\\n👉Ram Mandir\\n👉  Scrapped\\n\\nbut they like\\n👉 HagiaSophia first church then museums conversion to mosque\\n👉 DelhiRiots\\n👉 BangluruRiots \\n👉Shaheen Bagh Hijack coEFBOWiAlUF  \n",
       "1                                                                                                                                                                                                  By building Ram Mandir\\nMelting Liberals \\nAnd distributing Burnol \\nto people like you  \n",
       "2                                                                                         yeah obviously will do Those places i mentioned were quite long back \\nChota Char Dham Bada char dham  Jyotirlingas all in bucket list \\nHave visited Krishna Janmabhoomi waiting for Ram mandir  \n",
       "3                                                                                              samkhans  Modis development \\n\\nDemonetization\\nGST\\nCAANRC\\nRam Mandir\\nArticle  which lead to Kashmir lockdown for more than a year which is completely barbaric \\n\\n years of useless PM  \n",
       "4                 Tiger    If there is any proof of mandir at the site of mosquereligiously we are bound to give back that place to the rightful claimour prayers at such places are not acceptable\\nPoint i want to make is that This Ram janam bhoomi thing is a totally political issue  \n",
       "5                                                                   Hagia Sophia is one of UNESCOs cultural heritage site\\nIf Ram Mandir case was to be judged by ownership of land It may have gone to Muslims\\nBut these have a huge symbolic value and this was a murderous take by him  \n",
       "6   bahrain Its a fake propaganda \\nIt was a RAM Mandir since s of year \\nAnd we all know the history as how amp who it was broken amp structure was built over it \\ns of Historical evidences are available to prove this including archeological evidences which help to decide by court  \n",
       "7     IND They are planning their move\\nOne thing I like about Amir At least he has made his inclinations known openly How many Hindu actors will do it When Ram Mandir foundation stone laying ceremony was done how many Hindu actors or Bollywood personalities had paid their respects  \n",
       "8                   Jammu   Have PatienceHave Faith in BJP\\nSystems can’t be changed overnight\\nyrs of mess is been getting solved in last yrsArticleA Ram Mandir Infrastructure Demonetization Blackmoney Smuggling Border IssuesTerrorism Economy State Politicsissues r many all solved  \n",
       "9                                                                                                                                                                                                 After Ram Mandir it seems BJP forgot preaching of Ramayan \\n                      अहंकार  "
      ]
     },
     "execution_count": 25,
     "metadata": {},
     "output_type": "execute_result"
    }
   ],
   "source": [
    "def remove_punct(text):\n",
    "    text  = \"\".join([char for char in text if char not in string.punctuation])\n",
    "    text = re.sub('[0-9]+', '', text)\n",
    "    return text\n",
    "  \n",
    "df['Tweet_punct'] = df['tweets'].apply(lambda x: remove_punct(x))\n",
    "df.to_csv('tweets_exported_removed_punct.csv', encoding='utf-8')\n",
    "df.head(10)\n"
   ]
  },
  {
   "cell_type": "markdown",
   "metadata": {
    "colab_type": "text",
    "id": "pZEBcCZu8r98"
   },
   "source": [
    "Tokenization"
   ]
  },
  {
   "cell_type": "code",
   "execution_count": 28,
   "metadata": {
    "colab": {
     "base_uri": "https://localhost:8080/",
     "height": 138
    },
    "colab_type": "code",
    "id": "lvyZKPch8umM",
    "outputId": "aed601fc-a738-43d7-e57a-91a93f396fe9"
   },
   "outputs": [
    {
     "data": {
      "text/plain": [
       "0     [what, unrest, spreading, muzlims, dont, like, shaheen, bagh, activist, joins, bjp, uaeisrael, peace, deal, ram, mandir, scrapped, but, they, like, hagiasophia, first, church, then, museums, conversion, to, mosque, delhiriots, banglururiots, shaheen, bagh, hijack, coefbowialuf]\n",
       "1                                                                                                                                                                                         [, by, building, ram, mandir, melting, liberals, and, distributing, burnol, to, people, like, you]\n",
       "2                                                              [, yeah, obviously, will, do, those, places, i, mentioned, were, quite, long, back, chota, char, dham, bada, char, dham, jyotirlingas, all, in, bucket, list, have, visited, krishna, janmabhoomi, waiting, for, ram, mandir]\n",
       "3                                                                                   [samkhans, modis, development, demonetization, gst, caanrc, ram, mandir, article, which, lead, to, kashmir, lockdown, for, more, than, a, year, which, is, completely, barbaric, years, of, useless, pm]\n",
       "4    [tiger, if, there, is, any, proof, of, mandir, at, the, site, of, mosquereligiously, we, are, bound, to, give, back, that, place, to, the, rightful, claimour, prayers, at, such, places, are, not, acceptable, point, i, want, to, make, is, that, this, ram, janam, bhoomi, thing,...\n",
       "Name: tweet_clean_tokenized, dtype: object"
      ]
     },
     "execution_count": 28,
     "metadata": {},
     "output_type": "execute_result"
    }
   ],
   "source": [
    "import re\n",
    "\n",
    "def tokenize(text):\n",
    "  tokens = re.split('\\W+',text)\n",
    "  return tokens\n",
    "\n",
    "df['tweet_clean_tokenized'] = df['Tweet_punct'].apply(lambda x:tokenize(x.lower()))\n",
    "df['tweet_clean_tokenized'].head(5)\n",
    "#df['Tweet_punct'].head(5)\n"
   ]
  },
  {
   "cell_type": "markdown",
   "metadata": {
    "colab_type": "text",
    "id": "NqbHVX5799j3"
   },
   "source": [
    "No Stop Words"
   ]
  },
  {
   "cell_type": "code",
   "execution_count": 29,
   "metadata": {
    "colab": {
     "base_uri": "https://localhost:8080/",
     "height": 67
    },
    "colab_type": "code",
    "id": "fm6fu18b982u",
    "outputId": "5022adb7-a154-43d0-8014-8398673af9f1"
   },
   "outputs": [
    {
     "name": "stderr",
     "output_type": "stream",
     "text": [
      "[nltk_data] Downloading package stopwords to\n",
      "[nltk_data]     C:\\Users\\Abc\\AppData\\Roaming\\nltk_data...\n",
      "[nltk_data]   Unzipping corpora\\stopwords.zip.\n"
     ]
    },
    {
     "data": {
      "text/plain": [
       "['i', 'me', 'my', 'myself', 'we', 'our', 'ours', 'ourselves', 'you', \"you're\"]"
      ]
     },
     "execution_count": 29,
     "metadata": {},
     "output_type": "execute_result"
    }
   ],
   "source": [
    "import nltk\n",
    "nltk.download('stopwords')\n",
    "stopwords = nltk.corpus.stopwords.words('english')\n",
    "\n",
    "stopwords[0:10]"
   ]
  },
  {
   "cell_type": "code",
   "execution_count": 30,
   "metadata": {
    "colab": {
     "base_uri": "https://localhost:8080/",
     "height": 138
    },
    "colab_type": "code",
    "id": "apVmfpwh-jhq",
    "outputId": "4e179c61-1f8c-40c5-b81e-6ec5c995a4fc"
   },
   "outputs": [
    {
     "data": {
      "text/plain": [
       "0    [unrest, spreading, muzlims, dont, like, shaheen, bagh, activist, joins, bjp, uaeisrael, peace, deal, ram, mandir, scrapped, like, hagiasophia, first, church, museums, conversion, mosque, delhiriots, banglururiots, shaheen, bagh, hijack, coefbowialuf]\n",
       "1                                                                                                                                                                               [, building, ram, mandir, melting, liberals, distributing, burnol, people, like]\n",
       "2                                                                                [, yeah, obviously, places, mentioned, quite, long, back, chota, char, dham, bada, char, dham, jyotirlingas, bucket, list, visited, krishna, janmabhoomi, waiting, ram, mandir]\n",
       "3                                                                                                     [samkhans, modis, development, demonetization, gst, caanrc, ram, mandir, article, lead, kashmir, lockdown, year, completely, barbaric, years, useless, pm]\n",
       "4                                                            [tiger, proof, mandir, site, mosquereligiously, bound, give, back, place, rightful, claimour, prayers, places, acceptable, point, want, make, ram, janam, bhoomi, thing, totally, political, issue]\n",
       "Name: tweet_clean_nostopwords, dtype: object"
      ]
     },
     "execution_count": 30,
     "metadata": {},
     "output_type": "execute_result"
    }
   ],
   "source": [
    "def remove_stopwords(txt_tokenized):\n",
    "  txt_clean = [word for word in txt_tokenized if word not in stopwords]\n",
    "  return txt_clean\n",
    "\n",
    "df['tweet_clean_nostopwords'] = df['tweet_clean_tokenized'].apply(lambda x:remove_stopwords(x))\n",
    "df['tweet_clean_nostopwords'].head(5)"
   ]
  },
  {
   "cell_type": "code",
   "execution_count": 33,
   "metadata": {
    "colab": {
     "base_uri": "https://localhost:8080/",
     "height": 1000
    },
    "colab_type": "code",
    "id": "OtM7ALTtC6XN",
    "outputId": "bab0918b-486a-4391-c323-6ec00f3ba843"
   },
   "outputs": [
    {
     "data": {
      "text/html": [
       "<div>\n",
       "<style scoped>\n",
       "    .dataframe tbody tr th:only-of-type {\n",
       "        vertical-align: middle;\n",
       "    }\n",
       "\n",
       "    .dataframe tbody tr th {\n",
       "        vertical-align: top;\n",
       "    }\n",
       "\n",
       "    .dataframe thead th {\n",
       "        text-align: right;\n",
       "    }\n",
       "</style>\n",
       "<table border=\"1\" class=\"dataframe\">\n",
       "  <thead>\n",
       "    <tr style=\"text-align: right;\">\n",
       "      <th></th>\n",
       "      <th>tweets</th>\n",
       "      <th>id</th>\n",
       "      <th>date</th>\n",
       "      <th>source</th>\n",
       "      <th>likes</th>\n",
       "      <th>retweets</th>\n",
       "      <th>Subjectivity</th>\n",
       "      <th>Polarity</th>\n",
       "      <th>Analysis</th>\n",
       "      <th>Tweet_punct</th>\n",
       "      <th>tweet_clean_tokenized</th>\n",
       "      <th>tweet_clean_nostopwords</th>\n",
       "      <th>tweet_ready</th>\n",
       "    </tr>\n",
       "  </thead>\n",
       "  <tbody>\n",
       "    <tr>\n",
       "      <th>0</th>\n",
       "      <td>What unrest spreading Muzlims dont like\\n👉Shaheen Bagh activist joins BJP\\n👉UAEIsrael peace deal\\n👉Ram Mandir\\n👉  Scrapped\\n\\nbut they like\\n👉 HagiaSophia first church then museums conversion to mosque\\n👉 DelhiRiots\\n👉 BangluruRiots \\n👉Shaheen Bagh Hijack coEFBOWiAlUF</td>\n",
       "      <td>1295072820137885696</td>\n",
       "      <td>2020-08-16 18:59:56</td>\n",
       "      <td>Twitter for Android</td>\n",
       "      <td>0</td>\n",
       "      <td>0</td>\n",
       "      <td>0.333333</td>\n",
       "      <td>0.250000</td>\n",
       "      <td>Positive</td>\n",
       "      <td>What unrest spreading Muzlims dont like\\n👉Shaheen Bagh activist joins BJP\\n👉UAEIsrael peace deal\\n👉Ram Mandir\\n👉  Scrapped\\n\\nbut they like\\n👉 HagiaSophia first church then museums conversion to mosque\\n👉 DelhiRiots\\n👉 BangluruRiots \\n👉Shaheen Bagh Hijack coEFBOWiAlUF</td>\n",
       "      <td>[what, unrest, spreading, muzlims, dont, like, shaheen, bagh, activist, joins, bjp, uaeisrael, peace, deal, ram, mandir, scrapped, but, they, like, hagiasophia, first, church, then, museums, conversion, to, mosque, delhiriots, banglururiots, shaheen, bagh, hijack, coefbowialuf]</td>\n",
       "      <td>[unrest, spreading, muzlims, dont, like, shaheen, bagh, activist, joins, bjp, uaeisrael, peace, deal, ram, mandir, scrapped, like, hagiasophia, first, church, museums, conversion, mosque, delhiriots, banglururiots, shaheen, bagh, hijack, coefbowialuf]</td>\n",
       "      <td>unrest spreading muzlims dont like shaheen bagh activist joins bjp uaeisrael peace deal ram mandir scrapped like hagiasophia first church museums conversion mosque delhiriots banglururiots shaheen bagh hijack coefbowialuf</td>\n",
       "    </tr>\n",
       "    <tr>\n",
       "      <th>1</th>\n",
       "      <td>By building Ram Mandir\\nMelting Liberals \\nAnd distributing Burnol \\nto people like you</td>\n",
       "      <td>1295072773765648384</td>\n",
       "      <td>2020-08-16 18:59:45</td>\n",
       "      <td>Twitter for Android</td>\n",
       "      <td>0</td>\n",
       "      <td>0</td>\n",
       "      <td>0.000000</td>\n",
       "      <td>0.000000</td>\n",
       "      <td>Neutral</td>\n",
       "      <td>By building Ram Mandir\\nMelting Liberals \\nAnd distributing Burnol \\nto people like you</td>\n",
       "      <td>[, by, building, ram, mandir, melting, liberals, and, distributing, burnol, to, people, like, you]</td>\n",
       "      <td>[, building, ram, mandir, melting, liberals, distributing, burnol, people, like]</td>\n",
       "      <td>building ram mandir melting liberals distributing burnol people like</td>\n",
       "    </tr>\n",
       "    <tr>\n",
       "      <th>2</th>\n",
       "      <td>yeah obviously will do Those places i mentioned were quite long back \\nChota Char Dham Bada char dham  Jyotirlingas all in bucket list \\nHave visited Krishna Janmabhoomi waiting for Ram mandir</td>\n",
       "      <td>1295072148319420417</td>\n",
       "      <td>2020-08-16 18:57:16</td>\n",
       "      <td>Twitter Web App</td>\n",
       "      <td>1</td>\n",
       "      <td>0</td>\n",
       "      <td>0.300000</td>\n",
       "      <td>-0.016667</td>\n",
       "      <td>Negative</td>\n",
       "      <td>yeah obviously will do Those places i mentioned were quite long back \\nChota Char Dham Bada char dham  Jyotirlingas all in bucket list \\nHave visited Krishna Janmabhoomi waiting for Ram mandir</td>\n",
       "      <td>[, yeah, obviously, will, do, those, places, i, mentioned, were, quite, long, back, chota, char, dham, bada, char, dham, jyotirlingas, all, in, bucket, list, have, visited, krishna, janmabhoomi, waiting, for, ram, mandir]</td>\n",
       "      <td>[, yeah, obviously, places, mentioned, quite, long, back, chota, char, dham, bada, char, dham, jyotirlingas, bucket, list, visited, krishna, janmabhoomi, waiting, ram, mandir]</td>\n",
       "      <td>yeah obviously places mentioned quite long back chota char dham bada char dham jyotirlingas bucket list visited krishna janmabhoomi waiting ram mandir</td>\n",
       "    </tr>\n",
       "    <tr>\n",
       "      <th>3</th>\n",
       "      <td>samkhans  Modis development \\n\\nDemonetization\\nGST\\nCAANRC\\nRam Mandir\\nArticle  which lead to Kashmir lockdown for more than a year which is completely barbaric \\n\\n years of useless PM</td>\n",
       "      <td>1295072104799285248</td>\n",
       "      <td>2020-08-16 18:57:05</td>\n",
       "      <td>Twitter for Android</td>\n",
       "      <td>0</td>\n",
       "      <td>0</td>\n",
       "      <td>0.366667</td>\n",
       "      <td>0.033333</td>\n",
       "      <td>Positive</td>\n",
       "      <td>samkhans  Modis development \\n\\nDemonetization\\nGST\\nCAANRC\\nRam Mandir\\nArticle  which lead to Kashmir lockdown for more than a year which is completely barbaric \\n\\n years of useless PM</td>\n",
       "      <td>[samkhans, modis, development, demonetization, gst, caanrc, ram, mandir, article, which, lead, to, kashmir, lockdown, for, more, than, a, year, which, is, completely, barbaric, years, of, useless, pm]</td>\n",
       "      <td>[samkhans, modis, development, demonetization, gst, caanrc, ram, mandir, article, lead, kashmir, lockdown, year, completely, barbaric, years, useless, pm]</td>\n",
       "      <td>samkhans modis development demonetization gst caanrc ram mandir article lead kashmir lockdown year completely barbaric years useless pm</td>\n",
       "    </tr>\n",
       "    <tr>\n",
       "      <th>4</th>\n",
       "      <td>Tiger    If there is any proof of mandir at the site of mosquereligiously we are bound to give back that place to the rightful claimour prayers at such places are not acceptable\\nPoint i want to make is that This Ram janam bhoomi thing is a totally political issue</td>\n",
       "      <td>1295071422369288192</td>\n",
       "      <td>2020-08-16 18:54:23</td>\n",
       "      <td>Twitter for Android</td>\n",
       "      <td>0</td>\n",
       "      <td>0</td>\n",
       "      <td>0.200000</td>\n",
       "      <td>0.000000</td>\n",
       "      <td>Neutral</td>\n",
       "      <td>Tiger    If there is any proof of mandir at the site of mosquereligiously we are bound to give back that place to the rightful claimour prayers at such places are not acceptable\\nPoint i want to make is that This Ram janam bhoomi thing is a totally political issue</td>\n",
       "      <td>[tiger, if, there, is, any, proof, of, mandir, at, the, site, of, mosquereligiously, we, are, bound, to, give, back, that, place, to, the, rightful, claimour, prayers, at, such, places, are, not, acceptable, point, i, want, to, make, is, that, this, ram, janam, bhoomi, thing,...</td>\n",
       "      <td>[tiger, proof, mandir, site, mosquereligiously, bound, give, back, place, rightful, claimour, prayers, places, acceptable, point, want, make, ram, janam, bhoomi, thing, totally, political, issue]</td>\n",
       "      <td>tiger proof mandir site mosquereligiously bound give back place rightful claimour prayers places acceptable point want make ram janam bhoomi thing totally political issue</td>\n",
       "    </tr>\n",
       "    <tr>\n",
       "      <th>5</th>\n",
       "      <td>Hagia Sophia is one of UNESCOs cultural heritage site\\nIf Ram Mandir case was to be judged by ownership of land It may have gone to Muslims\\nBut these have a huge symbolic value and this was a murderous take by him</td>\n",
       "      <td>1295071106756485120</td>\n",
       "      <td>2020-08-16 18:53:07</td>\n",
       "      <td>Twitter Web App</td>\n",
       "      <td>0</td>\n",
       "      <td>0</td>\n",
       "      <td>0.500000</td>\n",
       "      <td>0.250000</td>\n",
       "      <td>Positive</td>\n",
       "      <td>Hagia Sophia is one of UNESCOs cultural heritage site\\nIf Ram Mandir case was to be judged by ownership of land It may have gone to Muslims\\nBut these have a huge symbolic value and this was a murderous take by him</td>\n",
       "      <td>[, hagia, sophia, is, one, of, unescos, cultural, heritage, site, if, ram, mandir, case, was, to, be, judged, by, ownership, of, land, it, may, have, gone, to, muslims, but, these, have, a, huge, symbolic, value, and, this, was, a, murderous, take, by, him]</td>\n",
       "      <td>[, hagia, sophia, one, unescos, cultural, heritage, site, ram, mandir, case, judged, ownership, land, may, gone, muslims, huge, symbolic, value, murderous, take]</td>\n",
       "      <td>hagia sophia one unescos cultural heritage site ram mandir case judged ownership land may gone muslims huge symbolic value murderous take</td>\n",
       "    </tr>\n",
       "    <tr>\n",
       "      <th>6</th>\n",
       "      <td>bahrain Its a fake propaganda \\nIt was a RAM Mandir since s of year \\nAnd we all know the history as how amp who it was broken amp structure was built over it \\ns of Historical evidences are available to prove this including archeological evidences which help to decide by court</td>\n",
       "      <td>1295070251084906498</td>\n",
       "      <td>2020-08-16 18:49:43</td>\n",
       "      <td>Twitter Web App</td>\n",
       "      <td>0</td>\n",
       "      <td>0</td>\n",
       "      <td>0.380000</td>\n",
       "      <td>-0.120000</td>\n",
       "      <td>Negative</td>\n",
       "      <td>bahrain Its a fake propaganda \\nIt was a RAM Mandir since s of year \\nAnd we all know the history as how amp who it was broken amp structure was built over it \\ns of Historical evidences are available to prove this including archeological evidences which help to decide by court</td>\n",
       "      <td>[, bahrain, its, a, fake, propaganda, it, was, a, ram, mandir, since, s, of, year, and, we, all, know, the, history, as, how, amp, who, it, was, broken, amp, structure, was, built, over, it, s, of, historical, evidences, are, available, to, prove, this, including, archeologic...</td>\n",
       "      <td>[, bahrain, fake, propaganda, ram, mandir, since, year, know, history, amp, broken, amp, structure, built, historical, evidences, available, prove, including, archeological, evidences, help, decide, court]</td>\n",
       "      <td>bahrain fake propaganda ram mandir since year know history amp broken amp structure built historical evidences available prove including archeological evidences help decide court</td>\n",
       "    </tr>\n",
       "    <tr>\n",
       "      <th>7</th>\n",
       "      <td>IND They are planning their move\\nOne thing I like about Amir At least he has made his inclinations known openly How many Hindu actors will do it When Ram Mandir foundation stone laying ceremony was done how many Hindu actors or Bollywood personalities had paid their respects</td>\n",
       "      <td>1295067828941283329</td>\n",
       "      <td>2020-08-16 18:40:06</td>\n",
       "      <td>Twitter for Android</td>\n",
       "      <td>0</td>\n",
       "      <td>0</td>\n",
       "      <td>0.475000</td>\n",
       "      <td>0.175000</td>\n",
       "      <td>Positive</td>\n",
       "      <td>IND They are planning their move\\nOne thing I like about Amir At least he has made his inclinations known openly How many Hindu actors will do it When Ram Mandir foundation stone laying ceremony was done how many Hindu actors or Bollywood personalities had paid their respects</td>\n",
       "      <td>[ind, they, are, planning, their, move, one, thing, i, like, about, amir, at, least, he, has, made, his, inclinations, known, openly, how, many, hindu, actors, will, do, it, when, ram, mandir, foundation, stone, laying, ceremony, was, done, how, many, hindu, actors, or, bolly...</td>\n",
       "      <td>[ind, planning, move, one, thing, like, amir, least, made, inclinations, known, openly, many, hindu, actors, ram, mandir, foundation, stone, laying, ceremony, done, many, hindu, actors, bollywood, personalities, paid, respects]</td>\n",
       "      <td>ind planning move one thing like amir least made inclinations known openly many hindu actors ram mandir foundation stone laying ceremony done many hindu actors bollywood personalities paid respects</td>\n",
       "    </tr>\n",
       "    <tr>\n",
       "      <th>8</th>\n",
       "      <td>Jammu   Have PatienceHave Faith in BJP\\nSystems can’t be changed overnight\\nyrs of mess is been getting solved in last yrsArticleA Ram Mandir Infrastructure Demonetization Blackmoney Smuggling Border IssuesTerrorism Economy State Politicsissues r many all solved</td>\n",
       "      <td>1295067639937675269</td>\n",
       "      <td>2020-08-16 18:39:21</td>\n",
       "      <td>Twitter for iPhone</td>\n",
       "      <td>0</td>\n",
       "      <td>0</td>\n",
       "      <td>0.247222</td>\n",
       "      <td>0.108333</td>\n",
       "      <td>Positive</td>\n",
       "      <td>Jammu   Have PatienceHave Faith in BJP\\nSystems can’t be changed overnight\\nyrs of mess is been getting solved in last yrsArticleA Ram Mandir Infrastructure Demonetization Blackmoney Smuggling Border IssuesTerrorism Economy State Politicsissues r many all solved</td>\n",
       "      <td>[, jammu, have, patiencehave, faith, in, bjp, systems, can, t, be, changed, overnight, yrs, of, mess, is, been, getting, solved, in, last, yrsarticlea, ram, mandir, infrastructure, demonetization, blackmoney, smuggling, border, issuesterrorism, economy, state, politicsissues,...</td>\n",
       "      <td>[, jammu, patiencehave, faith, bjp, systems, changed, overnight, yrs, mess, getting, solved, last, yrsarticlea, ram, mandir, infrastructure, demonetization, blackmoney, smuggling, border, issuesterrorism, economy, state, politicsissues, r, many, solved]</td>\n",
       "      <td>jammu patiencehave faith bjp systems changed overnight yrs mess getting solved last yrsarticlea ram mandir infrastructure demonetization blackmoney smuggling border issuesterrorism economy state politicsissues r many solved</td>\n",
       "    </tr>\n",
       "    <tr>\n",
       "      <th>9</th>\n",
       "      <td>After Ram Mandir it seems BJP forgot preaching of Ramayan \\n                      अहंकार</td>\n",
       "      <td>1295067519321956352</td>\n",
       "      <td>2020-08-16 18:38:52</td>\n",
       "      <td>Twitter for Android</td>\n",
       "      <td>0</td>\n",
       "      <td>0</td>\n",
       "      <td>0.000000</td>\n",
       "      <td>0.000000</td>\n",
       "      <td>Neutral</td>\n",
       "      <td>After Ram Mandir it seems BJP forgot preaching of Ramayan \\n                      अहंकार</td>\n",
       "      <td>[, after, ram, mandir, it, seems, bjp, forgot, preaching, of, ramayan, अह, क, र]</td>\n",
       "      <td>[, ram, mandir, seems, bjp, forgot, preaching, ramayan, अह, क, र]</td>\n",
       "      <td>ram mandir seems bjp forgot preaching ramayan अह क र</td>\n",
       "    </tr>\n",
       "  </tbody>\n",
       "</table>\n",
       "</div>"
      ],
      "text/plain": [
       "                                                                                                                                                                                                                                                                                    tweets  \\\n",
       "0             What unrest spreading Muzlims dont like\\n👉Shaheen Bagh activist joins BJP\\n👉UAEIsrael peace deal\\n👉Ram Mandir\\n👉  Scrapped\\n\\nbut they like\\n👉 HagiaSophia first church then museums conversion to mosque\\n👉 DelhiRiots\\n👉 BangluruRiots \\n👉Shaheen Bagh Hijack coEFBOWiAlUF   \n",
       "1                                                                                                                                                                                                  By building Ram Mandir\\nMelting Liberals \\nAnd distributing Burnol \\nto people like you   \n",
       "2                                                                                         yeah obviously will do Those places i mentioned were quite long back \\nChota Char Dham Bada char dham  Jyotirlingas all in bucket list \\nHave visited Krishna Janmabhoomi waiting for Ram mandir   \n",
       "3                                                                                              samkhans  Modis development \\n\\nDemonetization\\nGST\\nCAANRC\\nRam Mandir\\nArticle  which lead to Kashmir lockdown for more than a year which is completely barbaric \\n\\n years of useless PM   \n",
       "4                 Tiger    If there is any proof of mandir at the site of mosquereligiously we are bound to give back that place to the rightful claimour prayers at such places are not acceptable\\nPoint i want to make is that This Ram janam bhoomi thing is a totally political issue   \n",
       "5                                                                   Hagia Sophia is one of UNESCOs cultural heritage site\\nIf Ram Mandir case was to be judged by ownership of land It may have gone to Muslims\\nBut these have a huge symbolic value and this was a murderous take by him   \n",
       "6   bahrain Its a fake propaganda \\nIt was a RAM Mandir since s of year \\nAnd we all know the history as how amp who it was broken amp structure was built over it \\ns of Historical evidences are available to prove this including archeological evidences which help to decide by court   \n",
       "7     IND They are planning their move\\nOne thing I like about Amir At least he has made his inclinations known openly How many Hindu actors will do it When Ram Mandir foundation stone laying ceremony was done how many Hindu actors or Bollywood personalities had paid their respects   \n",
       "8                   Jammu   Have PatienceHave Faith in BJP\\nSystems can’t be changed overnight\\nyrs of mess is been getting solved in last yrsArticleA Ram Mandir Infrastructure Demonetization Blackmoney Smuggling Border IssuesTerrorism Economy State Politicsissues r many all solved   \n",
       "9                                                                                                                                                                                                 After Ram Mandir it seems BJP forgot preaching of Ramayan \\n                      अहंकार   \n",
       "\n",
       "                    id                date               source  likes  \\\n",
       "0  1295072820137885696 2020-08-16 18:59:56  Twitter for Android      0   \n",
       "1  1295072773765648384 2020-08-16 18:59:45  Twitter for Android      0   \n",
       "2  1295072148319420417 2020-08-16 18:57:16      Twitter Web App      1   \n",
       "3  1295072104799285248 2020-08-16 18:57:05  Twitter for Android      0   \n",
       "4  1295071422369288192 2020-08-16 18:54:23  Twitter for Android      0   \n",
       "5  1295071106756485120 2020-08-16 18:53:07      Twitter Web App      0   \n",
       "6  1295070251084906498 2020-08-16 18:49:43      Twitter Web App      0   \n",
       "7  1295067828941283329 2020-08-16 18:40:06  Twitter for Android      0   \n",
       "8  1295067639937675269 2020-08-16 18:39:21   Twitter for iPhone      0   \n",
       "9  1295067519321956352 2020-08-16 18:38:52  Twitter for Android      0   \n",
       "\n",
       "   retweets  Subjectivity  Polarity  Analysis  \\\n",
       "0         0      0.333333  0.250000  Positive   \n",
       "1         0      0.000000  0.000000   Neutral   \n",
       "2         0      0.300000 -0.016667  Negative   \n",
       "3         0      0.366667  0.033333  Positive   \n",
       "4         0      0.200000  0.000000   Neutral   \n",
       "5         0      0.500000  0.250000  Positive   \n",
       "6         0      0.380000 -0.120000  Negative   \n",
       "7         0      0.475000  0.175000  Positive   \n",
       "8         0      0.247222  0.108333  Positive   \n",
       "9         0      0.000000  0.000000   Neutral   \n",
       "\n",
       "                                                                                                                                                                                                                                                                               Tweet_punct  \\\n",
       "0             What unrest spreading Muzlims dont like\\n👉Shaheen Bagh activist joins BJP\\n👉UAEIsrael peace deal\\n👉Ram Mandir\\n👉  Scrapped\\n\\nbut they like\\n👉 HagiaSophia first church then museums conversion to mosque\\n👉 DelhiRiots\\n👉 BangluruRiots \\n👉Shaheen Bagh Hijack coEFBOWiAlUF   \n",
       "1                                                                                                                                                                                                  By building Ram Mandir\\nMelting Liberals \\nAnd distributing Burnol \\nto people like you   \n",
       "2                                                                                         yeah obviously will do Those places i mentioned were quite long back \\nChota Char Dham Bada char dham  Jyotirlingas all in bucket list \\nHave visited Krishna Janmabhoomi waiting for Ram mandir   \n",
       "3                                                                                              samkhans  Modis development \\n\\nDemonetization\\nGST\\nCAANRC\\nRam Mandir\\nArticle  which lead to Kashmir lockdown for more than a year which is completely barbaric \\n\\n years of useless PM   \n",
       "4                 Tiger    If there is any proof of mandir at the site of mosquereligiously we are bound to give back that place to the rightful claimour prayers at such places are not acceptable\\nPoint i want to make is that This Ram janam bhoomi thing is a totally political issue   \n",
       "5                                                                   Hagia Sophia is one of UNESCOs cultural heritage site\\nIf Ram Mandir case was to be judged by ownership of land It may have gone to Muslims\\nBut these have a huge symbolic value and this was a murderous take by him   \n",
       "6   bahrain Its a fake propaganda \\nIt was a RAM Mandir since s of year \\nAnd we all know the history as how amp who it was broken amp structure was built over it \\ns of Historical evidences are available to prove this including archeological evidences which help to decide by court   \n",
       "7     IND They are planning their move\\nOne thing I like about Amir At least he has made his inclinations known openly How many Hindu actors will do it When Ram Mandir foundation stone laying ceremony was done how many Hindu actors or Bollywood personalities had paid their respects   \n",
       "8                   Jammu   Have PatienceHave Faith in BJP\\nSystems can’t be changed overnight\\nyrs of mess is been getting solved in last yrsArticleA Ram Mandir Infrastructure Demonetization Blackmoney Smuggling Border IssuesTerrorism Economy State Politicsissues r many all solved   \n",
       "9                                                                                                                                                                                                 After Ram Mandir it seems BJP forgot preaching of Ramayan \\n                      अहंकार   \n",
       "\n",
       "                                                                                                                                                                                                                                                                     tweet_clean_tokenized  \\\n",
       "0   [what, unrest, spreading, muzlims, dont, like, shaheen, bagh, activist, joins, bjp, uaeisrael, peace, deal, ram, mandir, scrapped, but, they, like, hagiasophia, first, church, then, museums, conversion, to, mosque, delhiriots, banglururiots, shaheen, bagh, hijack, coefbowialuf]   \n",
       "1                                                                                                                                                                                       [, by, building, ram, mandir, melting, liberals, and, distributing, burnol, to, people, like, you]   \n",
       "2                                                            [, yeah, obviously, will, do, those, places, i, mentioned, were, quite, long, back, chota, char, dham, bada, char, dham, jyotirlingas, all, in, bucket, list, have, visited, krishna, janmabhoomi, waiting, for, ram, mandir]   \n",
       "3                                                                                 [samkhans, modis, development, demonetization, gst, caanrc, ram, mandir, article, which, lead, to, kashmir, lockdown, for, more, than, a, year, which, is, completely, barbaric, years, of, useless, pm]   \n",
       "4  [tiger, if, there, is, any, proof, of, mandir, at, the, site, of, mosquereligiously, we, are, bound, to, give, back, that, place, to, the, rightful, claimour, prayers, at, such, places, are, not, acceptable, point, i, want, to, make, is, that, this, ram, janam, bhoomi, thing,...   \n",
       "5                        [, hagia, sophia, is, one, of, unescos, cultural, heritage, site, if, ram, mandir, case, was, to, be, judged, by, ownership, of, land, it, may, have, gone, to, muslims, but, these, have, a, huge, symbolic, value, and, this, was, a, murderous, take, by, him]   \n",
       "6  [, bahrain, its, a, fake, propaganda, it, was, a, ram, mandir, since, s, of, year, and, we, all, know, the, history, as, how, amp, who, it, was, broken, amp, structure, was, built, over, it, s, of, historical, evidences, are, available, to, prove, this, including, archeologic...   \n",
       "7  [ind, they, are, planning, their, move, one, thing, i, like, about, amir, at, least, he, has, made, his, inclinations, known, openly, how, many, hindu, actors, will, do, it, when, ram, mandir, foundation, stone, laying, ceremony, was, done, how, many, hindu, actors, or, bolly...   \n",
       "8  [, jammu, have, patiencehave, faith, in, bjp, systems, can, t, be, changed, overnight, yrs, of, mess, is, been, getting, solved, in, last, yrsarticlea, ram, mandir, infrastructure, demonetization, blackmoney, smuggling, border, issuesterrorism, economy, state, politicsissues,...   \n",
       "9                                                                                                                                                                                                         [, after, ram, mandir, it, seems, bjp, forgot, preaching, of, ramayan, अह, क, र]   \n",
       "\n",
       "                                                                                                                                                                                                                                         tweet_clean_nostopwords  \\\n",
       "0    [unrest, spreading, muzlims, dont, like, shaheen, bagh, activist, joins, bjp, uaeisrael, peace, deal, ram, mandir, scrapped, like, hagiasophia, first, church, museums, conversion, mosque, delhiriots, banglururiots, shaheen, bagh, hijack, coefbowialuf]   \n",
       "1                                                                                                                                                                               [, building, ram, mandir, melting, liberals, distributing, burnol, people, like]   \n",
       "2                                                                                [, yeah, obviously, places, mentioned, quite, long, back, chota, char, dham, bada, char, dham, jyotirlingas, bucket, list, visited, krishna, janmabhoomi, waiting, ram, mandir]   \n",
       "3                                                                                                     [samkhans, modis, development, demonetization, gst, caanrc, ram, mandir, article, lead, kashmir, lockdown, year, completely, barbaric, years, useless, pm]   \n",
       "4                                                            [tiger, proof, mandir, site, mosquereligiously, bound, give, back, place, rightful, claimour, prayers, places, acceptable, point, want, make, ram, janam, bhoomi, thing, totally, political, issue]   \n",
       "5                                                                                              [, hagia, sophia, one, unescos, cultural, heritage, site, ram, mandir, case, judged, ownership, land, may, gone, muslims, huge, symbolic, value, murderous, take]   \n",
       "6                                                  [, bahrain, fake, propaganda, ram, mandir, since, year, know, history, amp, broken, amp, structure, built, historical, evidences, available, prove, including, archeological, evidences, help, decide, court]   \n",
       "7                            [ind, planning, move, one, thing, like, amir, least, made, inclinations, known, openly, many, hindu, actors, ram, mandir, foundation, stone, laying, ceremony, done, many, hindu, actors, bollywood, personalities, paid, respects]   \n",
       "8  [, jammu, patiencehave, faith, bjp, systems, changed, overnight, yrs, mess, getting, solved, last, yrsarticlea, ram, mandir, infrastructure, demonetization, blackmoney, smuggling, border, issuesterrorism, economy, state, politicsissues, r, many, solved]   \n",
       "9                                                                                                                                                                                              [, ram, mandir, seems, bjp, forgot, preaching, ramayan, अह, क, र]   \n",
       "\n",
       "                                                                                                                                                                                                                       tweet_ready  \n",
       "0    unrest spreading muzlims dont like shaheen bagh activist joins bjp uaeisrael peace deal ram mandir scrapped like hagiasophia first church museums conversion mosque delhiriots banglururiots shaheen bagh hijack coefbowialuf  \n",
       "1                                                                                                                                                             building ram mandir melting liberals distributing burnol people like  \n",
       "2                                                                           yeah obviously places mentioned quite long back chota char dham bada char dham jyotirlingas bucket list visited krishna janmabhoomi waiting ram mandir  \n",
       "3                                                                                          samkhans modis development demonetization gst caanrc ram mandir article lead kashmir lockdown year completely barbaric years useless pm  \n",
       "4                                                       tiger proof mandir site mosquereligiously bound give back place rightful claimour prayers places acceptable point want make ram janam bhoomi thing totally political issue  \n",
       "5                                                                                        hagia sophia one unescos cultural heritage site ram mandir case judged ownership land may gone muslims huge symbolic value murderous take  \n",
       "6                                               bahrain fake propaganda ram mandir since year know history amp broken amp structure built historical evidences available prove including archeological evidences help decide court  \n",
       "7                            ind planning move one thing like amir least made inclinations known openly many hindu actors ram mandir foundation stone laying ceremony done many hindu actors bollywood personalities paid respects  \n",
       "8  jammu patiencehave faith bjp systems changed overnight yrs mess getting solved last yrsarticlea ram mandir infrastructure demonetization blackmoney smuggling border issuesterrorism economy state politicsissues r many solved  \n",
       "9                                                                                                                                                                             ram mandir seems bjp forgot preaching ramayan अह क र  "
      ]
     },
     "execution_count": 33,
     "metadata": {},
     "output_type": "execute_result"
    }
   ],
   "source": [
    "def merge_text(text):\n",
    "    text  = \" \".join([char for char in text if char not in string.punctuation])\n",
    "    text = re.sub('[0-9]+', '', text)\n",
    "    return text\n",
    "  \n",
    "df['tweet_ready'] = df['tweet_clean_nostopwords'].apply(lambda x: merge_text(x))\n",
    "df.to_csv('tweets_exported_ready.csv', encoding='utf-8')\n",
    "df.head(10)"
   ]
  },
  {
   "cell_type": "markdown",
   "metadata": {
    "colab_type": "text",
    "id": "mZsqRfWl_bMQ"
   },
   "source": [
    "Stemming"
   ]
  },
  {
   "cell_type": "code",
   "execution_count": 34,
   "metadata": {
    "colab": {
     "base_uri": "https://localhost:8080/",
     "height": 252
    },
    "colab_type": "code",
    "id": "1oNDmYpNyXBa",
    "outputId": "f89e1ebb-d014-482f-f3d2-c99823490d35"
   },
   "outputs": [
    {
     "data": {
      "text/plain": [
       "tweets                             object\n",
       "id                                  int64\n",
       "date                       datetime64[ns]\n",
       "source                             object\n",
       "likes                               int32\n",
       "retweets                            int32\n",
       "Subjectivity                      float64\n",
       "Polarity                          float64\n",
       "Analysis                           object\n",
       "Tweet_punct                        object\n",
       "tweet_clean_tokenized              object\n",
       "tweet_clean_nostopwords            object\n",
       "tweet_ready                        object\n",
       "dtype: object"
      ]
     },
     "execution_count": 34,
     "metadata": {},
     "output_type": "execute_result"
    }
   ],
   "source": [
    "df.dtypes"
   ]
  },
  {
   "cell_type": "code",
   "execution_count": 33,
   "metadata": {
    "colab": {
     "base_uri": "https://localhost:8080/",
     "height": 954
    },
    "colab_type": "code",
    "id": "nnyVJZ0zBhkh",
    "outputId": "71f193b9-921d-40f3-964e-5660dec73103"
   },
   "outputs": [
    {
     "data": {
      "text/html": [
       "<div>\n",
       "<style scoped>\n",
       "    .dataframe tbody tr th:only-of-type {\n",
       "        vertical-align: middle;\n",
       "    }\n",
       "\n",
       "    .dataframe tbody tr th {\n",
       "        vertical-align: top;\n",
       "    }\n",
       "\n",
       "    .dataframe thead th {\n",
       "        text-align: right;\n",
       "    }\n",
       "</style>\n",
       "<table border=\"1\" class=\"dataframe\">\n",
       "  <thead>\n",
       "    <tr style=\"text-align: right;\">\n",
       "      <th></th>\n",
       "      <th>tweets</th>\n",
       "      <th>id</th>\n",
       "      <th>date</th>\n",
       "      <th>source</th>\n",
       "      <th>likes</th>\n",
       "      <th>retweets</th>\n",
       "      <th>Subjectivity</th>\n",
       "      <th>Polarity</th>\n",
       "      <th>Analysis</th>\n",
       "      <th>Tweet_punct</th>\n",
       "      <th>tweet_clean_tokenized</th>\n",
       "      <th>tweet_clean_nostopwords</th>\n",
       "      <th>tweet_ready</th>\n",
       "    </tr>\n",
       "  </thead>\n",
       "  <tbody>\n",
       "    <tr>\n",
       "      <th>0</th>\n",
       "      <td>denise Speak it D  Nobody in politics is a saint</td>\n",
       "      <td>1280247132302106625</td>\n",
       "      <td>2020-07-06 21:07:56</td>\n",
       "      <td>Twitter for Android</td>\n",
       "      <td>0</td>\n",
       "      <td>0</td>\n",
       "      <td>0.000000</td>\n",
       "      <td>0.000000</td>\n",
       "      <td>Neutral</td>\n",
       "      <td>denise Speak it D  Nobody in politics is a saint</td>\n",
       "      <td>[denise, speak, it, d, nobody, in, politics, is, a, saint]</td>\n",
       "      <td>[denise, speak, nobody, politics, saint]</td>\n",
       "      <td>denise speak nobody politics saint</td>\n",
       "    </tr>\n",
       "    <tr>\n",
       "      <th>1</th>\n",
       "      <td>International students may need to leave US if their universities transition to onlineonly learning\\n\\ncopmOEwuVoB cowRdLzanSv</td>\n",
       "      <td>1280247131870236678</td>\n",
       "      <td>2020-07-06 21:07:56</td>\n",
       "      <td>LinkedIn</td>\n",
       "      <td>0</td>\n",
       "      <td>0</td>\n",
       "      <td>0.000000</td>\n",
       "      <td>0.000000</td>\n",
       "      <td>Neutral</td>\n",
       "      <td>International students may need to leave US if their universities transition to onlineonly learning\\n\\ncopmOEwuVoB cowRdLzanSv</td>\n",
       "      <td>[international, students, may, need, to, leave, us, if, their, universities, transition, to, onlineonly, learning, copmoewuvob, cowrdlzansv]</td>\n",
       "      <td>[international, students, may, need, leave, us, universities, transition, onlineonly, learning, copmoewuvob, cowrdlzansv]</td>\n",
       "      <td>international students may need leave us universities transition onlineonly learning copmoewuvob cowrdlzansv</td>\n",
       "    </tr>\n",
       "    <tr>\n",
       "      <th>2</th>\n",
       "      <td>Biden has screws loose and is oldfashioned scared of his conservative DONORS unable to go the distance Hed let corporatists PROFIT from legalisation Bernies plan is to hv neighborhoods that suffered from rampant drugarrests profit instead Sick❤️ \\ncoGjvHbdrY</td>\n",
       "      <td>1280247121690734592</td>\n",
       "      <td>2020-07-06 21:07:54</td>\n",
       "      <td>Twitter Web App</td>\n",
       "      <td>0</td>\n",
       "      <td>0</td>\n",
       "      <td>0.384615</td>\n",
       "      <td>-0.288462</td>\n",
       "      <td>Negative</td>\n",
       "      <td>Biden has screws loose and is oldfashioned scared of his conservative DONORS unable to go the distance Hed let corporatists PROFIT from legalisation Bernies plan is to hv neighborhoods that suffered from rampant drugarrests profit instead Sick❤️ \\ncoGjvHbdrY</td>\n",
       "      <td>[biden, has, screws, loose, and, is, oldfashioned, scared, of, his, conservative, donors, unable, to, go, the, distance, hed, let, corporatists, profit, from, legalisation, bernies, plan, is, to, hv, neighborhoods, that, suffered, from, rampant, drugarrests, profit, instead, ...</td>\n",
       "      <td>[biden, screws, loose, oldfashioned, scared, conservative, donors, unable, go, distance, hed, let, corporatists, profit, legalisation, bernies, plan, hv, neighborhoods, suffered, rampant, drugarrests, profit, instead, sick, cogjvhbdry]</td>\n",
       "      <td>biden screws loose oldfashioned scared conservative donors unable go distance hed let corporatists profit legalisation bernies plan hv neighborhoods suffered rampant drugarrests profit instead sick cogjvhbdry</td>\n",
       "    </tr>\n",
       "    <tr>\n",
       "      <th>3</th>\n",
       "      <td>You are and your ERG party are  to blame  own it \\n\\ncoFjnUxbgqNu</td>\n",
       "      <td>1280247121162252290</td>\n",
       "      <td>2020-07-06 21:07:54</td>\n",
       "      <td>Twitter for Android</td>\n",
       "      <td>0</td>\n",
       "      <td>0</td>\n",
       "      <td>1.000000</td>\n",
       "      <td>0.600000</td>\n",
       "      <td>Positive</td>\n",
       "      <td>You are and your ERG party are  to blame  own it \\n\\ncoFjnUxbgqNu</td>\n",
       "      <td>[you, are, and, your, erg, party, are, to, blame, own, it, cofjnuxbgqnu]</td>\n",
       "      <td>[erg, party, blame, cofjnuxbgqnu]</td>\n",
       "      <td>erg party blame cofjnuxbgqnu</td>\n",
       "    </tr>\n",
       "    <tr>\n",
       "      <th>4</th>\n",
       "      <td>Polls   I posted in four expats facebook groups</td>\n",
       "      <td>1280247120491089923</td>\n",
       "      <td>2020-07-06 21:07:54</td>\n",
       "      <td>Twitter for Android</td>\n",
       "      <td>0</td>\n",
       "      <td>0</td>\n",
       "      <td>0.000000</td>\n",
       "      <td>0.000000</td>\n",
       "      <td>Neutral</td>\n",
       "      <td>Polls   I posted in four expats facebook groups</td>\n",
       "      <td>[, polls, i, posted, in, four, expats, facebook, groups]</td>\n",
       "      <td>[, polls, posted, four, expats, facebook, groups]</td>\n",
       "      <td>polls posted four expats facebook groups</td>\n",
       "    </tr>\n",
       "  </tbody>\n",
       "</table>\n",
       "</div>"
      ],
      "text/plain": [
       "                                                                                                                                                                                                                                                               tweets  \\\n",
       "0                                                                                                                                                                                                                    denise Speak it D  Nobody in politics is a saint   \n",
       "1                                                                                                                                      International students may need to leave US if their universities transition to onlineonly learning\\n\\ncopmOEwuVoB cowRdLzanSv   \n",
       "2  Biden has screws loose and is oldfashioned scared of his conservative DONORS unable to go the distance Hed let corporatists PROFIT from legalisation Bernies plan is to hv neighborhoods that suffered from rampant drugarrests profit instead Sick❤️ \\ncoGjvHbdrY   \n",
       "3                                                                                                                                                                                                   You are and your ERG party are  to blame  own it \\n\\ncoFjnUxbgqNu   \n",
       "4                                                                                                                                                                                                                     Polls   I posted in four expats facebook groups   \n",
       "\n",
       "                    id                date               source  likes  \\\n",
       "0  1280247132302106625 2020-07-06 21:07:56  Twitter for Android      0   \n",
       "1  1280247131870236678 2020-07-06 21:07:56             LinkedIn      0   \n",
       "2  1280247121690734592 2020-07-06 21:07:54      Twitter Web App      0   \n",
       "3  1280247121162252290 2020-07-06 21:07:54  Twitter for Android      0   \n",
       "4  1280247120491089923 2020-07-06 21:07:54  Twitter for Android      0   \n",
       "\n",
       "   retweets  Subjectivity  Polarity  Analysis  \\\n",
       "0         0      0.000000  0.000000   Neutral   \n",
       "1         0      0.000000  0.000000   Neutral   \n",
       "2         0      0.384615 -0.288462  Negative   \n",
       "3         0      1.000000  0.600000  Positive   \n",
       "4         0      0.000000  0.000000   Neutral   \n",
       "\n",
       "                                                                                                                                                                                                                                                          Tweet_punct  \\\n",
       "0                                                                                                                                                                                                                    denise Speak it D  Nobody in politics is a saint   \n",
       "1                                                                                                                                      International students may need to leave US if their universities transition to onlineonly learning\\n\\ncopmOEwuVoB cowRdLzanSv   \n",
       "2  Biden has screws loose and is oldfashioned scared of his conservative DONORS unable to go the distance Hed let corporatists PROFIT from legalisation Bernies plan is to hv neighborhoods that suffered from rampant drugarrests profit instead Sick❤️ \\ncoGjvHbdrY   \n",
       "3                                                                                                                                                                                                   You are and your ERG party are  to blame  own it \\n\\ncoFjnUxbgqNu   \n",
       "4                                                                                                                                                                                                                     Polls   I posted in four expats facebook groups   \n",
       "\n",
       "                                                                                                                                                                                                                                                                     tweet_clean_tokenized  \\\n",
       "0                                                                                                                                                                                                                               [denise, speak, it, d, nobody, in, politics, is, a, saint]   \n",
       "1                                                                                                                                             [international, students, may, need, to, leave, us, if, their, universities, transition, to, onlineonly, learning, copmoewuvob, cowrdlzansv]   \n",
       "2  [biden, has, screws, loose, and, is, oldfashioned, scared, of, his, conservative, donors, unable, to, go, the, distance, hed, let, corporatists, profit, from, legalisation, bernies, plan, is, to, hv, neighborhoods, that, suffered, from, rampant, drugarrests, profit, instead, ...   \n",
       "3                                                                                                                                                                                                                 [you, are, and, your, erg, party, are, to, blame, own, it, cofjnuxbgqnu]   \n",
       "4                                                                                                                                                                                                                                 [, polls, i, posted, in, four, expats, facebook, groups]   \n",
       "\n",
       "                                                                                                                                                                                                                       tweet_clean_nostopwords  \\\n",
       "0                                                                                                                                                                                                     [denise, speak, nobody, politics, saint]   \n",
       "1                                                                                                                    [international, students, may, need, leave, us, universities, transition, onlineonly, learning, copmoewuvob, cowrdlzansv]   \n",
       "2  [biden, screws, loose, oldfashioned, scared, conservative, donors, unable, go, distance, hed, let, corporatists, profit, legalisation, bernies, plan, hv, neighborhoods, suffered, rampant, drugarrests, profit, instead, sick, cogjvhbdry]   \n",
       "3                                                                                                                                                                                                            [erg, party, blame, cofjnuxbgqnu]   \n",
       "4                                                                                                                                                                                            [, polls, posted, four, expats, facebook, groups]   \n",
       "\n",
       "                                                                                                                                                                                                        tweet_ready  \n",
       "0                                                                                                                                                                                denise speak nobody politics saint  \n",
       "1                                                                                                      international students may need leave us universities transition onlineonly learning copmoewuvob cowrdlzansv  \n",
       "2  biden screws loose oldfashioned scared conservative donors unable go distance hed let corporatists profit legalisation bernies plan hv neighborhoods suffered rampant drugarrests profit instead sick cogjvhbdry  \n",
       "3                                                                                                                                                                                      erg party blame cofjnuxbgqnu  \n",
       "4                                                                                                                                                                          polls posted four expats facebook groups  "
      ]
     },
     "execution_count": 33,
     "metadata": {},
     "output_type": "execute_result"
    }
   ],
   "source": [
    "df.head()"
   ]
  },
  {
   "cell_type": "code",
   "execution_count": 35,
   "metadata": {
    "colab": {
     "base_uri": "https://localhost:8080/",
     "height": 34
    },
    "colab_type": "code",
    "id": "BL4Hv7GxyXBf",
    "outputId": "545440e0-5ebf-4b88-feda-d87a7077e31a"
   },
   "outputs": [
    {
     "name": "stdout",
     "output_type": "stream",
     "text": [
      "(63,)\n"
     ]
    }
   ],
   "source": [
    "#Using the machine learning concepts : SVM model\n",
    "print(df['tweet_ready'].shape)"
   ]
  },
  {
   "cell_type": "code",
   "execution_count": 36,
   "metadata": {
    "colab": {
     "base_uri": "https://localhost:8080/",
     "height": 70
    },
    "colab_type": "code",
    "id": "QgM5_jaayXBk",
    "outputId": "e7c41813-c039-4dc1-b149-531ee78cf1a7"
   },
   "outputs": [
    {
     "name": "stdout",
     "output_type": "stream",
     "text": [
      "{'unrest': 703, 'spreading': 637, 'muzlims': 466, 'dont': 203, 'like': 398, 'shaheen': 606, 'bagh': 55, 'activist': 9, 'joins': 353, 'bjp': 78, 'uaeisrael': 699, 'peace': 502, 'deal': 177, 'ram': 554, 'mandir': 419, 'scrapped': 595, 'hagiasophia': 281, 'first': 249, 'church': 127, 'museums': 461, 'conversion': 148, 'mosque': 450, 'delhiriots': 183, 'banglururiots': 59, 'hijack': 298, 'coefbowialuf': 132, 'building': 96, 'melting': 433, 'liberals': 397, 'distributing': 199, 'burnol': 98, 'people': 505, 'yeah': 734, 'obviously': 481, 'places': 514, 'mentioned': 435, 'quite': 551, 'long': 406, 'back': 53, 'chota': 125, 'char': 122, 'dham': 193, 'bada': 54, 'jyotirlingas': 359, 'bucket': 94, 'list': 399, 'visited': 714, 'krishna': 377, 'janmabhoomi': 347, 'waiting': 718, 'samkhans': 591, 'modis': 446, 'development': 192, 'demonetization': 189, 'gst': 276, 'caanrc': 101, 'article': 40, 'lead': 387, 'kashmir': 362, 'lockdown': 405, 'year': 735, 'completely': 140, 'barbaric': 60, 'years': 736, 'useless': 707, 'pm': 519, 'tiger': 686, 'proof': 539, 'site': 623, 'mosquereligiously': 451, 'bound': 89, 'give': 263, 'place': 513, 'rightful': 582, 'claimour': 128, 'prayers': 532, 'acceptable': 4, 'point': 520, 'want': 719, 'make': 416, 'janam': 345, 'bhoomi': 70, 'thing': 680, 'totally': 692, 'political': 523, 'issue': 338, 'hagia': 280, 'sophia': 631, 'one': 483, 'unescos': 701, 'cultural': 171, 'heritage': 296, 'case': 109, 'judged': 355, 'ownership': 491, 'land': 384, 'may': 428, 'gone': 268, 'muslims': 463, 'huge': 313, 'symbolic': 659, 'value': 709, 'murderous': 460, 'take': 663, 'bahrain': 56, 'fake': 238, 'propaganda': 540, 'since': 619, 'know': 374, 'history': 306, 'amp': 30, 'broken': 92, 'structure': 653, 'built': 97, 'historical': 305, 'evidences': 228, 'available': 46, 'prove': 541, 'including': 326, 'archeological': 38, 'help': 294, 'decide': 180, 'court': 163, 'ind': 327, 'planning': 516, 'move': 455, 'amir': 25, 'least': 389, 'made': 413, 'inclinations': 325, 'known': 375, 'openly': 485, 'many': 424, 'hindu': 300, 'actors': 10, 'foundation': 253, 'stone': 647, 'laying': 386, 'ceremony': 117, 'done': 202, 'bollywood': 84, 'personalities': 508, 'paid': 494, 'respects': 577, 'jammu': 344, 'patiencehave': 501, 'faith': 237, 'systems': 661, 'changed': 120, 'overnight': 490, 'yrs': 740, 'mess': 437, 'getting': 260, 'solved': 628, 'last': 385, 'yrsarticlea': 741, 'infrastructure': 331, 'blackmoney': 80, 'smuggling': 625, 'border': 87, 'issuesterrorism': 339, 'economy': 210, 'state': 645, 'politicsissues': 525, 'seems': 600, 'forgot': 252, 'preaching': 533, 'ramayan': 555, 'अह': 742, 'competition': 139, 'always': 23, 'close': 130, 'till': 687, 'begin': 63, 'carpate': 108, 'bombing': 85, 'blitzkrieg': 82, 'namo': 469, 'amit': 27, 'shah': 605, 'yogi': 739, 'settled': 604, 'china': 124, 'confrontation': 141, 'advantage': 13, 'lalu': 382, 'jail': 342, 'disadvantage': 197, 'rjd': 584, 'kids': 370, 'big': 73, 'vote': 715, 'catcher': 111, 'lets': 394, 'see': 599, 'happen': 285, 'asktrueindology': 42, 'explain': 232, 'goswami': 270, 'tulsidas': 696, 'mention': 434, 'anything': 36, 'regarding': 566, 'destruction': 190, 'janambhomi': 346, 'babur': 52, 'february': 243, 'december': 179, 'verses': 712, 'ramcharitmanas': 556, 'advani': 12, 'ji': 350, 'lived': 402, 'enough': 219, 'sir': 621, 'days': 176, 'still': 646, 'tweeted': 698, 'bangalore': 58, 'riots': 583, 'love': 410, 'leadership': 388, 'keep': 363, 'quiet': 550, 'religions': 570, 'misdeeds': 440, 'question': 548, 'puja': 543, 'shame': 607, 'call': 103, 'secular': 597, 'evrythin': 230, 'true': 694, 'congress': 144, 'never': 474, 'roads': 586, 'nevr': 475, 'good': 269, 'hindus': 303, 'evryone': 229, 'due': 209, 'invoked': 335, 'yet': 738, 'come': 134, 'tell': 674, 'ur': 705, 'congmen': 142, 'support': 655, 'get': 259, 'votes': 716, 'modi': 444, 'govt': 272, 'said': 589, 'tht': 685, 'betrayed': 66, 'build': 95, 'got': 271, 'justice': 357, 'similarly': 618, 'caatriple': 102, 'talaq': 666, 'etc': 224, 'served': 603, 'save': 592, 'tweet': 697, 'republicforsushant': 574, 'coqtsweudi': 151, 'dhoni': 194, 'hes': 297, 'really': 562, 'legend': 391, 'selfless': 602, 'selfish': 601, 'cricketer': 168, 'ready': 559, 'loose': 407, 'endorsement': 218, 'let': 393, 'cost': 156, 'wrong': 731, 'say': 593, 'loud': 409, 'also': 22, 'happy': 288, 'reconstruction': 564, 'ayodhya': 47, 'man': 417, 'whose': 726, 'dream': 207, 'came': 104, 'must': 464, 'something': 630, 'surreal': 657, 'kamra': 361, 'someone': 629, 'struggling': 654, 'meet': 432, 'minimum': 439, 'numbers': 480, 'audience': 45, 'count': 160, 'show': 613, 'cant': 106, 'relate': 567, 'goals': 266, 'achieved': 6, 'please': 518, 'guys': 278, 'trust': 695, 'mota': 452, 'bhai': 68, 'modijiits': 445, 'bcoz': 62, 'abrogated': 2, 'triple': 693, 'hinduism': 301, 'stronger': 652, 'mat': 426, 'bhulo': 71, 'gujarat': 277, 'fate': 241, 'born': 88, 'end': 217, 'era': 222, 'mayawati': 429, 'started': 644, 'growing': 275, 'akhilesh': 18, 'yadav': 733, 'entered': 220, 'teenage': 673, 'extreme': 233, 'sushasan': 658, 'going': 267, 'little': 400, 'sitas': 622, 'molested': 447, 'another': 33, 'moviemango': 457, 'purely': 546, 'centred': 116, 'policies': 521, 'current': 174, 'correcting': 154, 'past': 499, 'mistakes': 441, 'nep': 473, 'next': 477, 'pure': 545, 'hindutva': 304, 'caa': 100, 'rera': 575, 'act': 7, 'cr': 167, 'homes': 309, 'toilets': 691, 'stable': 640, 'removal': 572, 'low': 411, 'inflation': 330, 'terrorism': 678, 'drop': 208, 'new': 476, 'aiims': 14, 'airports': 16, 'lgbtq': 395, 'lakh': 381, 'km': 373, 'motor': 453, 'vehicles': 711, 'weaponry': 721, 'forces': 251, 'education': 212, 'policy': 522, 'iits': 320, 'iims': 319, 'reduced': 565, 'corporate': 153, 'tax': 669, 'gave': 257, 'us': 706, 'world': 729, 'cup': 172, 'lk': 404, 'hope': 312, 'tera': 677, 'ghar': 261, 'chal': 118, 'raha': 553, 'hai': 282, 'hamara': 283, 'kuch': 378, 'na': 467, 'jarur': 348, 'hoga': 307, 'conozwvvrbqb': 145, 'challenge': 119, 'single': 620, 'common': 136, 'person': 507, 'benefited': 65, 'babri': 50, 'masjid': 425, 'nrc': 479, 'things': 681, 'jumlasarkar': 356, 'celebrating': 113, 'removel': 573, 'celebrates': 112, 'wait': 717, 'population': 528, 'control': 147, 'bill': 75, 'unlike': 702, 'pagans': 493, 'jai': 341, 'shri': 615, 'wipe': 727, 'entire': 221, 'pagan': 492, 'religion': 568, 'convert': 149, 'temples': 676, 'converted': 150, 'cry': 169, 'victim': 713, 'even': 225, 'hear': 291, 'indian': 329, 'temple': 675, 'islamic': 336, 'invader': 333, 'demolished': 187, 'congratulate': 143, 'family': 239, 'bhumi': 72, 'poojan': 526, 'native': 470, 'happened': 286, 'week': 722, 'well': 723, 'sovereignshariat': 633, 'justifies': 358, 'nothing': 478, 'idol': 318, 'encroaching': 216, 'holy': 308, 'eyes': 235, 'believer': 64, 'happiness': 287, 'much': 458, 'less': 392, 'babris': 51, 'demolition': 188, 'perception': 506, 'mandirs': 422, 'path': 500, 'cleared': 129, 'kya': 380, 'piem': 510, 'construction': 146, 'helping': 295, 'million': 438, 'poor': 527, 'streets': 649, 'safety': 588, 'small': 624, 'businesses': 99, 'fatima': 242, 'moms': 448, 'crying': 170, 'blood': 83, 'tears': 671, 'pislamic': 512, 'feminists': 245, 'hoors': 311, 'hoor': 310, 'cozzgmmut': 166, 'sophisticated': 632, 'babar': 49, 'mughal': 459, 'almost': 21, 'finished': 248, 'kings': 371, 'attempted': 44, 'demolish': 186, 'rebuild': 563, 'curious': 173, 'educate': 211, 'bhagatsingh': 67, 'pujan': 544, 'italian': 340, 'christians': 126, 'greviously': 273, 'hurt': 314, 'kejrudin': 364, 'team': 670, 'chanting': 121, 'vandey': 710, 'matram': 427, 'opposed': 487, 'character': 123, 'camouflagehe': 105, 'सच': 744, 'सल': 745, 'मह': 743, 'amitsingh': 29, 'petty': 509, 'country': 162, 'educational': 213, 'institutes': 332, 'lord': 408, 'bless': 81, 'wont': 728, 'jobs': 352, 'food': 250, 'live': 401, 'dictator': 195, 'rest': 579, 'lives': 403, 'coverage': 164, 'yes': 737, 'allow': 20, 'mandirhindus': 421, 'liberal': 396, 'compare': 138, 'othersa': 488, 'respect': 576, 'religionjai': 569, 'shree': 614, 'isnt': 337, 'shocking': 612, 'stars': 642, 'salman': 590, 'sharukh': 609, 'amirdipika': 26, 'amitab': 28, 'dosent': 206, 'spoken': 636, 'demo': 185, 'would': 730, 'taken': 664, 'cm': 131, 'center': 115, 'blackmail': 79, 'ssncp': 639, 'major': 415, 'bills': 77, 'passes': 498, 'remember': 571, 'cos': 155, 'ucc': 700, 'passed': 497, 'emerged': 215, 'thinj': 682, 'oh': 482, 'btw': 93, 'hadnt': 279, 'read': 558, 'shared': 608, 'responded': 578, 'glances': 265, 'thru': 684, 'realise': 561, 'farcical': 240, 'held': 292, 'ill': 322, 'comments': 135, 'im': 323, 'sure': 656, 'thats': 679, 'whole': 725, 'needed': 472, 'rn': 585, 'purposely': 547, 'handle': 284, 'cases': 110, 'ike': 321, 'standardsthe': 641, 'biggest': 74, 'shock': 611, 'snubbing': 626, 'ground': 274, 'breaking': 91, 'genius': 258, 'given': 264, 'cotqcqyjqmre': 159, 'fing': 247, 'hell': 293, 'america': 24, 'associates': 43, 'determining': 191, 'politics': 524, 'india': 328, 'posters': 529, 'anti': 35, 'ones': 484, 'ask': 41, 'abdul': 1, 'klam': 372, 'azad': 48, 'muslim': 462, 'president': 535, 'inc': 324, 'fight': 246, 'tin': 690, 'taalak': 662, 'commonly': 137, 'face': 236, 'book': 86, 'cyber': 175, 'cell': 114, 'wants': 720, 'donating': 201, 'fund': 255, 'mocking': 442, 'side': 616, 'hind': 299, 'kurmi': 379, 'bhakts': 69, 'start': 643, 'promotion': 538, 'times': 689, 'square': 638, 'media': 431, 'silent': 617, 'everything': 227, 'talk': 667, 'hindumuslim': 302, 'air': 15, 'strickserjikal': 651, 'strick': 650, 'shatki': 610, 'upgrah': 704, 'pranali': 531, 'rafel': 552, 'feighter': 244, 'mesile': 436, 'defence': 181, 'system': 660, 'wrop': 732, 'army': 39, 'teen': 672, 'talakram': 665, 'mandirdhara': 420, 'disolvcaa': 198, 'billab': 76, 'har': 289, 'nal': 468, 'plane': 515, 'corona': 152, 'time': 688, 'caror': 107, 'mounth': 454, 'free': 254, 'rashan': 557, 'ankhe': 32, 'kholo': 368, 'bahut': 57, 'lambi': 383, 'public': 542, 'platform': 517, 'every': 226, 'opinion': 486, 'counter': 161, 'spoke': 635, 'nd': 471, 'questioned': 549, 'abt': 3, 'brahmanwaad': 90, 'ancestors': 31, 'alleged': 19, 'leftist': 390, 'ideologiesso': 317, 'jst': 354, 'revert': 580, 'deir': 182, 'knw': 376, 'real': 560, 'answer': 34, 'coz': 165, 'jain': 343, 'mute': 465, 'mode': 443, 'madam': 412, 'jhooth': 349, 'kahan': 360, 'par': 495, 'apko': 37, 'dikh': 196, 'manifesto': 423, 'main': 414, 'promise': 537, 'solve': 627, 'month': 449, 'think': 683, 'eye': 234, 'pigeon': 511, 'bastards': 61, 'death': 178, 'penalty': 504, 'pelting': 503, 'stones': 648, 'uttar': 708, 'pradesh': 530, 'se': 596, 'ek': 214, 'taraf': 668, 'ki': 369, 'acchi': 5, 'khabar': 365, 'aati': 0, 'doosri': 205, 'aisi': 17, 'ghinoni': 262, 'harkato': 290, 'khabare': 366, 'revolutionary': 581, 'actions': 8, 'coeisxw': 133, 'cotczokshct': 158, 'part': 496, 'delirious': 184, 'otherwise': 489, 'problem': 536, 'doesnt': 200, 'actually': 11, 'mean': 430, 'says': 594, 'whats': 724, 'hyphenated': 316, 'secularism': 598, 'movement': 456, 'exist': 231, 'rss': 587, 'invented': 334, 'mandal': 418, 'spelt': 634, 'doom': 204, 'coszwsbvyoq': 157, 'jihaad': 351, 'prep': 534, 'especially': 223, 'hurts': 315, 'khan': 367, 'gang': 256}\n",
      "['aati', 'abdul', 'abrogated', 'abt', 'acceptable', 'acchi', 'achieved', 'act', 'actions', 'activist', 'actors', 'actually', 'advani', 'advantage', 'aiims', 'air', 'airports', 'aisi', 'akhilesh', 'alleged', 'allow', 'almost', 'also', 'always', 'america', 'amir', 'amirdipika', 'amit', 'amitab', 'amitsingh', 'amp', 'ancestors', 'ankhe', 'another', 'answer', 'anti', 'anything', 'apko', 'archeological', 'army', 'article', 'ask', 'asktrueindology', 'associates', 'attempted', 'audience', 'available', 'ayodhya', 'azad', 'babar', 'babri', 'babris', 'babur', 'back', 'bada', 'bagh', 'bahrain', 'bahut', 'bangalore', 'banglururiots', 'barbaric', 'bastards', 'bcoz', 'begin', 'believer', 'benefited', 'betrayed', 'bhagatsingh', 'bhai', 'bhakts', 'bhoomi', 'bhulo', 'bhumi', 'big', 'biggest', 'bill', 'billab', 'bills', 'bjp', 'blackmail', 'blackmoney', 'bless', 'blitzkrieg', 'blood', 'bollywood', 'bombing', 'book', 'border', 'born', 'bound', 'brahmanwaad', 'breaking', 'broken', 'btw', 'bucket', 'build', 'building', 'built', 'burnol', 'businesses', 'caa', 'caanrc', 'caatriple', 'call', 'came', 'camouflagehe', 'cant', 'caror', 'carpate', 'case', 'cases', 'catcher', 'celebrates', 'celebrating', 'cell', 'center', 'centred', 'ceremony', 'chal', 'challenge', 'changed', 'chanting', 'char', 'character', 'china', 'chota', 'christians', 'church', 'claimour', 'cleared', 'close', 'cm', 'coefbowialuf', 'coeisxw', 'come', 'comments', 'common', 'commonly', 'compare', 'competition', 'completely', 'confrontation', 'congmen', 'congratulate', 'congress', 'conozwvvrbqb', 'construction', 'control', 'conversion', 'convert', 'converted', 'coqtsweudi', 'corona', 'corporate', 'correcting', 'cos', 'cost', 'coszwsbvyoq', 'cotczokshct', 'cotqcqyjqmre', 'count', 'counter', 'country', 'court', 'coverage', 'coz', 'cozzgmmut', 'cr', 'cricketer', 'cry', 'crying', 'cultural', 'cup', 'curious', 'current', 'cyber', 'days', 'deal', 'death', 'december', 'decide', 'defence', 'deir', 'delhiriots', 'delirious', 'demo', 'demolish', 'demolished', 'demolition', 'demonetization', 'destruction', 'determining', 'development', 'dham', 'dhoni', 'dictator', 'dikh', 'disadvantage', 'disolvcaa', 'distributing', 'doesnt', 'donating', 'done', 'dont', 'doom', 'doosri', 'dosent', 'dream', 'drop', 'due', 'economy', 'educate', 'education', 'educational', 'ek', 'emerged', 'encroaching', 'end', 'endorsement', 'enough', 'entered', 'entire', 'era', 'especially', 'etc', 'even', 'every', 'everything', 'evidences', 'evryone', 'evrythin', 'exist', 'explain', 'extreme', 'eye', 'eyes', 'face', 'faith', 'fake', 'family', 'farcical', 'fate', 'fatima', 'february', 'feighter', 'feminists', 'fight', 'fing', 'finished', 'first', 'food', 'forces', 'forgot', 'foundation', 'free', 'fund', 'gang', 'gave', 'genius', 'get', 'getting', 'ghar', 'ghinoni', 'give', 'given', 'glances', 'goals', 'going', 'gone', 'good', 'goswami', 'got', 'govt', 'greviously', 'ground', 'growing', 'gst', 'gujarat', 'guys', 'hadnt', 'hagia', 'hagiasophia', 'hai', 'hamara', 'handle', 'happen', 'happened', 'happiness', 'happy', 'har', 'harkato', 'hear', 'held', 'hell', 'help', 'helping', 'heritage', 'hes', 'hijack', 'hind', 'hindu', 'hinduism', 'hindumuslim', 'hindus', 'hindutva', 'historical', 'history', 'hoga', 'holy', 'homes', 'hoor', 'hoors', 'hope', 'huge', 'hurt', 'hurts', 'hyphenated', 'ideologiesso', 'idol', 'iims', 'iits', 'ike', 'ill', 'im', 'inc', 'inclinations', 'including', 'ind', 'india', 'indian', 'inflation', 'infrastructure', 'institutes', 'invader', 'invented', 'invoked', 'islamic', 'isnt', 'issue', 'issuesterrorism', 'italian', 'jai', 'jail', 'jain', 'jammu', 'janam', 'janambhomi', 'janmabhoomi', 'jarur', 'jhooth', 'ji', 'jihaad', 'jobs', 'joins', 'jst', 'judged', 'jumlasarkar', 'justice', 'justifies', 'jyotirlingas', 'kahan', 'kamra', 'kashmir', 'keep', 'kejrudin', 'khabar', 'khabare', 'khan', 'kholo', 'ki', 'kids', 'kings', 'klam', 'km', 'know', 'known', 'knw', 'krishna', 'kuch', 'kurmi', 'kya', 'lakh', 'lalu', 'lambi', 'land', 'last', 'laying', 'lead', 'leadership', 'least', 'leftist', 'legend', 'less', 'let', 'lets', 'lgbtq', 'liberal', 'liberals', 'like', 'list', 'little', 'live', 'lived', 'lives', 'lk', 'lockdown', 'long', 'loose', 'lord', 'loud', 'love', 'low', 'madam', 'made', 'main', 'major', 'make', 'man', 'mandal', 'mandir', 'mandirdhara', 'mandirhindus', 'mandirs', 'manifesto', 'many', 'masjid', 'mat', 'matram', 'may', 'mayawati', 'mean', 'media', 'meet', 'melting', 'mention', 'mentioned', 'mesile', 'mess', 'million', 'minimum', 'misdeeds', 'mistakes', 'mocking', 'mode', 'modi', 'modijiits', 'modis', 'molested', 'moms', 'month', 'mosque', 'mosquereligiously', 'mota', 'motor', 'mounth', 'move', 'movement', 'moviemango', 'much', 'mughal', 'murderous', 'museums', 'muslim', 'muslims', 'must', 'mute', 'muzlims', 'na', 'nal', 'namo', 'native', 'nd', 'needed', 'nep', 'never', 'nevr', 'new', 'next', 'nothing', 'nrc', 'numbers', 'obviously', 'oh', 'one', 'ones', 'openly', 'opinion', 'opposed', 'othersa', 'otherwise', 'overnight', 'ownership', 'pagan', 'pagans', 'paid', 'par', 'part', 'passed', 'passes', 'past', 'path', 'patiencehave', 'peace', 'pelting', 'penalty', 'people', 'perception', 'person', 'personalities', 'petty', 'piem', 'pigeon', 'pislamic', 'place', 'places', 'plane', 'planning', 'platform', 'please', 'pm', 'point', 'policies', 'policy', 'political', 'politics', 'politicsissues', 'poojan', 'poor', 'population', 'posters', 'pradesh', 'pranali', 'prayers', 'preaching', 'prep', 'president', 'problem', 'promise', 'promotion', 'proof', 'propaganda', 'prove', 'public', 'puja', 'pujan', 'pure', 'purely', 'purposely', 'question', 'questioned', 'quiet', 'quite', 'rafel', 'raha', 'ram', 'ramayan', 'ramcharitmanas', 'rashan', 'read', 'ready', 'real', 'realise', 'really', 'rebuild', 'reconstruction', 'reduced', 'regarding', 'relate', 'religion', 'religionjai', 'religions', 'remember', 'removal', 'removel', 'republicforsushant', 'rera', 'respect', 'respects', 'responded', 'rest', 'revert', 'revolutionary', 'rightful', 'riots', 'rjd', 'rn', 'roads', 'rss', 'safety', 'said', 'salman', 'samkhans', 'save', 'say', 'says', 'scrapped', 'se', 'secular', 'secularism', 'see', 'seems', 'selfish', 'selfless', 'served', 'settled', 'shah', 'shaheen', 'shame', 'shared', 'sharukh', 'shatki', 'shock', 'shocking', 'show', 'shree', 'shri', 'side', 'silent', 'similarly', 'since', 'single', 'sir', 'sitas', 'site', 'small', 'smuggling', 'snubbing', 'solve', 'solved', 'someone', 'something', 'sophia', 'sophisticated', 'sovereignshariat', 'spelt', 'spoke', 'spoken', 'spreading', 'square', 'ssncp', 'stable', 'standardsthe', 'stars', 'start', 'started', 'state', 'still', 'stone', 'stones', 'streets', 'strick', 'strickserjikal', 'stronger', 'structure', 'struggling', 'support', 'sure', 'surreal', 'sushasan', 'symbolic', 'system', 'systems', 'taalak', 'take', 'taken', 'talakram', 'talaq', 'talk', 'taraf', 'tax', 'team', 'tears', 'teen', 'teenage', 'tell', 'temple', 'temples', 'tera', 'terrorism', 'thats', 'thing', 'things', 'thinj', 'think', 'thru', 'tht', 'tiger', 'till', 'time', 'times', 'tin', 'toilets', 'totally', 'triple', 'true', 'trust', 'tulsidas', 'tweet', 'tweeted', 'uaeisrael', 'ucc', 'unescos', 'unlike', 'unrest', 'upgrah', 'ur', 'us', 'useless', 'uttar', 'value', 'vandey', 'vehicles', 'verses', 'victim', 'visited', 'vote', 'votes', 'wait', 'waiting', 'want', 'wants', 'weaponry', 'week', 'well', 'whats', 'whole', 'whose', 'wipe', 'wont', 'world', 'would', 'wrong', 'wrop', 'yadav', 'yeah', 'year', 'years', 'yes', 'yet', 'yogi', 'yrs', 'yrsarticlea', 'अह', 'मह', 'सच', 'सल']\n"
     ]
    }
   ],
   "source": [
    "from sklearn.feature_extraction.text import CountVectorizer\n",
    "cv = CountVectorizer()\n",
    "\n",
    "k = cv.fit(df['tweet_ready'])\n",
    "print(k.vocabulary_)\n",
    "print(cv.get_feature_names())\n"
   ]
  },
  {
   "cell_type": "code",
   "execution_count": 37,
   "metadata": {
    "colab": {
     "base_uri": "https://localhost:8080/",
     "height": 386
    },
    "colab_type": "code",
    "id": "KIHbnmhWyXBu",
    "outputId": "2f134a7e-0a5d-4bdd-9000-08545d58c47b"
   },
   "outputs": [
    {
     "name": "stdout",
     "output_type": "stream",
     "text": [
      "(63, 746)\n",
      "[[0 0 0 ... 0 0 0]\n",
      " [0 0 0 ... 0 0 0]\n",
      " [0 0 0 ... 0 0 0]\n",
      " ...\n",
      " [0 0 1 ... 0 0 0]\n",
      " [0 0 0 ... 0 0 0]\n",
      " [0 0 0 ... 0 0 0]]\n",
      "    aati  abdul  abrogated  abt  acceptable  acchi  achieved  act  actions  \\\n",
      "0      0      0          0    0           0      0         0    0        0   \n",
      "1      0      0          0    0           0      0         0    0        0   \n",
      "2      0      0          0    0           0      0         0    0        0   \n",
      "3      0      0          0    0           0      0         0    0        0   \n",
      "4      0      0          0    0           1      0         0    0        0   \n",
      "..   ...    ...        ...  ...         ...    ...       ...  ...      ...   \n",
      "58     0      0          1    0           0      0         0    0        0   \n",
      "59     0      0          1    0           0      0         0    0        0   \n",
      "60     0      0          1    0           0      0         0    0        0   \n",
      "61     0      0          0    0           0      0         0    0        0   \n",
      "62     0      0          0    0           0      0         0    0        0   \n",
      "\n",
      "    activist  ...  years  yes  yet  yogi  yrs  yrsarticlea  अह  मह  सच  सल  \n",
      "0          1  ...      0    0    0     0    0            0   0   0   0   0  \n",
      "1          0  ...      0    0    0     0    0            0   0   0   0   0  \n",
      "2          0  ...      0    0    0     0    0            0   0   0   0   0  \n",
      "3          0  ...      1    0    0     0    0            0   0   0   0   0  \n",
      "4          0  ...      0    0    0     0    0            0   0   0   0   0  \n",
      "..       ...  ...    ...  ...  ...   ...  ...          ...  ..  ..  ..  ..  \n",
      "58         0  ...      0    0    0     0    0            0   0   0   0   0  \n",
      "59         0  ...      0    0    0     0    0            0   0   0   0   0  \n",
      "60         0  ...      0    0    0     0    0            0   0   0   0   0  \n",
      "61         0  ...      0    0    0     0    0            0   0   0   0   0  \n",
      "62         0  ...      0    0    0     0    0            0   0   0   0   0  \n",
      "\n",
      "[63 rows x 746 columns]\n"
     ]
    }
   ],
   "source": [
    "k = cv.transform(df['tweets'])\n",
    "print(k.shape)\n",
    "print(k.toarray())\n",
    "dfcv = pd.DataFrame(k.toarray(), columns = cv.get_feature_names())\n",
    "print(dfcv)"
   ]
  },
  {
   "cell_type": "code",
   "execution_count": 38,
   "metadata": {
    "colab": {
     "base_uri": "https://localhost:8080/",
     "height": 70
    },
    "colab_type": "code",
    "id": "HCLC8OqpyXBx",
    "outputId": "f654608f-15f8-4e52-e432-47cd06c5496d"
   },
   "outputs": [
    {
     "name": "stdout",
     "output_type": "stream",
     "text": [
      "{'unrest': 703, 'spreading': 637, 'muzlims': 466, 'dont': 203, 'like': 398, 'shaheen': 606, 'bagh': 55, 'activist': 9, 'joins': 353, 'bjp': 78, 'uaeisrael': 699, 'peace': 502, 'deal': 177, 'ram': 554, 'mandir': 419, 'scrapped': 595, 'hagiasophia': 281, 'first': 249, 'church': 127, 'museums': 461, 'conversion': 148, 'mosque': 450, 'delhiriots': 183, 'banglururiots': 59, 'hijack': 298, 'coefbowialuf': 132, 'building': 96, 'melting': 433, 'liberals': 397, 'distributing': 199, 'burnol': 98, 'people': 505, 'yeah': 734, 'obviously': 481, 'places': 514, 'mentioned': 435, 'quite': 551, 'long': 406, 'back': 53, 'chota': 125, 'char': 122, 'dham': 193, 'bada': 54, 'jyotirlingas': 359, 'bucket': 94, 'list': 399, 'visited': 714, 'krishna': 377, 'janmabhoomi': 347, 'waiting': 718, 'samkhans': 591, 'modis': 446, 'development': 192, 'demonetization': 189, 'gst': 276, 'caanrc': 101, 'article': 40, 'lead': 387, 'kashmir': 362, 'lockdown': 405, 'year': 735, 'completely': 140, 'barbaric': 60, 'years': 736, 'useless': 707, 'pm': 519, 'tiger': 686, 'proof': 539, 'site': 623, 'mosquereligiously': 451, 'bound': 89, 'give': 263, 'place': 513, 'rightful': 582, 'claimour': 128, 'prayers': 532, 'acceptable': 4, 'point': 520, 'want': 719, 'make': 416, 'janam': 345, 'bhoomi': 70, 'thing': 680, 'totally': 692, 'political': 523, 'issue': 338, 'hagia': 280, 'sophia': 631, 'one': 483, 'unescos': 701, 'cultural': 171, 'heritage': 296, 'case': 109, 'judged': 355, 'ownership': 491, 'land': 384, 'may': 428, 'gone': 268, 'muslims': 463, 'huge': 313, 'symbolic': 659, 'value': 709, 'murderous': 460, 'take': 663, 'bahrain': 56, 'fake': 238, 'propaganda': 540, 'since': 619, 'know': 374, 'history': 306, 'amp': 30, 'broken': 92, 'structure': 653, 'built': 97, 'historical': 305, 'evidences': 228, 'available': 46, 'prove': 541, 'including': 326, 'archeological': 38, 'help': 294, 'decide': 180, 'court': 163, 'ind': 327, 'planning': 516, 'move': 455, 'amir': 25, 'least': 389, 'made': 413, 'inclinations': 325, 'known': 375, 'openly': 485, 'many': 424, 'hindu': 300, 'actors': 10, 'foundation': 253, 'stone': 647, 'laying': 386, 'ceremony': 117, 'done': 202, 'bollywood': 84, 'personalities': 508, 'paid': 494, 'respects': 577, 'jammu': 344, 'patiencehave': 501, 'faith': 237, 'systems': 661, 'changed': 120, 'overnight': 490, 'yrs': 740, 'mess': 437, 'getting': 260, 'solved': 628, 'last': 385, 'yrsarticlea': 741, 'infrastructure': 331, 'blackmoney': 80, 'smuggling': 625, 'border': 87, 'issuesterrorism': 339, 'economy': 210, 'state': 645, 'politicsissues': 525, 'seems': 600, 'forgot': 252, 'preaching': 533, 'ramayan': 555, 'अह': 742, 'competition': 139, 'always': 23, 'close': 130, 'till': 687, 'begin': 63, 'carpate': 108, 'bombing': 85, 'blitzkrieg': 82, 'namo': 469, 'amit': 27, 'shah': 605, 'yogi': 739, 'settled': 604, 'china': 124, 'confrontation': 141, 'advantage': 13, 'lalu': 382, 'jail': 342, 'disadvantage': 197, 'rjd': 584, 'kids': 370, 'big': 73, 'vote': 715, 'catcher': 111, 'lets': 394, 'see': 599, 'happen': 285, 'asktrueindology': 42, 'explain': 232, 'goswami': 270, 'tulsidas': 696, 'mention': 434, 'anything': 36, 'regarding': 566, 'destruction': 190, 'janambhomi': 346, 'babur': 52, 'february': 243, 'december': 179, 'verses': 712, 'ramcharitmanas': 556, 'advani': 12, 'ji': 350, 'lived': 402, 'enough': 219, 'sir': 621, 'days': 176, 'still': 646, 'tweeted': 698, 'bangalore': 58, 'riots': 583, 'love': 410, 'leadership': 388, 'keep': 363, 'quiet': 550, 'religions': 570, 'misdeeds': 440, 'question': 548, 'puja': 543, 'shame': 607, 'call': 103, 'secular': 597, 'evrythin': 230, 'true': 694, 'congress': 144, 'never': 474, 'roads': 586, 'nevr': 475, 'good': 269, 'hindus': 303, 'evryone': 229, 'due': 209, 'invoked': 335, 'yet': 738, 'come': 134, 'tell': 674, 'ur': 705, 'congmen': 142, 'support': 655, 'get': 259, 'votes': 716, 'modi': 444, 'govt': 272, 'said': 589, 'tht': 685, 'betrayed': 66, 'build': 95, 'got': 271, 'justice': 357, 'similarly': 618, 'caatriple': 102, 'talaq': 666, 'etc': 224, 'served': 603, 'save': 592, 'tweet': 697, 'republicforsushant': 574, 'coqtsweudi': 151, 'dhoni': 194, 'hes': 297, 'really': 562, 'legend': 391, 'selfless': 602, 'selfish': 601, 'cricketer': 168, 'ready': 559, 'loose': 407, 'endorsement': 218, 'let': 393, 'cost': 156, 'wrong': 731, 'say': 593, 'loud': 409, 'also': 22, 'happy': 288, 'reconstruction': 564, 'ayodhya': 47, 'man': 417, 'whose': 726, 'dream': 207, 'came': 104, 'must': 464, 'something': 630, 'surreal': 657, 'kamra': 361, 'someone': 629, 'struggling': 654, 'meet': 432, 'minimum': 439, 'numbers': 480, 'audience': 45, 'count': 160, 'show': 613, 'cant': 106, 'relate': 567, 'goals': 266, 'achieved': 6, 'please': 518, 'guys': 278, 'trust': 695, 'mota': 452, 'bhai': 68, 'modijiits': 445, 'bcoz': 62, 'abrogated': 2, 'triple': 693, 'hinduism': 301, 'stronger': 652, 'mat': 426, 'bhulo': 71, 'gujarat': 277, 'fate': 241, 'born': 88, 'end': 217, 'era': 222, 'mayawati': 429, 'started': 644, 'growing': 275, 'akhilesh': 18, 'yadav': 733, 'entered': 220, 'teenage': 673, 'extreme': 233, 'sushasan': 658, 'going': 267, 'little': 400, 'sitas': 622, 'molested': 447, 'another': 33, 'moviemango': 457, 'purely': 546, 'centred': 116, 'policies': 521, 'current': 174, 'correcting': 154, 'past': 499, 'mistakes': 441, 'nep': 473, 'next': 477, 'pure': 545, 'hindutva': 304, 'caa': 100, 'rera': 575, 'act': 7, 'cr': 167, 'homes': 309, 'toilets': 691, 'stable': 640, 'removal': 572, 'low': 411, 'inflation': 330, 'terrorism': 678, 'drop': 208, 'new': 476, 'aiims': 14, 'airports': 16, 'lgbtq': 395, 'lakh': 381, 'km': 373, 'motor': 453, 'vehicles': 711, 'weaponry': 721, 'forces': 251, 'education': 212, 'policy': 522, 'iits': 320, 'iims': 319, 'reduced': 565, 'corporate': 153, 'tax': 669, 'gave': 257, 'us': 706, 'world': 729, 'cup': 172, 'lk': 404, 'hope': 312, 'tera': 677, 'ghar': 261, 'chal': 118, 'raha': 553, 'hai': 282, 'hamara': 283, 'kuch': 378, 'na': 467, 'jarur': 348, 'hoga': 307, 'conozwvvrbqb': 145, 'challenge': 119, 'single': 620, 'common': 136, 'person': 507, 'benefited': 65, 'babri': 50, 'masjid': 425, 'nrc': 479, 'things': 681, 'jumlasarkar': 356, 'celebrating': 113, 'removel': 573, 'celebrates': 112, 'wait': 717, 'population': 528, 'control': 147, 'bill': 75, 'unlike': 702, 'pagans': 493, 'jai': 341, 'shri': 615, 'wipe': 727, 'entire': 221, 'pagan': 492, 'religion': 568, 'convert': 149, 'temples': 676, 'converted': 150, 'cry': 169, 'victim': 713, 'even': 225, 'hear': 291, 'indian': 329, 'temple': 675, 'islamic': 336, 'invader': 333, 'demolished': 187, 'congratulate': 143, 'family': 239, 'bhumi': 72, 'poojan': 526, 'native': 470, 'happened': 286, 'week': 722, 'well': 723, 'sovereignshariat': 633, 'justifies': 358, 'nothing': 478, 'idol': 318, 'encroaching': 216, 'holy': 308, 'eyes': 235, 'believer': 64, 'happiness': 287, 'much': 458, 'less': 392, 'babris': 51, 'demolition': 188, 'perception': 506, 'mandirs': 422, 'path': 500, 'cleared': 129, 'kya': 380, 'piem': 510, 'construction': 146, 'helping': 295, 'million': 438, 'poor': 527, 'streets': 649, 'safety': 588, 'small': 624, 'businesses': 99, 'fatima': 242, 'moms': 448, 'crying': 170, 'blood': 83, 'tears': 671, 'pislamic': 512, 'feminists': 245, 'hoors': 311, 'hoor': 310, 'cozzgmmut': 166, 'sophisticated': 632, 'babar': 49, 'mughal': 459, 'almost': 21, 'finished': 248, 'kings': 371, 'attempted': 44, 'demolish': 186, 'rebuild': 563, 'curious': 173, 'educate': 211, 'bhagatsingh': 67, 'pujan': 544, 'italian': 340, 'christians': 126, 'greviously': 273, 'hurt': 314, 'kejrudin': 364, 'team': 670, 'chanting': 121, 'vandey': 710, 'matram': 427, 'opposed': 487, 'character': 123, 'camouflagehe': 105, 'सच': 744, 'सल': 745, 'मह': 743, 'amitsingh': 29, 'petty': 509, 'country': 162, 'educational': 213, 'institutes': 332, 'lord': 408, 'bless': 81, 'wont': 728, 'jobs': 352, 'food': 250, 'live': 401, 'dictator': 195, 'rest': 579, 'lives': 403, 'coverage': 164, 'yes': 737, 'allow': 20, 'mandirhindus': 421, 'liberal': 396, 'compare': 138, 'othersa': 488, 'respect': 576, 'religionjai': 569, 'shree': 614, 'isnt': 337, 'shocking': 612, 'stars': 642, 'salman': 590, 'sharukh': 609, 'amirdipika': 26, 'amitab': 28, 'dosent': 206, 'spoken': 636, 'demo': 185, 'would': 730, 'taken': 664, 'cm': 131, 'center': 115, 'blackmail': 79, 'ssncp': 639, 'major': 415, 'bills': 77, 'passes': 498, 'remember': 571, 'cos': 155, 'ucc': 700, 'passed': 497, 'emerged': 215, 'thinj': 682, 'oh': 482, 'btw': 93, 'hadnt': 279, 'read': 558, 'shared': 608, 'responded': 578, 'glances': 265, 'thru': 684, 'realise': 561, 'farcical': 240, 'held': 292, 'ill': 322, 'comments': 135, 'im': 323, 'sure': 656, 'thats': 679, 'whole': 725, 'needed': 472, 'rn': 585, 'purposely': 547, 'handle': 284, 'cases': 110, 'ike': 321, 'standardsthe': 641, 'biggest': 74, 'shock': 611, 'snubbing': 626, 'ground': 274, 'breaking': 91, 'genius': 258, 'given': 264, 'cotqcqyjqmre': 159, 'fing': 247, 'hell': 293, 'america': 24, 'associates': 43, 'determining': 191, 'politics': 524, 'india': 328, 'posters': 529, 'anti': 35, 'ones': 484, 'ask': 41, 'abdul': 1, 'klam': 372, 'azad': 48, 'muslim': 462, 'president': 535, 'inc': 324, 'fight': 246, 'tin': 690, 'taalak': 662, 'commonly': 137, 'face': 236, 'book': 86, 'cyber': 175, 'cell': 114, 'wants': 720, 'donating': 201, 'fund': 255, 'mocking': 442, 'side': 616, 'hind': 299, 'kurmi': 379, 'bhakts': 69, 'start': 643, 'promotion': 538, 'times': 689, 'square': 638, 'media': 431, 'silent': 617, 'everything': 227, 'talk': 667, 'hindumuslim': 302, 'air': 15, 'strickserjikal': 651, 'strick': 650, 'shatki': 610, 'upgrah': 704, 'pranali': 531, 'rafel': 552, 'feighter': 244, 'mesile': 436, 'defence': 181, 'system': 660, 'wrop': 732, 'army': 39, 'teen': 672, 'talakram': 665, 'mandirdhara': 420, 'disolvcaa': 198, 'billab': 76, 'har': 289, 'nal': 468, 'plane': 515, 'corona': 152, 'time': 688, 'caror': 107, 'mounth': 454, 'free': 254, 'rashan': 557, 'ankhe': 32, 'kholo': 368, 'bahut': 57, 'lambi': 383, 'public': 542, 'platform': 517, 'every': 226, 'opinion': 486, 'counter': 161, 'spoke': 635, 'nd': 471, 'questioned': 549, 'abt': 3, 'brahmanwaad': 90, 'ancestors': 31, 'alleged': 19, 'leftist': 390, 'ideologiesso': 317, 'jst': 354, 'revert': 580, 'deir': 182, 'knw': 376, 'real': 560, 'answer': 34, 'coz': 165, 'jain': 343, 'mute': 465, 'mode': 443, 'madam': 412, 'jhooth': 349, 'kahan': 360, 'par': 495, 'apko': 37, 'dikh': 196, 'manifesto': 423, 'main': 414, 'promise': 537, 'solve': 627, 'month': 449, 'think': 683, 'eye': 234, 'pigeon': 511, 'bastards': 61, 'death': 178, 'penalty': 504, 'pelting': 503, 'stones': 648, 'uttar': 708, 'pradesh': 530, 'se': 596, 'ek': 214, 'taraf': 668, 'ki': 369, 'acchi': 5, 'khabar': 365, 'aati': 0, 'doosri': 205, 'aisi': 17, 'ghinoni': 262, 'harkato': 290, 'khabare': 366, 'revolutionary': 581, 'actions': 8, 'coeisxw': 133, 'cotczokshct': 158, 'part': 496, 'delirious': 184, 'otherwise': 489, 'problem': 536, 'doesnt': 200, 'actually': 11, 'mean': 430, 'says': 594, 'whats': 724, 'hyphenated': 316, 'secularism': 598, 'movement': 456, 'exist': 231, 'rss': 587, 'invented': 334, 'mandal': 418, 'spelt': 634, 'doom': 204, 'coszwsbvyoq': 157, 'jihaad': 351, 'prep': 534, 'especially': 223, 'hurts': 315, 'khan': 367, 'gang': 256}\n",
      "['aati', 'abdul', 'abrogated', 'abt', 'acceptable', 'acchi', 'achieved', 'act', 'actions', 'activist', 'actors', 'actually', 'advani', 'advantage', 'aiims', 'air', 'airports', 'aisi', 'akhilesh', 'alleged', 'allow', 'almost', 'also', 'always', 'america', 'amir', 'amirdipika', 'amit', 'amitab', 'amitsingh', 'amp', 'ancestors', 'ankhe', 'another', 'answer', 'anti', 'anything', 'apko', 'archeological', 'army', 'article', 'ask', 'asktrueindology', 'associates', 'attempted', 'audience', 'available', 'ayodhya', 'azad', 'babar', 'babri', 'babris', 'babur', 'back', 'bada', 'bagh', 'bahrain', 'bahut', 'bangalore', 'banglururiots', 'barbaric', 'bastards', 'bcoz', 'begin', 'believer', 'benefited', 'betrayed', 'bhagatsingh', 'bhai', 'bhakts', 'bhoomi', 'bhulo', 'bhumi', 'big', 'biggest', 'bill', 'billab', 'bills', 'bjp', 'blackmail', 'blackmoney', 'bless', 'blitzkrieg', 'blood', 'bollywood', 'bombing', 'book', 'border', 'born', 'bound', 'brahmanwaad', 'breaking', 'broken', 'btw', 'bucket', 'build', 'building', 'built', 'burnol', 'businesses', 'caa', 'caanrc', 'caatriple', 'call', 'came', 'camouflagehe', 'cant', 'caror', 'carpate', 'case', 'cases', 'catcher', 'celebrates', 'celebrating', 'cell', 'center', 'centred', 'ceremony', 'chal', 'challenge', 'changed', 'chanting', 'char', 'character', 'china', 'chota', 'christians', 'church', 'claimour', 'cleared', 'close', 'cm', 'coefbowialuf', 'coeisxw', 'come', 'comments', 'common', 'commonly', 'compare', 'competition', 'completely', 'confrontation', 'congmen', 'congratulate', 'congress', 'conozwvvrbqb', 'construction', 'control', 'conversion', 'convert', 'converted', 'coqtsweudi', 'corona', 'corporate', 'correcting', 'cos', 'cost', 'coszwsbvyoq', 'cotczokshct', 'cotqcqyjqmre', 'count', 'counter', 'country', 'court', 'coverage', 'coz', 'cozzgmmut', 'cr', 'cricketer', 'cry', 'crying', 'cultural', 'cup', 'curious', 'current', 'cyber', 'days', 'deal', 'death', 'december', 'decide', 'defence', 'deir', 'delhiriots', 'delirious', 'demo', 'demolish', 'demolished', 'demolition', 'demonetization', 'destruction', 'determining', 'development', 'dham', 'dhoni', 'dictator', 'dikh', 'disadvantage', 'disolvcaa', 'distributing', 'doesnt', 'donating', 'done', 'dont', 'doom', 'doosri', 'dosent', 'dream', 'drop', 'due', 'economy', 'educate', 'education', 'educational', 'ek', 'emerged', 'encroaching', 'end', 'endorsement', 'enough', 'entered', 'entire', 'era', 'especially', 'etc', 'even', 'every', 'everything', 'evidences', 'evryone', 'evrythin', 'exist', 'explain', 'extreme', 'eye', 'eyes', 'face', 'faith', 'fake', 'family', 'farcical', 'fate', 'fatima', 'february', 'feighter', 'feminists', 'fight', 'fing', 'finished', 'first', 'food', 'forces', 'forgot', 'foundation', 'free', 'fund', 'gang', 'gave', 'genius', 'get', 'getting', 'ghar', 'ghinoni', 'give', 'given', 'glances', 'goals', 'going', 'gone', 'good', 'goswami', 'got', 'govt', 'greviously', 'ground', 'growing', 'gst', 'gujarat', 'guys', 'hadnt', 'hagia', 'hagiasophia', 'hai', 'hamara', 'handle', 'happen', 'happened', 'happiness', 'happy', 'har', 'harkato', 'hear', 'held', 'hell', 'help', 'helping', 'heritage', 'hes', 'hijack', 'hind', 'hindu', 'hinduism', 'hindumuslim', 'hindus', 'hindutva', 'historical', 'history', 'hoga', 'holy', 'homes', 'hoor', 'hoors', 'hope', 'huge', 'hurt', 'hurts', 'hyphenated', 'ideologiesso', 'idol', 'iims', 'iits', 'ike', 'ill', 'im', 'inc', 'inclinations', 'including', 'ind', 'india', 'indian', 'inflation', 'infrastructure', 'institutes', 'invader', 'invented', 'invoked', 'islamic', 'isnt', 'issue', 'issuesterrorism', 'italian', 'jai', 'jail', 'jain', 'jammu', 'janam', 'janambhomi', 'janmabhoomi', 'jarur', 'jhooth', 'ji', 'jihaad', 'jobs', 'joins', 'jst', 'judged', 'jumlasarkar', 'justice', 'justifies', 'jyotirlingas', 'kahan', 'kamra', 'kashmir', 'keep', 'kejrudin', 'khabar', 'khabare', 'khan', 'kholo', 'ki', 'kids', 'kings', 'klam', 'km', 'know', 'known', 'knw', 'krishna', 'kuch', 'kurmi', 'kya', 'lakh', 'lalu', 'lambi', 'land', 'last', 'laying', 'lead', 'leadership', 'least', 'leftist', 'legend', 'less', 'let', 'lets', 'lgbtq', 'liberal', 'liberals', 'like', 'list', 'little', 'live', 'lived', 'lives', 'lk', 'lockdown', 'long', 'loose', 'lord', 'loud', 'love', 'low', 'madam', 'made', 'main', 'major', 'make', 'man', 'mandal', 'mandir', 'mandirdhara', 'mandirhindus', 'mandirs', 'manifesto', 'many', 'masjid', 'mat', 'matram', 'may', 'mayawati', 'mean', 'media', 'meet', 'melting', 'mention', 'mentioned', 'mesile', 'mess', 'million', 'minimum', 'misdeeds', 'mistakes', 'mocking', 'mode', 'modi', 'modijiits', 'modis', 'molested', 'moms', 'month', 'mosque', 'mosquereligiously', 'mota', 'motor', 'mounth', 'move', 'movement', 'moviemango', 'much', 'mughal', 'murderous', 'museums', 'muslim', 'muslims', 'must', 'mute', 'muzlims', 'na', 'nal', 'namo', 'native', 'nd', 'needed', 'nep', 'never', 'nevr', 'new', 'next', 'nothing', 'nrc', 'numbers', 'obviously', 'oh', 'one', 'ones', 'openly', 'opinion', 'opposed', 'othersa', 'otherwise', 'overnight', 'ownership', 'pagan', 'pagans', 'paid', 'par', 'part', 'passed', 'passes', 'past', 'path', 'patiencehave', 'peace', 'pelting', 'penalty', 'people', 'perception', 'person', 'personalities', 'petty', 'piem', 'pigeon', 'pislamic', 'place', 'places', 'plane', 'planning', 'platform', 'please', 'pm', 'point', 'policies', 'policy', 'political', 'politics', 'politicsissues', 'poojan', 'poor', 'population', 'posters', 'pradesh', 'pranali', 'prayers', 'preaching', 'prep', 'president', 'problem', 'promise', 'promotion', 'proof', 'propaganda', 'prove', 'public', 'puja', 'pujan', 'pure', 'purely', 'purposely', 'question', 'questioned', 'quiet', 'quite', 'rafel', 'raha', 'ram', 'ramayan', 'ramcharitmanas', 'rashan', 'read', 'ready', 'real', 'realise', 'really', 'rebuild', 'reconstruction', 'reduced', 'regarding', 'relate', 'religion', 'religionjai', 'religions', 'remember', 'removal', 'removel', 'republicforsushant', 'rera', 'respect', 'respects', 'responded', 'rest', 'revert', 'revolutionary', 'rightful', 'riots', 'rjd', 'rn', 'roads', 'rss', 'safety', 'said', 'salman', 'samkhans', 'save', 'say', 'says', 'scrapped', 'se', 'secular', 'secularism', 'see', 'seems', 'selfish', 'selfless', 'served', 'settled', 'shah', 'shaheen', 'shame', 'shared', 'sharukh', 'shatki', 'shock', 'shocking', 'show', 'shree', 'shri', 'side', 'silent', 'similarly', 'since', 'single', 'sir', 'sitas', 'site', 'small', 'smuggling', 'snubbing', 'solve', 'solved', 'someone', 'something', 'sophia', 'sophisticated', 'sovereignshariat', 'spelt', 'spoke', 'spoken', 'spreading', 'square', 'ssncp', 'stable', 'standardsthe', 'stars', 'start', 'started', 'state', 'still', 'stone', 'stones', 'streets', 'strick', 'strickserjikal', 'stronger', 'structure', 'struggling', 'support', 'sure', 'surreal', 'sushasan', 'symbolic', 'system', 'systems', 'taalak', 'take', 'taken', 'talakram', 'talaq', 'talk', 'taraf', 'tax', 'team', 'tears', 'teen', 'teenage', 'tell', 'temple', 'temples', 'tera', 'terrorism', 'thats', 'thing', 'things', 'thinj', 'think', 'thru', 'tht', 'tiger', 'till', 'time', 'times', 'tin', 'toilets', 'totally', 'triple', 'true', 'trust', 'tulsidas', 'tweet', 'tweeted', 'uaeisrael', 'ucc', 'unescos', 'unlike', 'unrest', 'upgrah', 'ur', 'us', 'useless', 'uttar', 'value', 'vandey', 'vehicles', 'verses', 'victim', 'visited', 'vote', 'votes', 'wait', 'waiting', 'want', 'wants', 'weaponry', 'week', 'well', 'whats', 'whole', 'whose', 'wipe', 'wont', 'world', 'would', 'wrong', 'wrop', 'yadav', 'yeah', 'year', 'years', 'yes', 'yet', 'yogi', 'yrs', 'yrsarticlea', 'अह', 'मह', 'सच', 'सल']\n"
     ]
    }
   ],
   "source": [
    "from sklearn.feature_extraction.text import TfidfVectorizer\n",
    "tfidfv = TfidfVectorizer()\n",
    "\n",
    "l = tfidfv.fit(df['tweet_ready'])\n",
    "print(l.vocabulary_)\n",
    "print(tfidfv.get_feature_names())"
   ]
  },
  {
   "cell_type": "code",
   "execution_count": 39,
   "metadata": {
    "colab": {
     "base_uri": "https://localhost:8080/",
     "height": 1000
    },
    "colab_type": "code",
    "id": "8qHsTeuLyXB3",
    "outputId": "5b50cf89-e0c7-4ef6-9824-c4c3c2d5db02"
   },
   "outputs": [
    {
     "name": "stdout",
     "output_type": "stream",
     "text": [
      "(63, 746)\n",
      "[[0.         0.         0.         ... 0.         0.         0.        ]\n",
      " [0.         0.         0.         ... 0.         0.         0.        ]\n",
      " [0.         0.         0.         ... 0.         0.         0.        ]\n",
      " ...\n",
      " [0.         0.         0.20564207 ... 0.         0.         0.        ]\n",
      " [0.         0.         0.         ... 0.         0.         0.        ]\n",
      " [0.         0.         0.         ... 0.         0.         0.        ]]\n",
      "  (0, 703)\t0.18347529629772177\n",
      "  (0, 699)\t0.18347529629772177\n",
      "  (0, 637)\t0.18347529629772177\n",
      "  (0, 606)\t0.36695059259544355\n",
      "  (0, 595)\t0.18347529629772177\n",
      "  (0, 554)\t0.04238951927483604\n",
      "  (0, 502)\t0.18347529629772177\n",
      "  (0, 466)\t0.18347529629772177\n",
      "  (0, 461)\t0.18347529629772177\n",
      "  (0, 450)\t0.15499726107592646\n",
      "  (0, 419)\t0.043736693086486284\n",
      "  (0, 398)\t0.25303845170826234\n",
      "  (0, 353)\t0.18347529629772177\n",
      "  (0, 298)\t0.18347529629772177\n",
      "  (0, 281)\t0.18347529629772177\n",
      "  (0, 249)\t0.15499726107592646\n",
      "  (0, 203)\t0.18347529629772177\n",
      "  (0, 183)\t0.18347529629772177\n",
      "  (0, 177)\t0.18347529629772177\n",
      "  (0, 148)\t0.18347529629772177\n",
      "  (0, 132)\t0.18347529629772177\n",
      "  (0, 127)\t0.1668167135987552\n",
      "  (0, 78)\t0.12168009567799339\n",
      "  (0, 59)\t0.18347529629772177\n",
      "  (0, 55)\t0.36695059259544355\n",
      "  :\t:\n",
      "  (61, 419)\t0.04788334462763216\n",
      "  (61, 418)\t0.20087048707382135\n",
      "  (61, 334)\t0.20087048707382135\n",
      "  (61, 316)\t0.20087048707382135\n",
      "  (61, 304)\t0.18263251341620637\n",
      "  (61, 269)\t0.18263251341620637\n",
      "  (61, 231)\t0.20087048707382135\n",
      "  (61, 225)\t0.16969246517475822\n",
      "  (61, 204)\t0.20087048707382135\n",
      "  (61, 200)\t0.20087048707382135\n",
      "  (61, 184)\t0.20087048707382135\n",
      "  (61, 161)\t0.18263251341620637\n",
      "  (61, 157)\t0.20087048707382135\n",
      "  (61, 74)\t0.18263251341620637\n",
      "  (61, 11)\t0.20087048707382135\n",
      "  (62, 554)\t0.0839795132202295\n",
      "  (62, 534)\t0.3634899931542016\n",
      "  (62, 419)\t0.08664845127050338\n",
      "  (62, 367)\t0.3634899931542016\n",
      "  (62, 351)\t0.3634899931542016\n",
      "  (62, 336)\t0.33048703181067357\n",
      "  (62, 328)\t0.2889082178084212\n",
      "  (62, 315)\t0.3634899931542016\n",
      "  (62, 256)\t0.3634899931542016\n",
      "  (62, 223)\t0.3634899931542016\n",
      "    aati  abdul  abrogated  abt  acceptable  acchi  achieved  act  actions  \\\n",
      "0    0.0    0.0   0.000000  0.0    0.000000    0.0       0.0  0.0      0.0   \n",
      "1    0.0    0.0   0.000000  0.0    0.000000    0.0       0.0  0.0      0.0   \n",
      "2    0.0    0.0   0.000000  0.0    0.000000    0.0       0.0  0.0      0.0   \n",
      "3    0.0    0.0   0.000000  0.0    0.000000    0.0       0.0  0.0      0.0   \n",
      "4    0.0    0.0   0.000000  0.0    0.223202    0.0       0.0  0.0      0.0   \n",
      "..   ...    ...        ...  ...         ...    ...       ...  ...      ...   \n",
      "58   0.0    0.0   0.205642  0.0    0.000000    0.0       0.0  0.0      0.0   \n",
      "59   0.0    0.0   0.205642  0.0    0.000000    0.0       0.0  0.0      0.0   \n",
      "60   0.0    0.0   0.205642  0.0    0.000000    0.0       0.0  0.0      0.0   \n",
      "61   0.0    0.0   0.000000  0.0    0.000000    0.0       0.0  0.0      0.0   \n",
      "62   0.0    0.0   0.000000  0.0    0.000000    0.0       0.0  0.0      0.0   \n",
      "\n",
      "    activist  ...    years  yes  yet  yogi  yrs  yrsarticlea   अह   मह   सच  \\\n",
      "0   0.183475  ...  0.00000  0.0  0.0   0.0  0.0          0.0  0.0  0.0  0.0   \n",
      "1   0.000000  ...  0.00000  0.0  0.0   0.0  0.0          0.0  0.0  0.0  0.0   \n",
      "2   0.000000  ...  0.00000  0.0  0.0   0.0  0.0          0.0  0.0  0.0  0.0   \n",
      "3   0.000000  ...  0.22299  0.0  0.0   0.0  0.0          0.0  0.0  0.0  0.0   \n",
      "4   0.000000  ...  0.00000  0.0  0.0   0.0  0.0          0.0  0.0  0.0  0.0   \n",
      "..       ...  ...      ...  ...  ...   ...  ...          ...  ...  ...  ...   \n",
      "58  0.000000  ...  0.00000  0.0  0.0   0.0  0.0          0.0  0.0  0.0  0.0   \n",
      "59  0.000000  ...  0.00000  0.0  0.0   0.0  0.0          0.0  0.0  0.0  0.0   \n",
      "60  0.000000  ...  0.00000  0.0  0.0   0.0  0.0          0.0  0.0  0.0  0.0   \n",
      "61  0.000000  ...  0.00000  0.0  0.0   0.0  0.0          0.0  0.0  0.0  0.0   \n",
      "62  0.000000  ...  0.00000  0.0  0.0   0.0  0.0          0.0  0.0  0.0  0.0   \n",
      "\n",
      "     सल  \n",
      "0   0.0  \n",
      "1   0.0  \n",
      "2   0.0  \n",
      "3   0.0  \n",
      "4   0.0  \n",
      "..  ...  \n",
      "58  0.0  \n",
      "59  0.0  \n",
      "60  0.0  \n",
      "61  0.0  \n",
      "62  0.0  \n",
      "\n",
      "[63 rows x 746 columns]\n"
     ]
    }
   ],
   "source": [
    "l = tfidfv.transform(df['tweets'])\n",
    "print(l.shape)\n",
    "print(l.toarray())\n",
    "print(l)\n",
    "dftfidv = pd.DataFrame(l.toarray(), columns = tfidfv.get_feature_names())\n",
    "dftfidv.to_csv('dataset.csv', encoding='utf-8')  \n",
    "#dftfidv['Analysis']=df['Analysis']\n",
    "print(dftfidv)"
   ]
  },
  {
   "cell_type": "code",
   "execution_count": 40,
   "metadata": {
    "colab": {
     "base_uri": "https://localhost:8080/",
     "height": 50
    },
    "colab_type": "code",
    "id": "A-RfjdG9yXB8",
    "outputId": "5b7da388-452a-4dba-8d81-bc4e24d2df5b"
   },
   "outputs": [
    {
     "name": "stdout",
     "output_type": "stream",
     "text": [
      "Train set: (50, 746) (50,)\n",
      "Test set: (13, 746) (13,)\n"
     ]
    }
   ],
   "source": [
    "from sklearn.model_selection import train_test_split\n",
    "X_train, X_test, y_train, y_test = train_test_split( dftfidv, df['Analysis'], test_size=0.2, random_state=4)\n",
    "print ('Train set:', X_train.shape,  y_train.shape)\n",
    "print ('Test set:', X_test.shape,  y_test.shape)"
   ]
  },
  {
   "cell_type": "code",
   "execution_count": 41,
   "metadata": {
    "colab": {},
    "colab_type": "code",
    "id": "s7mZMaDwyXCC"
   },
   "outputs": [],
   "source": [
    "import time\n",
    "from sklearn import svm\n",
    "from sklearn.metrics import classification_report\n",
    "from sklearn import metrics\n",
    "# Perform classification with SVM, kernel=linear\n",
    "classifier_linear = svm.SVC(kernel='linear')\n",
    "t0 = time.time()\n",
    "classifier_linear.fit(X_train, y_train)\n",
    "t1 = time.time()\n"
   ]
  },
  {
   "cell_type": "code",
   "execution_count": 42,
   "metadata": {
    "colab": {
     "base_uri": "https://localhost:8080/",
     "height": 50
    },
    "colab_type": "code",
    "id": "ooJCbX9GyXCJ",
    "outputId": "f649a039-05e5-4e97-b092-e974037e6eb1"
   },
   "outputs": [
    {
     "data": {
      "text/plain": [
       "array(['Positive', 'Positive', 'Neutral', 'Positive', 'Positive'],\n",
       "      dtype=object)"
      ]
     },
     "execution_count": 42,
     "metadata": {},
     "output_type": "execute_result"
    }
   ],
   "source": [
    "prediction_linear = classifier_linear.predict(X_test)\n",
    "prediction_linear[0:5]"
   ]
  },
  {
   "cell_type": "code",
   "execution_count": 43,
   "metadata": {
    "colab": {
     "base_uri": "https://localhost:8080/",
     "height": 34
    },
    "colab_type": "code",
    "id": "TSkGKXf3yXCO",
    "outputId": "c1bb8f4e-7edc-4b91-d027-c0ad78c6fa66"
   },
   "outputs": [
    {
     "name": "stdout",
     "output_type": "stream",
     "text": [
      "DecisionTrees's Accuracy:  0.6923076923076923\n"
     ]
    }
   ],
   "source": [
    "from sklearn import metrics\n",
    "import matplotlib.pyplot as plt\n",
    "print(\"DecisionTrees's Accuracy: \", metrics.accuracy_score(y_test, prediction_linear))"
   ]
  },
  {
   "cell_type": "code",
   "execution_count": 44,
   "metadata": {
    "colab": {
     "base_uri": "https://localhost:8080/",
     "height": 218
    },
    "colab_type": "code",
    "id": "KHvOUW8GyXCR",
    "outputId": "e00a5042-6ea5-48f1-c46d-1602f03efc12"
   },
   "outputs": [
    {
     "name": "stdout",
     "output_type": "stream",
     "text": [
      "4      Neutral |Positive\n",
      "31    Positive |Positive\n",
      "27      Neutral |Neutral\n",
      "22    Positive |Positive\n",
      "29    Positive |Positive\n",
      "59    Positive |Positive\n",
      "41    Negative |Positive\n",
      "14    Positive |Positive\n",
      "25      Neutral |Neutral\n",
      "24    Positive |Positive\n",
      "6     Negative |Positive\n",
      "20    Negative |Positive\n",
      "7     Positive |Positive\n",
      "Name: Analysis, dtype: object\n"
     ]
    }
   ],
   "source": [
    "print(y_test +\" |\"+prediction_linear)"
   ]
  },
  {
   "cell_type": "code",
   "execution_count": 45,
   "metadata": {
    "colab": {},
    "colab_type": "code",
    "id": "XY5cw3WPyXCa"
   },
   "outputs": [],
   "source": [
    "#Using the machine learning concepts : Naive Bayes Theorem"
   ]
  },
  {
   "cell_type": "code",
   "execution_count": 46,
   "metadata": {
    "colab": {
     "base_uri": "https://localhost:8080/",
     "height": 50
    },
    "colab_type": "code",
    "id": "GvtGF77jyXC9",
    "outputId": "c9bdc7bc-6f42-4efb-82fa-fa9e322c29d8"
   },
   "outputs": [
    {
     "name": "stdout",
     "output_type": "stream",
     "text": [
      "Train set: (50, 746) (50,)\n",
      "Test set: (13, 746) (13,)\n"
     ]
    }
   ],
   "source": [
    "#test train split data\n",
    "#X_train, X_test, y_train, y_test = train_test_split( dftfidv, df['Analysis'], test_size=0.2, random_state=4)\n",
    "X_train, X_test, y_train, y_test = train_test_split(dftfidv,df['Analysis'],test_size=0.2,random_state=42)\n",
    "print ('Train set:', X_train.shape,  y_train.shape)\n",
    "print ('Test set:', X_test.shape,  y_test.shape)"
   ]
  },
  {
   "cell_type": "code",
   "execution_count": 47,
   "metadata": {
    "colab": {
     "base_uri": "https://localhost:8080/",
     "height": 34
    },
    "colab_type": "code",
    "id": "TPsyTjkjyXDA",
    "outputId": "0461fa22-7377-404e-c45a-1c548954fcd7"
   },
   "outputs": [
    {
     "data": {
      "text/plain": [
       "MultinomialNB()"
      ]
     },
     "execution_count": 47,
     "metadata": {},
     "output_type": "execute_result"
    }
   ],
   "source": [
    "import nltk\n",
    "from nltk.corpus import stopwords\n",
    "from sklearn.feature_extraction.text import TfidfVectorizer\n",
    "from sklearn.model_selection import train_test_split\n",
    "from sklearn import naive_bayes\n",
    "from sklearn.naive_bayes import MultinomialNB\n",
    "from sklearn.naive_bayes import MultinomialNB\n",
    "from sklearn.metrics import roc_auc_score\n",
    "#train naive bayes classifier\n",
    "clf = MultinomialNB()\n",
    "clf.fit(X_train, y_train)\n",
    "#naive_bayes = MultinomialNB()\n",
    "#naive_bayes.fit(X_train,y_train)\n",
    "#MultinomialNB()\n",
    "#print(naives_bayes.predict(X[2:3]))"
   ]
  },
  {
   "cell_type": "code",
   "execution_count": 48,
   "metadata": {
    "colab": {
     "base_uri": "https://localhost:8080/",
     "height": 50
    },
    "colab_type": "code",
    "id": "PDL_PaYFyXDE",
    "outputId": "00ee6104-676e-48ef-96f5-fca387d5627a"
   },
   "outputs": [
    {
     "data": {
      "text/plain": [
       "array(['Positive', 'Positive', 'Positive', 'Negative', 'Positive'],\n",
       "      dtype='<U8')"
      ]
     },
     "execution_count": 48,
     "metadata": {},
     "output_type": "execute_result"
    }
   ],
   "source": [
    "prediction_naive_bayes = clf.predict(X_test)\n",
    "prediction_naive_bayes[0:5]"
   ]
  },
  {
   "cell_type": "code",
   "execution_count": 49,
   "metadata": {
    "colab": {
     "base_uri": "https://localhost:8080/",
     "height": 34
    },
    "colab_type": "code",
    "id": "pIKXbehwyXDG",
    "outputId": "adbe5ca4-560e-48a6-a526-3d98b964b527"
   },
   "outputs": [
    {
     "name": "stdout",
     "output_type": "stream",
     "text": [
      "DecisionTrees's Accuracy:  0.7692307692307693\n"
     ]
    }
   ],
   "source": [
    "from sklearn import metrics\n",
    "import matplotlib.pyplot as plt\n",
    "print(\"DecisionTrees's Accuracy: \", metrics.accuracy_score(y_test, prediction_naive_bayes))"
   ]
  },
  {
   "cell_type": "code",
   "execution_count": 50,
   "metadata": {
    "colab": {
     "base_uri": "https://localhost:8080/",
     "height": 370
    },
    "colab_type": "code",
    "id": "gVrIn48MyXDK",
    "outputId": "bceb62e8-240a-4d6c-ecd0-aea0520838d4"
   },
   "outputs": [
    {
     "name": "stdout",
     "output_type": "stream",
     "text": [
      "61    Positive |Positive\n",
      "57    Positive |Positive\n",
      "0     Positive |Positive\n",
      "43    Negative |Negative\n",
      "5     Positive |Positive\n",
      "36     Neutral |Positive\n",
      "16    Positive |Positive\n",
      "12    Negative |Positive\n",
      "25      Neutral |Neutral\n",
      "60    Positive |Positive\n",
      "55    Positive |Positive\n",
      "9      Neutral |Positive\n",
      "40    Positive |Positive\n",
      "Name: Analysis, dtype: object\n"
     ]
    }
   ],
   "source": [
    "print(y_test +\" |\"+prediction_naive_bayes)"
   ]
  },
  {
   "cell_type": "code",
   "execution_count": 51,
   "metadata": {
    "colab": {
     "base_uri": "https://localhost:8080/",
     "height": 1000
    },
    "colab_type": "code",
    "id": "jglh7c5FyXDN",
    "outputId": "e587cd5f-72f4-44d7-9525-9c37c1da7ce4"
   },
   "outputs": [
    {
     "name": "stdout",
     "output_type": "stream",
     "text": [
      "positive tweets :\n",
      "1)What unrest spreading Muzlims dont like\n",
      "👉Shaheen Bagh activist joins BJP\n",
      "👉UAEIsrael peace deal\n",
      "👉Ram Mandir\n",
      "👉  Scrapped\n",
      "\n",
      "but they like\n",
      "👉 HagiaSophia first church then museums conversion to mosque\n",
      "👉 DelhiRiots\n",
      "👉 BangluruRiots \n",
      "👉Shaheen Bagh Hijack coEFBOWiAlUF\n",
      "\n",
      "2)samkhans  Modis development \n",
      "\n",
      "Demonetization\n",
      "GST\n",
      "CAANRC\n",
      "Ram Mandir\n",
      "Article  which lead to Kashmir lockdown for more than a year which is completely barbaric \n",
      "\n",
      " years of useless PM\n",
      "\n",
      "3)  Hagia Sophia is one of UNESCOs cultural heritage site\n",
      "If Ram Mandir case was to be judged by ownership of land It may have gone to Muslims\n",
      "But these have a huge symbolic value and this was a murderous take by him\n",
      "\n",
      "4)IND They are planning their move\n",
      "One thing I like about Amir At least he has made his inclinations known openly How many Hindu actors will do it When Ram Mandir foundation stone laying ceremony was done how many Hindu actors or Bollywood personalities had paid their respects\n",
      "\n",
      "5) Jammu   Have PatienceHave Faith in BJP\n",
      "Systems can’t be changed overnight\n",
      "yrs of mess is been getting solved in last yrsArticleA Ram Mandir Infrastructure Demonetization Blackmoney Smuggling Border IssuesTerrorism Economy State Politicsissues r many all solved\n",
      "\n",
      "6) Competition is always close till BJP begin its carpate bombing Blitzkrieg NaMo Amit Shah Yogi With Ram Mandir issue settled China confrontation advantage is with BJP Lalu in jail is huge disadvantage for RJD and kids are not big vote catcher Lets see what happen\n",
      "\n",
      "7) Sir it’s been  days and you still haven’t tweeted about the Bangalore Riots which was done by the people you love  Is this your leadership where you keep quiet on one religions misdeeds and you question the Ram  Mandir Puja ceremony  It’s a shame you call yourself secular\n",
      "\n",
      "8) Evrythin is true may b\n",
      "\n",
      "But congress has never done roads on border\n",
      "\n",
      "Congress nevr done good for Hindus\n",
      "\n",
      "Congress is for only Muslims n BJP for evryone\n",
      "\n",
      "Due to BJP Ram Mandir issue solved\n",
      "\n",
      "Invoked article \n",
      "\n",
      "Still yet to come\n",
      "\n",
      "Tell ur congmen to support Hindus to get votes\n",
      "\n",
      "9) I love Dhoni  hes really a legend  hes selfless and you just a selfish cricketer who is not ready to loose any  endorsement let it be on any cost If m wrong prove it say loud that you are also happy with reconstruction of Ram Mandir in Ayodhya\n",
      "\n",
      "10) Advani is a man whose dream of ram mandir came true that must be something very surreal for kamra someone who is struggling to meet the minimum numbers of audience count in his show He cant relate to a man whose goals were achieved\n",
      "\n",
      "11) Please Guys Trust Mota bhai and ModijiIts just bcoz of them  is abrogated and Ram Mandir is done and Triple Talaq done And Hinduism is more stronger now mat bhulo I am from Gujarat I know what is He and Mota bhai is\n",
      "\n",
      "12)MovieMango First  years  purely economy centred policies\n",
      "\n",
      "Current  years  correcting past mistakes  Ram mandir NEP etc\n",
      "\n",
      "Next  years  pure Hindutva\n",
      "\n",
      "13)CAA\n",
      "Rera Act\n",
      "Ram Mandir \n",
      " Cr Homes\n",
      " Cr Toilets\n",
      "Stable Govt\n",
      " Removal\n",
      "Triple Talaq \n",
      "Low Inflation\n",
      "Terrorism Drop\n",
      " new AIIMS\n",
      " new Airports\n",
      "LGBTQ Act\n",
      " lakh Km Roads\n",
      "Motor Vehicles Act\n",
      "Weaponry for forces\n",
      "New Education Policy\n",
      " New IITs IIMs IITs\n",
      "Reduced Corporate tax\n",
      "\n",
      "14)I challenge to  and   show me a single common person who is benefited by\n",
      "Triple talaq\n",
      "Ram Mandir\n",
      "Babri masjid\n",
      " \n",
      "a\n",
      "NRC \n",
      "CAA\n",
      "And many more useless things\n",
      "jumlaSarkar\n",
      "\n",
      "15)   You wipe out an entire Pagan religion convert their temples to a mosque amp when that very mosque is converted to a Church you cry victim Do you even hear yourself \n",
      "Ram Mandir was an Indian temple before Islamic invader Babur demolished it and made a mosque\n",
      "\n",
      "16)   SovereignShariat justifies nothing \n",
      "\n",
      " Unlike Babri the idol was not encroaching any holy place in the eyes of the believer  \n",
      "\n",
      " Most Hindus happiness has much less to with Babris demolition itself but more with a perception that Ram Mandirs path has been cleared\n",
      "\n",
      "17)fatima   Our moms happy over Ram Mandir 🚩 not crying blood tears like pislamic feminists 😂😂When ur moms one of  hoors or hoor😂😂 coZzGMmUt\n",
      "\n",
      "18)  😂😂😂😂Made in china obviously will have to be this sophisticated\n",
      "\n",
      "19)Babar built Mosque in  and Mughal era almost finished n   So I just want to know in these  years how many hindu Kings attempted to demolish Babri and to rebuild Ram Mandir Just curious to know Please educate me\n",
      "\n",
      "20)AmitSingh  You know how petty a man can be when the only dream he has for the country is to build a mandir and not educational institutes Lord Ram bless us when we wont have jobs food education and live under a dictator for the rest of our lives\n",
      "\n",
      "21)  Yes she will allow in Ram mandirHindus are very liberal as compare to othersA hindu always love and respect other religionJai Shree Ram⛳⛳\n",
      "\n",
      "22) Oh and btw I hadnt even read the list you shared before I responded Just glances thru a few now and realise its quite farcical Held up now Ill get back with more comments\n",
      "\n",
      "Ram Mandir at no  Im sure thats what the whole country needed rn 🙂\n",
      "\n",
      "23) Fing hell why are America and its associates determining politics in India First the ram mandir posters then anti caa nrc ones\n",
      "\n",
      "24) CAA\n",
      "Rera Act\n",
      "Ram Mandir \n",
      " Cr Homes\n",
      " Cr Toilets\n",
      "Stable Govt\n",
      " Removal\n",
      "Triple Talaq \n",
      "Low Inflation\n",
      "Terrorism Drop\n",
      " new AIIMS\n",
      " new Airports\n",
      "LGBTQ Act\n",
      " lakh Km Roads\n",
      "Motor Vehicles Act\n",
      "Weaponry for forces\n",
      "New Education Policy\n",
      " New IITs IIMs IITs\n",
      "Reduced Corporate tax\n",
      "\n",
      "25)    in some days you will see riots commonly just bcoz of face book only  and one more thing cyber cell wants to know about who donating how many fund to whom people mocking on ram mandir and donating for masjid out side of india\n",
      "\n",
      "26)    Air strickserjikal strick shatki upgrah pranali rafel feighter s  mesile defence system GST WROP for army teen talakram mandirdhara  disolvcaa billab har ghar nal new plane corona time caror population  mounth free rashan Ankhe kholo bhai list bahut lambi he\n",
      "\n",
      "27)  ur in a public platform here every opinion has a counter opinion u spoke on ram mandir nd i questioned u abt brahmanwaad of ur ancestors as alleged by the leftist ideologiesso i jst revert deir question back to u who may knw the real answer coz m a jain\n",
      "\n",
      "28) Madam jhooth kahan par apko dikh raha bjp manifesto  main promise solve with in  month of Modi  like TRIPlE TALAQ ARTICLE   A and RAM MANDIR I think you close yours eye like pigeon\n",
      "\n",
      "29)  Please Guys Trust Mota bhai and ModijiIts just bcoz of them  is abrogated and Ram Mandir is done and Triple Talaq done And Hinduism is more stronger now mat bhulo I am from Gujarat I know what is He and Mota bhai\n",
      "\n",
      "30)  Please Guys Trust Mota bhai and ModijiIts just bcoz of them  is abrogated and Ram Mandir is done and Triple Talaq done And Hinduism is more stronger now mat bhulo I am from Gujarat I know what is He and Mota bhai\n",
      "\n",
      "31)  Please Guys Trust Mota bhai and ModijiIts just bcoz of them  is abrogated and Ram Mandir is done and Triple Talaq done And Hinduism is more stronger now mat bhulo I am from Gujarat I know what is He and Mota bhai\n",
      "\n",
      "32) Please Guys Trust Mota bhai and ModijiIts just bcoz of them  is abrogated and Ram Mandir is done and Triple Talaq done And Hinduism is more stronger now mat bhulo I am from Gujarat I know what is He and Mota bhai\n",
      "\n",
      "33)Good in part delirious otherwise Biggest problem he doesnt actually mean what he says And whats hyphenated secularism\n",
      "The Ram Mandir movement did not even exist till  RSS invented it to counter Mandal politics which spelt doom for Hindutva\n",
      "coszwsBVYoQ\n",
      "\n"
     ]
    }
   ],
   "source": [
    "#positive tweets\n",
    "\n",
    "print(\"positive tweets :\")\n",
    "j=1\n",
    "sortedDF = df.sort_values(by=['Polarity'])\n",
    "for i in range(0,sortedDF.shape[0]):\n",
    "    if(sortedDF['Analysis'][i] == 'Positive'):\n",
    "        print(str(j) + ')' + sortedDF['tweets'][i]) \n",
    "        print()\n",
    "        j=j+1"
   ]
  },
  {
   "cell_type": "code",
   "execution_count": 52,
   "metadata": {
    "colab": {},
    "colab_type": "code",
    "id": "tbGV4QmByXDQ",
    "outputId": "e79a885e-ce22-4498-e9df-944e97f72cad"
   },
   "outputs": [
    {
     "name": "stdout",
     "output_type": "stream",
     "text": [
      "negative tweets : \n",
      "1) yeah obviously will do Those places i mentioned were quite long back \n",
      "Chota Char Dham Bada char dham  Jyotirlingas all in bucket list \n",
      "Have visited Krishna Janmabhoomi waiting for Ram mandir\n",
      "\n",
      "2) bahrain Its a fake propaganda \n",
      "It was a RAM Mandir since s of year \n",
      "And we all know the history as how amp who it was broken amp structure was built over it \n",
      "s of Historical evidences are available to prove this including archeological evidences which help to decide by court\n",
      "\n",
      "3) Advani ji lived long enough to see Ram Mandir\n",
      "\n",
      "4) It was her fate that she was born in UP during the end of era of Mayawati started growing up during Akhilesh Yadav amp entered into her teenage during extreme SUSHASAN when Ram Mandir is going to be build amp little Sitas will be molested one after another\n",
      "\n",
      "5) U  kya       PiEm   Construction of ram mandir helping a million poor kids on the streets Is it helping the safety issue or is it helping the small businesses\n",
      "\n",
      "6)  This is may be due to Ram Mandir coverage\n",
      "\n",
      "7) isnt shocking that all the stars like salman  Sharukh amirdipika amitab \n",
      "Dosent spoken about Ram mandir\n",
      "\n",
      "8)if DeMo would not have taken place who would have been cm of UP\n",
      "\n",
      "if center blackmail SSNCP to get major bills passes would u still call it a blackmail\n",
      "\n",
      "Remember ram mandir happened cos of DeMo\n",
      "And NRC and UCC will also get passed due to it only\n",
      "\n",
      "Yogi emerged all due to it\n",
      "\n",
      "9)Thinj If DeMo would not have taken place who would have been cm of UP\n",
      "\n",
      "if center blackmail SSNCP to get major bills passes would u still call it a blackmail\n",
      "\n",
      "Remember ram mandir happened cos of DeMo\n",
      "And NRC and UCC will also get passed due to it only\n",
      "\n",
      "Yogi emerged all due to it\n",
      "\n",
      "10)Poor   is purposely made  handle cases Ike these which were not to his standardsThe biggest shock was the snubbing he got from BJP and NaMo for the ground breaking ceremony of Ram Mandir He is a genius amp should be given his due respect Do we see a another LK Advani  cotqCQyjQmre\n",
      "\n",
      "11)I would like to ask question to BJP since  after Sir Abdul klam azad no muslim president of INC  or PM given to India yet they support congress what wrong BJP done to muslim they r against them  r because BJP fight for ram mandir tin taalak  or kashmir   article\n",
      "\n"
     ]
    }
   ],
   "source": [
    "#negative tweets\n",
    "\n",
    "\n",
    "print(\"negative tweets : \")\n",
    "j=1\n",
    "sortedDF = df.sort_values(by=['Polarity'], ascending='False')\n",
    "for i in range(0,sortedDF.shape[0]):\n",
    "    if(sortedDF['Analysis'][i] == 'Negative'):\n",
    "        print(str(j) + ')' + sortedDF['tweets'][i]) \n",
    "        print()\n",
    "        j=j+1"
   ]
  },
  {
   "cell_type": "code",
   "execution_count": 53,
   "metadata": {
    "colab": {},
    "colab_type": "code",
    "id": "CTuDs_b3yXDU",
    "outputId": "cc50895a-e592-4689-daf8-f1136f342106"
   },
   "outputs": [
    {
     "name": "stdout",
     "output_type": "stream",
     "text": [
      "Neutral tweets :\n",
      "1) By building Ram Mandir\n",
      "Melting Liberals \n",
      "And distributing Burnol \n",
      "to people like you\n",
      "\n",
      "2)Tiger    If there is any proof of mandir at the site of mosquereligiously we are bound to give back that place to the rightful claimour prayers at such places are not acceptable\n",
      "Point i want to make is that This Ram janam bhoomi thing is a totally political issue\n",
      "\n",
      "3) After Ram Mandir it seems BJP forgot preaching of Ramayan \n",
      "                      अहंकार\n",
      "\n",
      "4)AskTrueIndology\n",
      "Can explain why Goswami Tulsidas c – not mention anything regarding destruction of Ram Janambhomi mandir by Babur  February  –  December  in any verses out of  verses of Ramcharitmanas\n",
      "\n",
      "5)People before Modi Govt said tht Hindu is been betrayed amp Ram Mandir will never being build but we got justice\n",
      "\n",
      "Similarly with Article CAATriple talaq etc\n",
      "\n",
      "Similarly we have faith in  amp  that justice will be served\n",
      "\n",
      "Save this Tweet\n",
      "\n",
      "RepublicForSushant coQTsweuDI\n",
      "\n",
      "6) By Building Ram Mandir🚩🚩🚩\n",
      "\n",
      "7)Dhoni gave us world cup LK advani gave us Ram Mandir And you You gave us hope Tera ghar chal raha hai to hamara to kuch na kuch jarur hoga coNOzWvvrbQB\n",
      "\n",
      "8) Celebrating Ram Mandir and  removel\n",
      "\n",
      "Waiting for NRC  🔥 🔥\n",
      "\n",
      "9) Celebrates ram Mandir wait for nrc and population control bill\n",
      "\n",
      "10) Celebrating Ram Mandir\n",
      "\n",
      "11)   Unlike Pagans we Hindus got back what was always ours Our Ram Mandir ❤️🇮🇳\n",
      "Jai Shri Ram\n",
      "\n",
      "12) I congratulate you and your family for Ram Mandir Bhumi Poojan in your native state happened a week before as well \n",
      "\n",
      "13) BhagatSingh    After Bhumi Pujan of Ram Mandir Muslims and Italian Christians are  greviously hurt\n",
      "\n",
      "14) IND Its kejrudin and his team who was against chanting Vandey Matram \n",
      "He is the Man who opposed Ram Mandir He has a character of CamouflageHe is सच्चा मूसल महान।\n",
      "\n",
      "15)HIND  kurmi Yet Bhakts start celebrating over Ram Mandir paid promotion in Times Square 😂\n",
      "\n",
      "16)  Media is silent about each amp everything They will only talk if the issue is about Ram Mandir or hindumuslim\n",
      "\n",
      "17) He is on mute mode   no tweet for ram mandir also\n",
      "\n",
      "18)These bastards should be given death penalty by pelting stones at them\n",
      "Uttar Pradesh se ek taraf ram mandir ki acchi khabar aati hai to doosri taraf aisi ghinoni harkato ki khabare\n",
      "Revolutionary actions needed\n",
      "   ji\n",
      "coeiSxW coTczOkShCT\n",
      "\n",
      "19) Islamic jihaad prep against india  especially ram mandir hurts the khan gang\n",
      "\n"
     ]
    }
   ],
   "source": [
    "#neutral tweets\n",
    "\n",
    "\n",
    "print(\"Neutral tweets :\")\n",
    "\n",
    "j=1\n",
    "sortedDF = df.sort_values(by=['Polarity'])\n",
    "for i in range(0,sortedDF.shape[0]):\n",
    "    if(sortedDF['Analysis'][i] == 'Neutral'):\n",
    "        print(str(j) + ')' + sortedDF['tweets'][i]) \n",
    "        print()\n",
    "        j=j+1"
   ]
  },
  {
   "cell_type": "code",
   "execution_count": 54,
   "metadata": {
    "colab": {},
    "colab_type": "code",
    "id": "YU1jfwqfyXDY",
    "outputId": "196ee98f-b2cf-43f1-8813-4a7217366617"
   },
   "outputs": [
    {
     "data": {
      "image/png": "[encoded data removed]",
      "text/plain": [
       "<Figure size 576x432 with 1 Axes>"
      ]
     },
     "metadata": {},
     "output_type": "display_data"
    }
   ],
   "source": [
    "#PLot the polarity\n",
    "plt.figure(figsize=(8,6))\n",
    "for i in range(0,df.shape[0]):\n",
    "    plt.scatter(df['Polarity'][i],df['Subjectivity'][i], color= 'Red')\n",
    "plt.title('Sentiment Analysis')\n",
    "plt.xlabel('Polarity')\n",
    "plt.ylabel('Subjectivity')\n",
    "plt.show()\n",
    "    "
   ]
  },
  {
   "cell_type": "code",
   "execution_count": 55,
   "metadata": {
    "colab": {},
    "colab_type": "code",
    "id": "t33huXynyXDc",
    "outputId": "149b9b53-e356-48ee-eec7-f5cfd14992c9"
   },
   "outputs": [
    {
     "name": "stdout",
     "output_type": "stream",
     "text": [
      "positive tweets percentage : 52.4\n",
      "negative tweets percentage : 17.5\n",
      "neutral tweets percentage : 30.2\n"
     ]
    }
   ],
   "source": [
    "#percentage of tweets\n",
    "\n",
    "ptweets = df[df.Analysis == 'Positive']\n",
    "ptweets = ptweets['tweets']\n",
    "p =round (ptweets.shape[0] / df.shape[0] * 100, 1 )\n",
    "print(\"positive tweets percentage : \" + str(p))\n",
    "\n",
    "\n",
    "ntweets = df[df.Analysis == 'Negative']\n",
    "ntweets = ntweets['tweets']\n",
    "n= round (ntweets.shape[0] / df.shape[0] * 100, 1 )\n",
    "print(\"negative tweets percentage : \" + str(n))\n",
    "\n",
    "netweets = df[df.Analysis == 'Neutral']\n",
    "netweets = netweets['tweets']\n",
    "ne= round (netweets.shape[0] / df.shape[0] * 100, 1 )\n",
    "print(\"neutral tweets percentage : \" + str(ne))"
   ]
  },
  {
   "cell_type": "code",
   "execution_count": 56,
   "metadata": {
    "colab": {},
    "colab_type": "code",
    "id": "0nTz68I_yXDf",
    "outputId": "1bbf7665-50bb-40aa-da85-fe01f95e1e3c"
   },
   "outputs": [
    {
     "data": {
      "text/plain": [
       "Positive    33\n",
       "Neutral     19\n",
       "Negative    11\n",
       "Name: Analysis, dtype: int64"
      ]
     },
     "execution_count": 56,
     "metadata": {},
     "output_type": "execute_result"
    }
   ],
   "source": [
    "#value counts \n",
    "\n",
    "df['Analysis'].value_counts()"
   ]
  },
  {
   "cell_type": "code",
   "execution_count": 59,
   "metadata": {
    "colab": {},
    "colab_type": "code",
    "id": "mdGvpOm-yXDh",
    "outputId": "e226f536-da42-46ca-a571-a37c508f5db7"
   },
   "outputs": [
    {
     "data": {
      "image/png": "[encoded data removed]",
      "text/plain": [
       "<Figure size 432x288 with 1 Axes>"
      ]
     },
     "metadata": {},
     "output_type": "display_data"
    }
   ],
   "source": [
    "#plot the graph\n",
    "\n",
    "plt.title('sentiment analysis')\n",
    "plt.xlabel('Sentiment')\n",
    "plt.ylabel('counts')\n",
    "df['Analysis'].value_counts().plot(kind='bar')\n",
    "plt.show()"
   ]
  },
  {
   "cell_type": "code",
   "execution_count": 60,
   "metadata": {
    "colab": {},
    "colab_type": "code",
    "id": "58lAziOoyXDk",
    "outputId": "d4a2d347-02fa-4734-b55b-e62255282686"
   },
   "outputs": [
    {
     "name": "stdout",
     "output_type": "stream",
     "text": [
      "How people are reacting on ram mandir by analyzing 2000 Tweets : \n"
     ]
    },
    {
     "data": {
      "image/png": "[encoded data removed]",
      "text/plain": [
       "<Figure size 432x288 with 1 Axes>"
      ]
     },
     "metadata": {},
     "output_type": "display_data"
    }
   ],
   "source": [
    "import matplotlib.pyplot as plt\n",
    "\n",
    "print(\"How people are reacting on \" + searchTerm + \" by analyzing \" + str(noofsearch) + \" Tweets : \")\n",
    "\n",
    "labels=[r'Positive['+str(p)+'%]',r'Neutral['+str(ne)+'%]', r'Negative['+str(n)+'%]']\n",
    "sizes = [n, ne, p]\n",
    "fig1, ax1 = plt.subplots()\n",
    "ax1.pie(sizes, labels=labels, autopct='%1.1f%%',\n",
    "         startangle=90)\n",
    "ax1.axis('equal')  # Equal aspect ratio ensures that pie is drawn as a circle.\n",
    "plt.legend(loc=\"center\")\n",
    "plt.tight_layout()\n",
    "plt.show()\n"
   ]
  },
  {
   "cell_type": "code",
   "execution_count": 61,
   "metadata": {
    "colab": {},
    "colab_type": "code",
    "id": "oXiLc519yXDm",
    "outputId": "1c84179c-56ee-428a-f014-045a2d6aad66"
   },
   "outputs": [
    {
     "data": {
      "image/png": "[encoded data removed]",
      "text/plain": [
       "<Figure size 1008x288 with 1 Axes>"
      ]
     },
     "metadata": {},
     "output_type": "display_data"
    }
   ],
   "source": [
    "time_likes = pd.Series(data=df['likes'].values, index=df['date'])\n",
    "time_likes.plot(figsize=(16,4), label= \"likes\", legend= True, color = 'r')\n",
    "time_retweets = pd.Series(data=df['retweets'].values, index=df['date'])\n",
    "time_retweets.plot(figsize=(14,4), label= \"retweets\", legend= True, color = 'b')\n",
    "plt.show()"
   ]
  },
  {
   "cell_type": "code",
   "execution_count": null,
   "metadata": {
    "colab": {},
    "colab_type": "code",
    "id": "GAOLL2QhyXDq"
   },
   "outputs": [],
   "source": []
  },
  {
   "cell_type": "code",
   "execution_count": null,
   "metadata": {},
   "outputs": [],
   "source": []
  }
 ],
 "metadata": {
  "colab": {
   "name": "Sentimentprojectv5.ipynb",
   "provenance": []
  },
  "kernelspec": {
   "display_name": "Python 3",
   "language": "python",
   "name": "python3"
  },
  "language_info": {
   "codemirror_mode": {
    "name": "ipython",
    "version": 3
   },
   "file_extension": ".py",
   "mimetype": "text/x-python",
   "name": "python",
   "nbconvert_exporter": "python",
   "pygments_lexer": "ipython3",
   "version": "3.8.3"
  }
 },
 "nbformat": 4,
 "nbformat_minor": 1
}
